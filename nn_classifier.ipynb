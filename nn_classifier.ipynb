{
 "cells": [
  {
   "cell_type": "markdown",
   "id": "4a50fe7d",
   "metadata": {},
   "source": [
    "# Neural Network Classifier \n",
    "\n",
    "We are going to build a PyTorch neural network classifier using scRNAseq data. \n",
    "\n",
    "Helpful link:\n",
    "Interfacing pytorch models with anndata: https://anndata.readthedocs.io/en/latest/tutorials/notebooks/annloader.html\n",
    "\n",
    "Possibly helpful about speeding up pytorch modeling: https://sebastianraschka.com/blog/2023/pytorch-faster.html\n",
    "\n",
    "This program will:\n",
    "\n",
    "- pull in scRNAseq data from cell_census\n",
    "- wrangle the data for modelling\n",
    "- appply the NN\n",
    "\n",
    "At first, we're just going to pick some data from cell_census. Once we get the basics we will modify to select the exact data we want.\n"
   ]
  },
  {
   "cell_type": "code",
   "execution_count": null,
   "id": "0e688248",
   "metadata": {},
   "outputs": [],
   "source": []
  },
  {
   "cell_type": "code",
   "execution_count": null,
   "id": "5c21e63e",
   "metadata": {},
   "outputs": [],
   "source": []
  },
  {
   "cell_type": "code",
   "execution_count": 7,
   "id": "2fd3b5b7",
   "metadata": {},
   "outputs": [],
   "source": [
    "import cell_census\n",
    "import anndata as ad\n",
    "\n",
    "import torch\n",
    "import torch.nn"
   ]
  },
  {
   "cell_type": "markdown",
   "id": "e1282361",
   "metadata": {},
   "source": [
    "## Read in the data\n",
    "\n",
    "We are somewhat randomly selecting the data now, but will come back and update this later. Let's just get something working."
   ]
  },
  {
   "cell_type": "code",
   "execution_count": 3,
   "id": "af8cdd9f",
   "metadata": {},
   "outputs": [],
   "source": [
    "census = cell_census.open_soma(census_version=\"latest\")\n"
   ]
  },
  {
   "cell_type": "code",
   "execution_count": 4,
   "id": "afbabdef",
   "metadata": {},
   "outputs": [
    {
     "data": {
      "text/plain": [
       "AnnData object with n_obs × n_vars = 57747 × 60664\n",
       "    obs: 'sex', 'tissue_ontology_term_id', 'assay'\n",
       "    var: 'soma_joinid', 'feature_id', 'feature_name', 'feature_length'"
      ]
     },
     "metadata": {},
     "output_type": "display_data"
    }
   ],
   "source": [
    "adata = cell_census.get_anndata(\n",
    "        census=census,\n",
    "        organism = \"Homo sapiens\",\n",
    "        obs_value_filter = 'tissue_ontology_term_id == \"UBERON:0002299\" and assay == \"10x 3\\' v3\"',\n",
    "        column_names={\"obs\": [\"sex\"]},\n",
    "        )\n",
    "\n",
    "display(adata)"
   ]
  },
  {
   "cell_type": "code",
   "execution_count": 5,
   "id": "bd3bf6e1",
   "metadata": {},
   "outputs": [
    {
     "data": {
      "text/plain": [
       "<57747x60664 sparse matrix of type '<class 'numpy.float32'>'\n",
       "\twith 136730898 stored elements in Compressed Sparse Row format>"
      ]
     },
     "execution_count": 5,
     "metadata": {},
     "output_type": "execute_result"
    }
   ],
   "source": [
    "adata.X"
   ]
  },
  {
   "cell_type": "code",
   "execution_count": null,
   "id": "2615f2f8",
   "metadata": {},
   "outputs": [],
   "source": []
  }
 ],
 "metadata": {
  "kernelspec": {
   "display_name": "venv",
   "language": "python",
   "name": "venv"
  },
  "language_info": {
   "codemirror_mode": {
    "name": "ipython",
    "version": 3
   },
   "file_extension": ".py",
   "mimetype": "text/x-python",
   "name": "python",
   "nbconvert_exporter": "python",
   "pygments_lexer": "ipython3",
   "version": "3.8.16"
  }
 },
 "nbformat": 4,
 "nbformat_minor": 5
}
