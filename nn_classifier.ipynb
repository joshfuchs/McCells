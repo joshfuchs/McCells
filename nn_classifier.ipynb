{
 "cells": [
  {
   "cell_type": "markdown",
   "id": "4a50fe7d",
   "metadata": {},
   "source": [
    "# Neural Network Classifier \n",
    "\n",
    "We are going to build a PyTorch neural network classifier using scRNAseq data. \n",
    "\n",
    "Helpful link:\n",
    "Interfacing pytorch models with anndata: https://anndata.readthedocs.io/en/latest/tutorials/notebooks/annloader.html\n",
    "\n",
    "Possibly helpful about speeding up pytorch modeling: https://sebastianraschka.com/blog/2023/pytorch-faster.html\n",
    "\n",
    "This program will:\n",
    "\n",
    "- pull in scRNAseq data from cell_census\n",
    "- wrangle the data for modelling\n",
    "- appply the NN\n",
    "\n",
    "At first, we're just going to pick some data from cell_census. Once we get the basics we will modify to select the exact data we want.\n",
    "\n",
    "\n",
    "## To Do:\n",
    "\n",
    "- add batch summarization and RELU for each layer\n",
    "- add model.trend() and model.eval()\n",
    "- train, test, holdout and cross validation\n",
    "- feature engineering to remove useless features\n",
    "\n",
    "## Done:\n",
    "- use softmax for final layer\n",
    "- use Cross entropy loss\n",
    "- try ADAM optimizer, adjust learning rate\n",
    "- plot loss curve\n",
    "\n"
   ]
  },
  {
   "cell_type": "code",
   "execution_count": null,
   "id": "0e688248",
   "metadata": {},
   "outputs": [],
   "source": []
  },
  {
   "cell_type": "code",
   "execution_count": null,
   "id": "5c21e63e",
   "metadata": {},
   "outputs": [],
   "source": []
  },
  {
   "cell_type": "code",
   "execution_count": 39,
   "id": "2fd3b5b7",
   "metadata": {},
   "outputs": [],
   "source": [
    "import cell_census\n",
    "import anndata as ad\n",
    "\n",
    "import numpy as np\n",
    "\n",
    "import torch\n",
    "import torch.nn as nn\n",
    "import torch.nn.functional as F\n",
    "\n",
    "from sklearn.preprocessing import LabelEncoder\n",
    "from sklearn.model_selection import train_test_split\n",
    "\n",
    "import matplotlib.pyplot as plt\n",
    "import seaborn as sns\n",
    "\n",
    "sns.set_style(style='whitegrid')\n",
    "sns.set_context(context='notebook')\n",
    "plt.rc('figure', autolayout=True)\n",
    "plt.rc(\n",
    "    'axes',\n",
    "    labelweight='bold',\n",
    "    labelsize='large',\n",
    "    titleweight='bold',\n",
    "    titlesize=9,\n",
    "    linewidth=4\n",
    "    )\n",
    "\n",
    "%matplotlib inline"
   ]
  },
  {
   "cell_type": "code",
   "execution_count": 2,
   "id": "31f537ba",
   "metadata": {},
   "outputs": [
    {
     "name": "stdout",
     "output_type": "stream",
     "text": [
      "cpu\n"
     ]
    }
   ],
   "source": [
    "device = torch.device(\"cuda:0\" if torch.cuda.is_available() else \"cpu\")\n",
    "print(device)"
   ]
  },
  {
   "cell_type": "markdown",
   "id": "e1282361",
   "metadata": {},
   "source": [
    "## Read in the data\n",
    "\n",
    "We are somewhat randomly selecting the data now, but will come back and update this later. Let's just get something working.\n",
    "\n",
    "Using ```self_reported_ethnicity``` for the target value because there are 16 unique values, so we have a multi-class classification problem, which will match our eventual goal."
   ]
  },
  {
   "cell_type": "code",
   "execution_count": 3,
   "id": "af8cdd9f",
   "metadata": {},
   "outputs": [],
   "source": [
    "census = cell_census.open_soma(census_version=\"latest\")\n"
   ]
  },
  {
   "cell_type": "code",
   "execution_count": 4,
   "id": "5cfa258d",
   "metadata": {},
   "outputs": [],
   "source": [
    "#  obs_value_filter = 'tissue_ontology_term_id == \"UBERON:0002299\" and assay == \"10x 3\\' v3\"',\n"
   ]
  },
  {
   "cell_type": "code",
   "execution_count": 5,
   "id": "afbabdef",
   "metadata": {},
   "outputs": [
    {
     "data": {
      "text/plain": [
       "AnnData object with n_obs × n_vars = 57747 × 60664\n",
       "    obs: 'development_stage', 'tissue_ontology_term_id', 'assay'\n",
       "    var: 'soma_joinid', 'feature_id', 'feature_name', 'feature_length'"
      ]
     },
     "metadata": {},
     "output_type": "display_data"
    }
   ],
   "source": [
    "adata = cell_census.get_anndata(\n",
    "        census=census,\n",
    "        organism = \"Homo sapiens\",\n",
    "        obs_value_filter = 'tissue_ontology_term_id == \"UBERON:0002299\" and assay == \"10x 3\\' v3\"',\n",
    "        column_names={\"obs\": [\"development_stage\"]},\n",
    "        )\n",
    "\n",
    "display(adata)"
   ]
  },
  {
   "cell_type": "code",
   "execution_count": 6,
   "id": "bd3bf6e1",
   "metadata": {},
   "outputs": [
    {
     "data": {
      "text/plain": [
       "<57747x60664 sparse matrix of type '<class 'numpy.float32'>'\n",
       "\twith 136730898 stored elements in Compressed Sparse Row format>"
      ]
     },
     "execution_count": 6,
     "metadata": {},
     "output_type": "execute_result"
    }
   ],
   "source": [
    "# the data is stored in adata.X\n",
    "adata.X"
   ]
  },
  {
   "cell_type": "markdown",
   "id": "48576d94",
   "metadata": {},
   "source": [
    "Only 3.9% of the entries have values."
   ]
  },
  {
   "cell_type": "code",
   "execution_count": 7,
   "id": "946d71cb",
   "metadata": {},
   "outputs": [
    {
     "data": {
      "text/plain": [
       "60664"
      ]
     },
     "execution_count": 7,
     "metadata": {},
     "output_type": "execute_result"
    }
   ],
   "source": [
    "# find the number of features (genes)\n",
    "\n",
    "adata.X.shape[1]\n",
    "\n",
    "# returns 2.0\n",
    "#adata.X[0,40]"
   ]
  },
  {
   "cell_type": "markdown",
   "id": "01efd1c5",
   "metadata": {},
   "source": [
    "## Encode and Split the Data to prepare for modeling\n",
    "\n",
    "Encode the label values, then split the data into testing and training sets, then put into PyTorch Tensors.\n",
    "\n",
    "Using self_reported_ethnicity for the labels"
   ]
  },
  {
   "cell_type": "code",
   "execution_count": 8,
   "id": "2615f2f8",
   "metadata": {},
   "outputs": [],
   "source": [
    "# select the labels. \n",
    "labels = adata.obs"
   ]
  },
  {
   "cell_type": "code",
   "execution_count": 9,
   "id": "063c8dd7",
   "metadata": {},
   "outputs": [
    {
     "data": {
      "text/html": [
       "<div>\n",
       "<style scoped>\n",
       "    .dataframe tbody tr th:only-of-type {\n",
       "        vertical-align: middle;\n",
       "    }\n",
       "\n",
       "    .dataframe tbody tr th {\n",
       "        vertical-align: top;\n",
       "    }\n",
       "\n",
       "    .dataframe thead th {\n",
       "        text-align: right;\n",
       "    }\n",
       "</style>\n",
       "<table border=\"1\" class=\"dataframe\">\n",
       "  <thead>\n",
       "    <tr style=\"text-align: right;\">\n",
       "      <th></th>\n",
       "      <th>development_stage</th>\n",
       "      <th>tissue_ontology_term_id</th>\n",
       "      <th>assay</th>\n",
       "    </tr>\n",
       "  </thead>\n",
       "  <tbody>\n",
       "    <tr>\n",
       "      <th>0</th>\n",
       "      <td>63-year-old human stage</td>\n",
       "      <td>UBERON:0002299</td>\n",
       "      <td>10x 3' v3</td>\n",
       "    </tr>\n",
       "    <tr>\n",
       "      <th>1</th>\n",
       "      <td>63-year-old human stage</td>\n",
       "      <td>UBERON:0002299</td>\n",
       "      <td>10x 3' v3</td>\n",
       "    </tr>\n",
       "    <tr>\n",
       "      <th>2</th>\n",
       "      <td>63-year-old human stage</td>\n",
       "      <td>UBERON:0002299</td>\n",
       "      <td>10x 3' v3</td>\n",
       "    </tr>\n",
       "    <tr>\n",
       "      <th>3</th>\n",
       "      <td>63-year-old human stage</td>\n",
       "      <td>UBERON:0002299</td>\n",
       "      <td>10x 3' v3</td>\n",
       "    </tr>\n",
       "    <tr>\n",
       "      <th>4</th>\n",
       "      <td>63-year-old human stage</td>\n",
       "      <td>UBERON:0002299</td>\n",
       "      <td>10x 3' v3</td>\n",
       "    </tr>\n",
       "  </tbody>\n",
       "</table>\n",
       "</div>"
      ],
      "text/plain": [
       "         development_stage tissue_ontology_term_id      assay\n",
       "0  63-year-old human stage          UBERON:0002299  10x 3' v3\n",
       "1  63-year-old human stage          UBERON:0002299  10x 3' v3\n",
       "2  63-year-old human stage          UBERON:0002299  10x 3' v3\n",
       "3  63-year-old human stage          UBERON:0002299  10x 3' v3\n",
       "4  63-year-old human stage          UBERON:0002299  10x 3' v3"
      ]
     },
     "execution_count": 9,
     "metadata": {},
     "output_type": "execute_result"
    }
   ],
   "source": [
    "labels.head()"
   ]
  },
  {
   "cell_type": "code",
   "execution_count": 10,
   "id": "c36b28b4",
   "metadata": {},
   "outputs": [
    {
     "data": {
      "text/plain": [
       "63-year-old human stage    19164\n",
       "73-year-old human stage    11752\n",
       "65-year-old human stage    11743\n",
       "61-year-old human stage     8312\n",
       "60-year-old human stage     6776\n",
       "Name: development_stage, dtype: int64"
      ]
     },
     "execution_count": 10,
     "metadata": {},
     "output_type": "execute_result"
    }
   ],
   "source": [
    "labels['development_stage'].value_counts()"
   ]
  },
  {
   "cell_type": "code",
   "execution_count": 11,
   "id": "bd717b94",
   "metadata": {},
   "outputs": [
    {
     "data": {
      "text/html": [
       "<div>\n",
       "<style scoped>\n",
       "    .dataframe tbody tr th:only-of-type {\n",
       "        vertical-align: middle;\n",
       "    }\n",
       "\n",
       "    .dataframe tbody tr th {\n",
       "        vertical-align: top;\n",
       "    }\n",
       "\n",
       "    .dataframe thead th {\n",
       "        text-align: right;\n",
       "    }\n",
       "</style>\n",
       "<table border=\"1\" class=\"dataframe\">\n",
       "  <thead>\n",
       "    <tr style=\"text-align: right;\">\n",
       "      <th></th>\n",
       "      <th>development_stage</th>\n",
       "      <th>tissue_ontology_term_id</th>\n",
       "      <th>assay</th>\n",
       "      <th>encoded_labels</th>\n",
       "    </tr>\n",
       "  </thead>\n",
       "  <tbody>\n",
       "    <tr>\n",
       "      <th>0</th>\n",
       "      <td>63-year-old human stage</td>\n",
       "      <td>UBERON:0002299</td>\n",
       "      <td>10x 3' v3</td>\n",
       "      <td>2</td>\n",
       "    </tr>\n",
       "    <tr>\n",
       "      <th>1</th>\n",
       "      <td>63-year-old human stage</td>\n",
       "      <td>UBERON:0002299</td>\n",
       "      <td>10x 3' v3</td>\n",
       "      <td>2</td>\n",
       "    </tr>\n",
       "    <tr>\n",
       "      <th>2</th>\n",
       "      <td>63-year-old human stage</td>\n",
       "      <td>UBERON:0002299</td>\n",
       "      <td>10x 3' v3</td>\n",
       "      <td>2</td>\n",
       "    </tr>\n",
       "    <tr>\n",
       "      <th>3</th>\n",
       "      <td>63-year-old human stage</td>\n",
       "      <td>UBERON:0002299</td>\n",
       "      <td>10x 3' v3</td>\n",
       "      <td>2</td>\n",
       "    </tr>\n",
       "    <tr>\n",
       "      <th>4</th>\n",
       "      <td>63-year-old human stage</td>\n",
       "      <td>UBERON:0002299</td>\n",
       "      <td>10x 3' v3</td>\n",
       "      <td>2</td>\n",
       "    </tr>\n",
       "    <tr>\n",
       "      <th>5</th>\n",
       "      <td>63-year-old human stage</td>\n",
       "      <td>UBERON:0002299</td>\n",
       "      <td>10x 3' v3</td>\n",
       "      <td>2</td>\n",
       "    </tr>\n",
       "    <tr>\n",
       "      <th>6</th>\n",
       "      <td>63-year-old human stage</td>\n",
       "      <td>UBERON:0002299</td>\n",
       "      <td>10x 3' v3</td>\n",
       "      <td>2</td>\n",
       "    </tr>\n",
       "    <tr>\n",
       "      <th>7</th>\n",
       "      <td>63-year-old human stage</td>\n",
       "      <td>UBERON:0002299</td>\n",
       "      <td>10x 3' v3</td>\n",
       "      <td>2</td>\n",
       "    </tr>\n",
       "    <tr>\n",
       "      <th>8</th>\n",
       "      <td>63-year-old human stage</td>\n",
       "      <td>UBERON:0002299</td>\n",
       "      <td>10x 3' v3</td>\n",
       "      <td>2</td>\n",
       "    </tr>\n",
       "    <tr>\n",
       "      <th>9</th>\n",
       "      <td>63-year-old human stage</td>\n",
       "      <td>UBERON:0002299</td>\n",
       "      <td>10x 3' v3</td>\n",
       "      <td>2</td>\n",
       "    </tr>\n",
       "  </tbody>\n",
       "</table>\n",
       "</div>"
      ],
      "text/plain": [
       "         development_stage tissue_ontology_term_id      assay  encoded_labels\n",
       "0  63-year-old human stage          UBERON:0002299  10x 3' v3               2\n",
       "1  63-year-old human stage          UBERON:0002299  10x 3' v3               2\n",
       "2  63-year-old human stage          UBERON:0002299  10x 3' v3               2\n",
       "3  63-year-old human stage          UBERON:0002299  10x 3' v3               2\n",
       "4  63-year-old human stage          UBERON:0002299  10x 3' v3               2\n",
       "5  63-year-old human stage          UBERON:0002299  10x 3' v3               2\n",
       "6  63-year-old human stage          UBERON:0002299  10x 3' v3               2\n",
       "7  63-year-old human stage          UBERON:0002299  10x 3' v3               2\n",
       "8  63-year-old human stage          UBERON:0002299  10x 3' v3               2\n",
       "9  63-year-old human stage          UBERON:0002299  10x 3' v3               2"
      ]
     },
     "execution_count": 11,
     "metadata": {},
     "output_type": "execute_result"
    }
   ],
   "source": [
    "lb = LabelEncoder()\n",
    "labels['encoded_labels'] = lb.fit_transform(labels['development_stage'])\n",
    "labels.head(10)"
   ]
  },
  {
   "cell_type": "code",
   "execution_count": 12,
   "id": "dac034b8",
   "metadata": {},
   "outputs": [
    {
     "data": {
      "text/plain": [
       "5"
      ]
     },
     "execution_count": 12,
     "metadata": {},
     "output_type": "execute_result"
    }
   ],
   "source": [
    "# find the number of unique labels\n",
    "labels['encoded_labels'].nunique()"
   ]
  },
  {
   "cell_type": "code",
   "execution_count": 13,
   "id": "d7254cd1",
   "metadata": {},
   "outputs": [],
   "source": [
    "y_data = labels['encoded_labels']"
   ]
  },
  {
   "cell_type": "code",
   "execution_count": 14,
   "id": "b7cd1931",
   "metadata": {},
   "outputs": [],
   "source": [
    "x_data = adata.X.copy()"
   ]
  },
  {
   "cell_type": "code",
   "execution_count": 15,
   "id": "f39e9f1f",
   "metadata": {},
   "outputs": [
    {
     "data": {
      "text/plain": [
       "(57747,)"
      ]
     },
     "execution_count": 15,
     "metadata": {},
     "output_type": "execute_result"
    }
   ],
   "source": [
    "y_data.shape"
   ]
  },
  {
   "cell_type": "code",
   "execution_count": 16,
   "id": "48626328",
   "metadata": {},
   "outputs": [
    {
     "data": {
      "text/plain": [
       "<57747x60664 sparse matrix of type '<class 'numpy.float32'>'\n",
       "\twith 136730898 stored elements in Compressed Sparse Row format>"
      ]
     },
     "execution_count": 16,
     "metadata": {},
     "output_type": "execute_result"
    }
   ],
   "source": [
    "x_data"
   ]
  },
  {
   "cell_type": "code",
   "execution_count": 17,
   "id": "150ea631",
   "metadata": {},
   "outputs": [],
   "source": [
    "# create training and testing sets here\n",
    "\n",
    "# using a very small train size to speed up development for now\n",
    "\n",
    "\n",
    "X_train, X_test, y_train, y_test = train_test_split(x_data,y_data,\n",
    "                                                   train_size = 0.1)\n"
   ]
  },
  {
   "cell_type": "code",
   "execution_count": 18,
   "id": "8d7d6644",
   "metadata": {},
   "outputs": [],
   "source": [
    "# convert the data to tensors\n",
    "# we'll change the data from CSR (compressed sparse row) format\n",
    "# to COO (coordinate) format for better use with pytorch\n",
    "# see https://pytorch.org/docs/stable/sparse.html for some details/thoughts\n",
    "\n",
    "\n",
    "\n",
    "X_train_coo = X_train.tocoo()\n",
    "\n",
    "X_train = torch.sparse.LongTensor(torch.LongTensor([X_train_coo.row.tolist(),X_train_coo.col.tolist()]),\n",
    "                                 torch.LongTensor(X_train_coo.data.astype(np.float32)))\n",
    "\n",
    "# y_train is a Series, so it is easier to convert to a tensor\n",
    "y_train = torch.tensor(y_train, dtype=torch.long)\n",
    "\n",
    "\n",
    "\n",
    "# and the same for the test set\n",
    "X_test_coo = X_test.tocoo()\n",
    "\n",
    "X_test = torch.sparse.LongTensor(torch.LongTensor([X_test_coo.row.tolist(),X_test_coo.col.tolist()]),\n",
    "                                 torch.LongTensor(X_test_coo.data.astype(np.float32)))\n",
    "\n",
    "# y_train is a Series, so it is easier to convert to a tensor\n",
    "y_test = torch.tensor(y_test, dtype=torch.long)\n",
    "\n"
   ]
  },
  {
   "cell_type": "code",
   "execution_count": null,
   "id": "f949f64d",
   "metadata": {},
   "outputs": [],
   "source": []
  },
  {
   "cell_type": "code",
   "execution_count": 19,
   "id": "00708ed1",
   "metadata": {},
   "outputs": [
    {
     "data": {
      "text/plain": [
       "tensor(indices=tensor([[    0,     0,     0,  ...,  5773,  5773,  5773],\n",
       "                       [   11,    16,    25,  ..., 21455, 21859, 26270]]),\n",
       "       values=tensor([ 1, 17,  1,  ...,  1,  1,  1]),\n",
       "       size=(5774, 56710), nnz=13617125, layout=torch.sparse_coo)"
      ]
     },
     "execution_count": 19,
     "metadata": {},
     "output_type": "execute_result"
    }
   ],
   "source": [
    "X_train"
   ]
  },
  {
   "cell_type": "code",
   "execution_count": 20,
   "id": "d2f347e9",
   "metadata": {},
   "outputs": [
    {
     "data": {
      "text/plain": [
       "tensor([2, 2, 4,  ..., 2, 4, 2])"
      ]
     },
     "execution_count": 20,
     "metadata": {},
     "output_type": "execute_result"
    }
   ],
   "source": [
    "y_train"
   ]
  },
  {
   "cell_type": "markdown",
   "id": "931e0ee6",
   "metadata": {},
   "source": [
    "## Build Neural Network Classifier\n",
    "\n",
    "based on https://medium.com/analytics-vidhya/a-simple-neural-network-classifier-using-pytorch-from-scratch-7ebb477422d2"
   ]
  },
  {
   "cell_type": "code",
   "execution_count": 21,
   "id": "4a7b0114",
   "metadata": {},
   "outputs": [
    {
     "data": {
      "text/plain": [
       "5"
      ]
     },
     "execution_count": 21,
     "metadata": {},
     "output_type": "execute_result"
    }
   ],
   "source": [
    "test_size = torch.unique(y_train).size(dim=0)\n",
    "\n",
    "test_size"
   ]
  },
  {
   "cell_type": "code",
   "execution_count": 22,
   "id": "393eb73b",
   "metadata": {},
   "outputs": [],
   "source": [
    "# number of features (len of X cols)\n",
    "# select the number of gene columns\n",
    "input_dim = X_train.size(dim=1) #adata.X.shape[1] \n",
    "\n",
    "# number of hidden layers\n",
    "hidden_layers = 2\n",
    "\n",
    "# number of classes (unique of y)\n",
    "output_dim = torch.unique(y_train).size(dim=0) #labels['encoded_labels'].nunique()"
   ]
  },
  {
   "cell_type": "code",
   "execution_count": 23,
   "id": "90a67428",
   "metadata": {},
   "outputs": [
    {
     "name": "stdout",
     "output_type": "stream",
     "text": [
      "56710 2 5\n"
     ]
    }
   ],
   "source": [
    "print(input_dim,hidden_layers,output_dim)"
   ]
  },
  {
   "cell_type": "code",
   "execution_count": 24,
   "id": "ad69ba11",
   "metadata": {},
   "outputs": [],
   "source": [
    "class Network(nn.Module):\n",
    "    def __init__(self):\n",
    "        super(Network, self).__init__()\n",
    "        self.linear1 = nn.Linear(input_dim,hidden_layers)\n",
    "        self.linear2 = nn.Linear(hidden_layers,output_dim)\n",
    "        \n",
    "    def forward(self,x):\n",
    "        x = self.linear1(x)\n",
    "        x = torch.sigmoid(x)\n",
    "        x = self.linear2(x)\n",
    "        x = F.softmax(x,dim=1)\n",
    "        return x"
   ]
  },
  {
   "cell_type": "code",
   "execution_count": 25,
   "id": "a45108e4",
   "metadata": {},
   "outputs": [],
   "source": [
    "# initialize network\n",
    "\n",
    "clf = Network()"
   ]
  },
  {
   "cell_type": "code",
   "execution_count": 26,
   "id": "9225c37f",
   "metadata": {},
   "outputs": [],
   "source": [
    "# define loss and optimizer\n",
    "criterion = nn.CrossEntropyLoss()\n",
    "optimizer = torch.optim.Adam(clf.parameters(), lr=1e-3)"
   ]
  },
  {
   "cell_type": "code",
   "execution_count": 45,
   "id": "4a4b6e3c",
   "metadata": {},
   "outputs": [],
   "source": [
    "epochs = 100\n",
    "loss_vals = []\n",
    "\n",
    "for epoch in range(epochs):\n",
    "    running_loss = 0.0\n",
    "\n",
    "    # set optimizer to zero grad to remove previous epoch gradients\n",
    "    optimizer.zero_grad()\n",
    "  \n",
    "    # forward propagation\n",
    "    outputs = clf(X_train.float())\n",
    "    loss = criterion(outputs, y_train)\n",
    "    \n",
    "    # backward propagation\n",
    "    loss.backward()\n",
    "    \n",
    "    # save loss\n",
    "    loss_vals.append(loss.item())\n",
    "    \n",
    "    # optimize\n",
    "    optimizer.step()\n",
    "    running_loss += loss.item()\n",
    "    \n",
    "    # display statistics\n",
    "    #print(f'[{epoch + 1}] loss: {running_loss:.8f}')\n",
    "\n"
   ]
  },
  {
   "cell_type": "code",
   "execution_count": 46,
   "id": "9606deac",
   "metadata": {},
   "outputs": [
    {
     "data": {
      "image/png": "[encoded data removed]",
      "text/plain": [
       "<Figure size 640x480 with 1 Axes>"
      ]
     },
     "metadata": {},
     "output_type": "display_data"
    }
   ],
   "source": [
    "# plot the loss\n",
    "\n",
    "plt.plot(range(epochs),loss_vals,'x')\n",
    "plt.show()"
   ]
  },
  {
   "cell_type": "code",
   "execution_count": 49,
   "id": "d3e7b7d8",
   "metadata": {},
   "outputs": [
    {
     "name": "stdout",
     "output_type": "stream",
     "text": [
      "Model Predictions on test data: \n",
      "tensor([4, 4, 4,  ..., 4, 4, 4])\n"
     ]
    }
   ],
   "source": [
    "# make predictions on the test data\n",
    "\n",
    "pred_model = clf(X_test.float())\n",
    "_, y_pred = pred_model.max(1)\n",
    "print('Model Predictions on test data: ')\n",
    "print(y_pred)"
   ]
  },
  {
   "cell_type": "code",
   "execution_count": 50,
   "id": "b4a234b6",
   "metadata": {},
   "outputs": [
    {
     "data": {
      "text/plain": [
       "(tensor([4]), tensor([51973]))"
      ]
     },
     "execution_count": 50,
     "metadata": {},
     "output_type": "execute_result"
    }
   ],
   "source": [
    "torch.unique(y_pred, return_counts=True)"
   ]
  },
  {
   "cell_type": "code",
   "execution_count": 51,
   "id": "8588e2fe",
   "metadata": {},
   "outputs": [
    {
     "name": "stdout",
     "output_type": "stream",
     "text": [
      "Model accuracy:  0.2033940699978835\n"
     ]
    }
   ],
   "source": [
    "# CHECK MODEL ACCURARY\n",
    "\n",
    "correct = (y_test == y_pred).sum().item()\n",
    "acc = correct / len(X_test)\n",
    "print('Model accuracy: ', acc)"
   ]
  },
  {
   "cell_type": "markdown",
   "id": "29fe21c7",
   "metadata": {},
   "source": [
    "### Test the model\n",
    "\n",
    "Most of this work is based on https://medium.com/analytics-vidhya/a-simple-neural-network-classifier-using-pytorch-from-scratch-7ebb477422d2\n",
    "\n",
    "**Check the torch.max line. Why do we do this/is it needed?**"
   ]
  },
  {
   "cell_type": "code",
   "execution_count": 34,
   "id": "a810ce29",
   "metadata": {},
   "outputs": [
    {
     "name": "stdout",
     "output_type": "stream",
     "text": [
      "tensor([3, 3, 3,  ..., 3, 3, 3])\n"
     ]
    }
   ],
   "source": [
    "outputs_test = clf(X_test.float())\n",
    "__, predicted = torch.max(outputs_test,1)\n",
    "print(predicted)"
   ]
  },
  {
   "cell_type": "code",
   "execution_count": 38,
   "id": "f1d537ad",
   "metadata": {},
   "outputs": [
    {
     "data": {
      "text/plain": [
       "(tensor([3, 4]), tensor([51507,   466]))"
      ]
     },
     "execution_count": 38,
     "metadata": {},
     "output_type": "execute_result"
    }
   ],
   "source": [
    "torch.unique(predicted, return_counts=True)"
   ]
  },
  {
   "cell_type": "code",
   "execution_count": 39,
   "id": "89b8e184",
   "metadata": {},
   "outputs": [
    {
     "data": {
      "text/plain": [
       "0.9082525127843414"
      ]
     },
     "execution_count": 39,
     "metadata": {},
     "output_type": "execute_result"
    }
   ],
   "source": [
    "51507/56710"
   ]
  },
  {
   "cell_type": "code",
   "execution_count": 35,
   "id": "c182fec7",
   "metadata": {},
   "outputs": [
    {
     "name": "stdout",
     "output_type": "stream",
     "text": [
      "Accuracy of the network on the test data: 20 %\n"
     ]
    }
   ],
   "source": [
    "correct, total = 0, 0\n",
    "\n",
    "with torch.no_grad():\n",
    "    # calculate output by running through the network\n",
    "    outputs = clf(X_test.float())\n",
    "    \n",
    "    # get the predictions\n",
    "    __, predicted = torch.max(outputs.data, 1)\n",
    "    \n",
    "    # update results\n",
    "    total += y_test.size(0)\n",
    "    correct += (predicted == y_test).sum().item()\n",
    "    \n",
    "print(f'Accuracy of the network on the test data: {100 * correct // total} %')"
   ]
  },
  {
   "cell_type": "code",
   "execution_count": null,
   "id": "71a8b9fb",
   "metadata": {},
   "outputs": [],
   "source": []
  }
 ],
 "metadata": {
  "kernelspec": {
   "display_name": "venv",
   "language": "python",
   "name": "venv"
  },
  "language_info": {
   "codemirror_mode": {
    "name": "ipython",
    "version": 3
   },
   "file_extension": ".py",
   "mimetype": "text/x-python",
   "name": "python",
   "nbconvert_exporter": "python",
   "pygments_lexer": "ipython3",
   "version": "3.8.16"
  }
 },
 "nbformat": 4,
 "nbformat_minor": 5
}
