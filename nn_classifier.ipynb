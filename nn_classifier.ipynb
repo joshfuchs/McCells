{
 "cells": [
  {
   "cell_type": "markdown",
   "id": "4a50fe7d",
   "metadata": {},
   "source": [
    "# Neural Network Classifier \n",
    "\n",
    "We are going to build a PyTorch neural network classifier using scRNAseq data. \n",
    "\n",
    "Helpful link:\n",
    "Interfacing pytorch models with anndata: https://anndata.readthedocs.io/en/latest/tutorials/notebooks/annloader.html\n",
    "\n",
    "Possibly helpful about speeding up pytorch modeling: https://sebastianraschka.com/blog/2023/pytorch-faster.html\n",
    "\n",
    "This program will:\n",
    "\n",
    "- pull in scRNAseq data from cell_census\n",
    "- wrangle the data for modelling\n",
    "- appply the NN\n",
    "\n",
    "At first, we're just going to pick some data from cell_census. Once we get the basics we will modify to select the exact data we want.\n",
    "\n",
    "\n",
    "## To Do:\n",
    "\n",
    "- train, test, holdout and cross validation\n",
    "- feature engineering to remove useless features\n",
    "\n",
    "## Done:\n",
    "- use softmax for final layer\n",
    "- use Cross entropy loss\n",
    "- try ADAM optimizer, adjust learning rate\n",
    "- plot loss curve\n",
    "- use RELU for each layer\n",
    "- plot accuracy curve\n",
    "- add model.trend() and model.eval()\n",
    "- add batch summarization \n",
    "\n"
   ]
  },
  {
   "cell_type": "code",
   "execution_count": null,
   "id": "0e688248",
   "metadata": {},
   "outputs": [],
   "source": []
  },
  {
   "cell_type": "code",
   "execution_count": null,
   "id": "5c21e63e",
   "metadata": {},
   "outputs": [],
   "source": []
  },
  {
   "cell_type": "code",
   "execution_count": 1,
   "id": "2fd3b5b7",
   "metadata": {},
   "outputs": [],
   "source": [
    "import cell_census\n",
    "import anndata as ad\n",
    "\n",
    "import numpy as np\n",
    "import copy\n",
    "\n",
    "import torch\n",
    "import torch.nn as nn\n",
    "import torch.nn.functional as F\n",
    "\n",
    "from sklearn.preprocessing import LabelEncoder\n",
    "from sklearn.model_selection import train_test_split\n",
    "\n",
    "import matplotlib.pyplot as plt\n",
    "import seaborn as sns\n",
    "\n",
    "sns.set_style(style='whitegrid')\n",
    "sns.set_context(context='notebook')\n",
    "plt.rc('figure', autolayout=True)\n",
    "plt.rc(\n",
    "    'axes',\n",
    "    labelweight='bold',\n",
    "    labelsize='large',\n",
    "    titleweight='bold',\n",
    "    titlesize=9,\n",
    "    linewidth=4\n",
    "    )\n",
    "\n",
    "%matplotlib inline"
   ]
  },
  {
   "cell_type": "code",
   "execution_count": 2,
   "id": "31f537ba",
   "metadata": {},
   "outputs": [
    {
     "name": "stdout",
     "output_type": "stream",
     "text": [
      "cpu\n"
     ]
    }
   ],
   "source": [
    "device = torch.device(\"cuda:0\" if torch.cuda.is_available() else \"cpu\")\n",
    "print(device)"
   ]
  },
  {
   "cell_type": "markdown",
   "id": "e1282361",
   "metadata": {},
   "source": [
    "## Read in the data\n",
    "\n",
    "For now, we're going to select all 10X 3' V3 leukocyte and lymphocyte human data \n",
    "\n",
    "- CL:0000738 = leukocyte\n",
    "- CL:0000542 = lymphocyte\n",
    "\n",
    "\n",
    "Using ```development-stage``` for the target value because there are 6 unique values, so we have a multi-class classification problem, which will match our eventual goal. This is a place holder until we get a little further in the development of everything."
   ]
  },
  {
   "cell_type": "code",
   "execution_count": 3,
   "id": "af8cdd9f",
   "metadata": {},
   "outputs": [],
   "source": [
    "census = cell_census.open_soma(census_version=\"latest\")\n"
   ]
  },
  {
   "cell_type": "code",
   "execution_count": 16,
   "id": "152325ea",
   "metadata": {},
   "outputs": [],
   "source": [
    "def get_data(organism, obs_val_filter, col_names):\n",
    "    '''\n",
    "    This function queries data from an active cell census object.\n",
    "    \n",
    "    Assumes there is an active census object already open. Assumes you only want to query on cell metadata. \n",
    "    Gene metadata querying not currently supported.\n",
    "    \n",
    "    Parameters\n",
    "    ----------\n",
    "    organism : string\n",
    "        string containing type of organism you want to query for, i.e. 'Homo sapiens'\n",
    "        \n",
    "    obs_val_filter : string\n",
    "        string containing obs parameters values to filter on\n",
    "        \n",
    "    col_names : dictionary\n",
    "        dictionary of obs or val values to return\n",
    "        \n",
    "    Returns\n",
    "    -------\n",
    "        AnnData object\n",
    "    \n",
    "    '''\n",
    "    adata = cell_census.get_anndata(\n",
    "        census=census,\n",
    "        organism = organism,\n",
    "        obs_value_filter = obs_val_filter,\n",
    "        column_names= col_names,\n",
    "        )\n",
    "    return adata\n",
    "    "
   ]
  },
  {
   "cell_type": "code",
   "execution_count": 5,
   "id": "0fab30a6",
   "metadata": {},
   "outputs": [],
   "source": [
    "organism = \"Homo sapiens\"\n",
    "obs_val_filter = '''assay == \"10x 3\\' v3\" and cell_type_ontology_term_id in [\"CL:0000738\",\"CL:0000542\"]'''\n",
    "col_names = {\"obs\": [\"development_stage\"]}\n",
    "\n",
    "adata = get_data(organism, obs_val_filter, col_names)"
   ]
  },
  {
   "cell_type": "markdown",
   "id": "f5ea884f",
   "metadata": {},
   "source": []
  },
  {
   "cell_type": "code",
   "execution_count": 6,
   "id": "afbabdef",
   "metadata": {},
   "outputs": [
    {
     "data": {
      "text/plain": [
       "AnnData object with n_obs × n_vars = 112869 × 60664\n",
       "    obs: 'development_stage', 'assay', 'cell_type_ontology_term_id'\n",
       "    var: 'soma_joinid', 'feature_id', 'feature_name', 'feature_length'"
      ]
     },
     "metadata": {},
     "output_type": "display_data"
    }
   ],
   "source": [
    "display(adata)"
   ]
  },
  {
   "cell_type": "code",
   "execution_count": 7,
   "id": "bd3bf6e1",
   "metadata": {},
   "outputs": [
    {
     "data": {
      "text/plain": [
       "<112869x60664 sparse matrix of type '<class 'numpy.float32'>'\n",
       "\twith 143149784 stored elements in Compressed Sparse Row format>"
      ]
     },
     "execution_count": 7,
     "metadata": {},
     "output_type": "execute_result"
    }
   ],
   "source": [
    "# the data is stored in adata.X\n",
    "adata.X"
   ]
  },
  {
   "cell_type": "code",
   "execution_count": 8,
   "id": "946d71cb",
   "metadata": {},
   "outputs": [
    {
     "data": {
      "text/plain": [
       "60664"
      ]
     },
     "execution_count": 8,
     "metadata": {},
     "output_type": "execute_result"
    }
   ],
   "source": [
    "# find the number of features (genes)\n",
    "\n",
    "adata.X.shape[1]\n"
   ]
  },
  {
   "cell_type": "markdown",
   "id": "01efd1c5",
   "metadata": {},
   "source": [
    "## Encode and Split the Data into Train/Validate to prepare for modeling\n",
    "\n",
    "Encode the label values, then split the data into testing and training sets, then put into PyTorch Tensors.\n",
    "\n",
    "Using self_reported_ethnicity for the labels"
   ]
  },
  {
   "cell_type": "code",
   "execution_count": 22,
   "id": "466e4425",
   "metadata": {},
   "outputs": [],
   "source": [
    "def preprocess_data(adata, target_column):\n",
    "    '''\n",
    "    This function perfroms preprocessing on ann AnnData object to prepare it for modelling. It will encode the \n",
    "    target column and returns x_data and y_data for modelling\n",
    "    \n",
    "    \n",
    "    Parameters\n",
    "    ----------\n",
    "    adata : AnnData Object\n",
    "        existing AnnData object to perform processing on \n",
    "        \n",
    "    target_column : string\n",
    "        string of target column (from cell metadata) to encode\n",
    "        \n",
    "        \n",
    "    Returns\n",
    "    -------\n",
    "    x_data : SciPy Matrix\n",
    "        scipy sparse CSR matrix\n",
    "    \n",
    "    y_data : Series\n",
    "        Pandas Series of encoded target values\n",
    "    \n",
    "    '''\n",
    "    \n",
    "    # select the labels. \n",
    "    labels = adata.obs\n",
    "    \n",
    "    # encode the target column\n",
    "    lb = LabelEncoder()\n",
    "    labels['encoded_labels'] = lb.fit_transform(labels[target_column])\n",
    "\n",
    "    \n",
    "    x_data = adata.X.copy()\n",
    "    y_data = labels['encoded_labels']\n",
    "    \n",
    "    return(x_data,y_data)"
   ]
  },
  {
   "cell_type": "code",
   "execution_count": 23,
   "id": "0e2b67a6",
   "metadata": {},
   "outputs": [],
   "source": [
    "def split_format_data(x_data, y_data, train_size):\n",
    "    '''\n",
    "    This function splits x_data and y_data into training and validation sets, then formats the data into\n",
    "    tensors for modeling with PyTorch\n",
    "    \n",
    "    \n",
    "    Parameters\n",
    "    ----------\n",
    "    x_data : scipy matrix\n",
    "        scipy sparse CSR matrix  \n",
    "        \n",
    "    y_data : Series\n",
    "        Pandas series of encoded target values\n",
    "        \n",
    "    train_size: float\n",
    "        float between 0.0 and 1.0 to select the training fraction of the data set\n",
    "        \n",
    "        \n",
    "    Returns\n",
    "    -------\n",
    "    x_data : SciPy Matrix\n",
    "        scipy sparse CSR matrix\n",
    "    \n",
    "    y_data : Series\n",
    "        Pandas Series of encoded target values\n",
    "    \n",
    "    \n",
    "    X_train : Tensor\n",
    "        pytorch tensor of training values\n",
    "    \n",
    "    X_val : Tensor\n",
    "        pytorch tensor of validation values\n",
    "        \n",
    "    y_train : Tensor\n",
    "        pytorch tensor of training target values\n",
    "        \n",
    "    y_val : Tensor\n",
    "        pytorch tensor of validation target values\n",
    "    '''\n",
    "    \n",
    "    # split into training and validation sets\n",
    "    X_train, X_val, y_train, y_val = train_test_split(x_data,y_data,\n",
    "                                                   train_size = train_size)\n",
    "    \n",
    "    # convert the data to tensors\n",
    "    # we'll change the data from CSR (compressed sparse row) format\n",
    "    # to COO (coordinate) format for better use with pytorch\n",
    "    # see https://pytorch.org/docs/stable/sparse.html for additional details\n",
    "\n",
    "    X_train_coo = X_train.tocoo()\n",
    "\n",
    "    X_train = torch.sparse.LongTensor(torch.LongTensor([X_train_coo.row.tolist(),X_train_coo.col.tolist()]),\n",
    "                                     torch.LongTensor(X_train_coo.data.astype(np.float32)))\n",
    "\n",
    "    # y_train is a Series, so it is easier to convert to a tensor\n",
    "    y_train = torch.tensor(y_train, dtype=torch.long)\n",
    "\n",
    "\n",
    "    # and the same for the validation set\n",
    "    X_val_coo = X_val.tocoo()\n",
    "\n",
    "    X_val = torch.sparse.LongTensor(torch.LongTensor([X_val_coo.row.tolist(),X_val_coo.col.tolist()]),\n",
    "                                     torch.LongTensor(X_val_coo.data.astype(np.float32)))\n",
    "\n",
    "    # y_val is a Series, so it is easier to convert to a tensor\n",
    "    y_val = torch.tensor(y_val, dtype=torch.long)\n",
    "\n",
    "    \n",
    "    return(X_train, X_val, y_train, y_val)"
   ]
  },
  {
   "cell_type": "code",
   "execution_count": 15,
   "id": "b30d0d9b",
   "metadata": {},
   "outputs": [],
   "source": [
    "target_column = 'development_stage'\n",
    "\n",
    "x_data, y_data = preprocess_data(adata,target_column)\n",
    "\n",
    "train_size = 0.3\n",
    "\n",
    "X_train, X_val, y_train, y_val = split_format_data(x_data, y_data, train_size=0.3)\n"
   ]
  },
  {
   "cell_type": "code",
   "execution_count": null,
   "id": "621bcefd",
   "metadata": {},
   "outputs": [],
   "source": []
  },
  {
   "cell_type": "code",
   "execution_count": 7,
   "id": "2615f2f8",
   "metadata": {},
   "outputs": [],
   "source": [
    "# select the labels. \n",
    "labels = adata.obs"
   ]
  },
  {
   "cell_type": "code",
   "execution_count": 8,
   "id": "063c8dd7",
   "metadata": {},
   "outputs": [
    {
     "data": {
      "text/html": [
       "<div>\n",
       "<style scoped>\n",
       "    .dataframe tbody tr th:only-of-type {\n",
       "        vertical-align: middle;\n",
       "    }\n",
       "\n",
       "    .dataframe tbody tr th {\n",
       "        vertical-align: top;\n",
       "    }\n",
       "\n",
       "    .dataframe thead th {\n",
       "        text-align: right;\n",
       "    }\n",
       "</style>\n",
       "<table border=\"1\" class=\"dataframe\">\n",
       "  <thead>\n",
       "    <tr style=\"text-align: right;\">\n",
       "      <th></th>\n",
       "      <th>development_stage</th>\n",
       "      <th>assay</th>\n",
       "      <th>cell_type_ontology_term_id</th>\n",
       "    </tr>\n",
       "  </thead>\n",
       "  <tbody>\n",
       "    <tr>\n",
       "      <th>0</th>\n",
       "      <td>62-year-old human stage</td>\n",
       "      <td>10x 3' v3</td>\n",
       "      <td>CL:0000738</td>\n",
       "    </tr>\n",
       "    <tr>\n",
       "      <th>1</th>\n",
       "      <td>62-year-old human stage</td>\n",
       "      <td>10x 3' v3</td>\n",
       "      <td>CL:0000738</td>\n",
       "    </tr>\n",
       "    <tr>\n",
       "      <th>2</th>\n",
       "      <td>62-year-old human stage</td>\n",
       "      <td>10x 3' v3</td>\n",
       "      <td>CL:0000738</td>\n",
       "    </tr>\n",
       "    <tr>\n",
       "      <th>3</th>\n",
       "      <td>62-year-old human stage</td>\n",
       "      <td>10x 3' v3</td>\n",
       "      <td>CL:0000738</td>\n",
       "    </tr>\n",
       "    <tr>\n",
       "      <th>4</th>\n",
       "      <td>62-year-old human stage</td>\n",
       "      <td>10x 3' v3</td>\n",
       "      <td>CL:0000738</td>\n",
       "    </tr>\n",
       "  </tbody>\n",
       "</table>\n",
       "</div>"
      ],
      "text/plain": [
       "         development_stage      assay cell_type_ontology_term_id\n",
       "0  62-year-old human stage  10x 3' v3                 CL:0000738\n",
       "1  62-year-old human stage  10x 3' v3                 CL:0000738\n",
       "2  62-year-old human stage  10x 3' v3                 CL:0000738\n",
       "3  62-year-old human stage  10x 3' v3                 CL:0000738\n",
       "4  62-year-old human stage  10x 3' v3                 CL:0000738"
      ]
     },
     "execution_count": 8,
     "metadata": {},
     "output_type": "execute_result"
    }
   ],
   "source": [
    "labels.head()"
   ]
  },
  {
   "cell_type": "code",
   "execution_count": 9,
   "id": "c36b28b4",
   "metadata": {},
   "outputs": [
    {
     "data": {
      "text/plain": [
       "seventh decade human stage                  23747\n",
       "sixth decade human stage                    17581\n",
       "eighth decade human stage                   12497\n",
       "fifth decade human stage                    10029\n",
       "fourth decade human stage                    9232\n",
       "                                            ...  \n",
       "39-year-old human stage                        34\n",
       "10th week post-fertilization human stage       27\n",
       "72-year-old human stage                        18\n",
       "20th week post-fertilization human stage       13\n",
       "74-year-old human stage                         7\n",
       "Name: development_stage, Length: 77, dtype: int64"
      ]
     },
     "execution_count": 9,
     "metadata": {},
     "output_type": "execute_result"
    }
   ],
   "source": [
    "labels['development_stage'].value_counts()"
   ]
  },
  {
   "cell_type": "code",
   "execution_count": 10,
   "id": "bd717b94",
   "metadata": {},
   "outputs": [
    {
     "data": {
      "text/html": [
       "<div>\n",
       "<style scoped>\n",
       "    .dataframe tbody tr th:only-of-type {\n",
       "        vertical-align: middle;\n",
       "    }\n",
       "\n",
       "    .dataframe tbody tr th {\n",
       "        vertical-align: top;\n",
       "    }\n",
       "\n",
       "    .dataframe thead th {\n",
       "        text-align: right;\n",
       "    }\n",
       "</style>\n",
       "<table border=\"1\" class=\"dataframe\">\n",
       "  <thead>\n",
       "    <tr style=\"text-align: right;\">\n",
       "      <th></th>\n",
       "      <th>development_stage</th>\n",
       "      <th>assay</th>\n",
       "      <th>cell_type_ontology_term_id</th>\n",
       "      <th>encoded_labels</th>\n",
       "    </tr>\n",
       "  </thead>\n",
       "  <tbody>\n",
       "    <tr>\n",
       "      <th>0</th>\n",
       "      <td>62-year-old human stage</td>\n",
       "      <td>10x 3' v3</td>\n",
       "      <td>CL:0000738</td>\n",
       "      <td>40</td>\n",
       "    </tr>\n",
       "    <tr>\n",
       "      <th>1</th>\n",
       "      <td>62-year-old human stage</td>\n",
       "      <td>10x 3' v3</td>\n",
       "      <td>CL:0000738</td>\n",
       "      <td>40</td>\n",
       "    </tr>\n",
       "    <tr>\n",
       "      <th>2</th>\n",
       "      <td>62-year-old human stage</td>\n",
       "      <td>10x 3' v3</td>\n",
       "      <td>CL:0000738</td>\n",
       "      <td>40</td>\n",
       "    </tr>\n",
       "    <tr>\n",
       "      <th>3</th>\n",
       "      <td>62-year-old human stage</td>\n",
       "      <td>10x 3' v3</td>\n",
       "      <td>CL:0000738</td>\n",
       "      <td>40</td>\n",
       "    </tr>\n",
       "    <tr>\n",
       "      <th>4</th>\n",
       "      <td>62-year-old human stage</td>\n",
       "      <td>10x 3' v3</td>\n",
       "      <td>CL:0000738</td>\n",
       "      <td>40</td>\n",
       "    </tr>\n",
       "    <tr>\n",
       "      <th>5</th>\n",
       "      <td>62-year-old human stage</td>\n",
       "      <td>10x 3' v3</td>\n",
       "      <td>CL:0000738</td>\n",
       "      <td>40</td>\n",
       "    </tr>\n",
       "    <tr>\n",
       "      <th>6</th>\n",
       "      <td>62-year-old human stage</td>\n",
       "      <td>10x 3' v3</td>\n",
       "      <td>CL:0000738</td>\n",
       "      <td>40</td>\n",
       "    </tr>\n",
       "    <tr>\n",
       "      <th>7</th>\n",
       "      <td>62-year-old human stage</td>\n",
       "      <td>10x 3' v3</td>\n",
       "      <td>CL:0000738</td>\n",
       "      <td>40</td>\n",
       "    </tr>\n",
       "    <tr>\n",
       "      <th>8</th>\n",
       "      <td>62-year-old human stage</td>\n",
       "      <td>10x 3' v3</td>\n",
       "      <td>CL:0000738</td>\n",
       "      <td>40</td>\n",
       "    </tr>\n",
       "    <tr>\n",
       "      <th>9</th>\n",
       "      <td>62-year-old human stage</td>\n",
       "      <td>10x 3' v3</td>\n",
       "      <td>CL:0000738</td>\n",
       "      <td>40</td>\n",
       "    </tr>\n",
       "  </tbody>\n",
       "</table>\n",
       "</div>"
      ],
      "text/plain": [
       "         development_stage      assay cell_type_ontology_term_id  \\\n",
       "0  62-year-old human stage  10x 3' v3                 CL:0000738   \n",
       "1  62-year-old human stage  10x 3' v3                 CL:0000738   \n",
       "2  62-year-old human stage  10x 3' v3                 CL:0000738   \n",
       "3  62-year-old human stage  10x 3' v3                 CL:0000738   \n",
       "4  62-year-old human stage  10x 3' v3                 CL:0000738   \n",
       "5  62-year-old human stage  10x 3' v3                 CL:0000738   \n",
       "6  62-year-old human stage  10x 3' v3                 CL:0000738   \n",
       "7  62-year-old human stage  10x 3' v3                 CL:0000738   \n",
       "8  62-year-old human stage  10x 3' v3                 CL:0000738   \n",
       "9  62-year-old human stage  10x 3' v3                 CL:0000738   \n",
       "\n",
       "   encoded_labels  \n",
       "0              40  \n",
       "1              40  \n",
       "2              40  \n",
       "3              40  \n",
       "4              40  \n",
       "5              40  \n",
       "6              40  \n",
       "7              40  \n",
       "8              40  \n",
       "9              40  "
      ]
     },
     "execution_count": 10,
     "metadata": {},
     "output_type": "execute_result"
    }
   ],
   "source": [
    "lb = LabelEncoder()\n",
    "labels['encoded_labels'] = lb.fit_transform(labels['development_stage'])\n",
    "labels.head(10)"
   ]
  },
  {
   "cell_type": "code",
   "execution_count": 11,
   "id": "dac034b8",
   "metadata": {},
   "outputs": [
    {
     "data": {
      "text/plain": [
       "77"
      ]
     },
     "execution_count": 11,
     "metadata": {},
     "output_type": "execute_result"
    }
   ],
   "source": [
    "# find the number of unique labels\n",
    "labels['encoded_labels'].nunique()"
   ]
  },
  {
   "cell_type": "code",
   "execution_count": 14,
   "id": "f39e9f1f",
   "metadata": {},
   "outputs": [
    {
     "data": {
      "text/plain": [
       "(111060,)"
      ]
     },
     "execution_count": 14,
     "metadata": {},
     "output_type": "execute_result"
    }
   ],
   "source": [
    "y_data.shape"
   ]
  },
  {
   "cell_type": "code",
   "execution_count": 15,
   "id": "48626328",
   "metadata": {},
   "outputs": [
    {
     "data": {
      "text/plain": [
       "<111060x60664 sparse matrix of type '<class 'numpy.float32'>'\n",
       "\twith 139596876 stored elements in Compressed Sparse Row format>"
      ]
     },
     "execution_count": 15,
     "metadata": {},
     "output_type": "execute_result"
    }
   ],
   "source": [
    "x_data"
   ]
  },
  {
   "cell_type": "code",
   "execution_count": null,
   "id": "150ea631",
   "metadata": {},
   "outputs": [],
   "source": []
  },
  {
   "cell_type": "code",
   "execution_count": 18,
   "id": "00708ed1",
   "metadata": {},
   "outputs": [
    {
     "data": {
      "text/plain": [
       "tensor(indices=tensor([[    0,     0,     0,  ..., 77741, 77741, 77741],\n",
       "                       [   25,    29,    39,  ..., 56325, 57766, 57834]]),\n",
       "       values=tensor([1, 1, 1,  ..., 1, 4, 1]),\n",
       "       size=(77742, 60611), nnz=97652679, layout=torch.sparse_coo)"
      ]
     },
     "execution_count": 18,
     "metadata": {},
     "output_type": "execute_result"
    }
   ],
   "source": [
    "X_train"
   ]
  },
  {
   "cell_type": "code",
   "execution_count": 19,
   "id": "d2f347e9",
   "metadata": {},
   "outputs": [
    {
     "data": {
      "text/plain": [
       "tensor([72, 24, 73,  ..., 72, 72, 72])"
      ]
     },
     "execution_count": 19,
     "metadata": {},
     "output_type": "execute_result"
    }
   ],
   "source": [
    "y_train"
   ]
  },
  {
   "cell_type": "markdown",
   "id": "931e0ee6",
   "metadata": {},
   "source": [
    "## Build Neural Network Classifier\n",
    "\n",
    "based on https://medium.com/analytics-vidhya/a-simple-neural-network-classifier-using-pytorch-from-scratch-7ebb477422d2\n",
    "\n",
    "another helpful resource: https://learn.microsoft.com/en-us/windows/ai/windows-ml/tutorials/pytorch-analysis-train-model"
   ]
  },
  {
   "cell_type": "code",
   "execution_count": 24,
   "id": "4a7b0114",
   "metadata": {},
   "outputs": [
    {
     "data": {
      "text/plain": [
       "77"
      ]
     },
     "execution_count": 24,
     "metadata": {},
     "output_type": "execute_result"
    }
   ],
   "source": [
    "test_size = torch.unique(y_train).size(dim=0)\n",
    "\n",
    "test_size"
   ]
  },
  {
   "cell_type": "code",
   "execution_count": 25,
   "id": "393eb73b",
   "metadata": {},
   "outputs": [],
   "source": [
    "# number of features (len of X cols)\n",
    "# select the number of gene columns\n",
    "input_dim = X_train.size(dim=1) #adata.X.shape[1] \n",
    "\n",
    "# number of hidden layers\n",
    "hidden_layers = 10\n",
    "\n",
    "# number of classes (unique of y)\n",
    "output_dim = torch.unique(y_train).size(dim=0) #labels['encoded_labels'].nunique()"
   ]
  },
  {
   "cell_type": "code",
   "execution_count": 26,
   "id": "90a67428",
   "metadata": {},
   "outputs": [
    {
     "name": "stdout",
     "output_type": "stream",
     "text": [
      "60611 10 77\n"
     ]
    }
   ],
   "source": [
    "print(input_dim,hidden_layers,output_dim)"
   ]
  },
  {
   "cell_type": "code",
   "execution_count": null,
   "id": "c2bdd849",
   "metadata": {},
   "outputs": [],
   "source": []
  },
  {
   "cell_type": "code",
   "execution_count": 27,
   "id": "ad69ba11",
   "metadata": {},
   "outputs": [],
   "source": [
    "class Network(nn.Module):\n",
    "    def __init__(self):\n",
    "        super(Network, self).__init__()\n",
    "        self.linear1 = nn.Linear(input_dim,hidden_layers)\n",
    "        self.linear2 = nn.Linear(hidden_layers,output_dim)\n",
    "        self.bn = nn.BatchNorm1d(10)\n",
    "        \n",
    "    def forward(self,x):\n",
    "        x = self.linear1(x)\n",
    "        x = self.bn(x)\n",
    "        x = F.relu(x)\n",
    "        x = self.linear2(x)\n",
    "        x = F.softmax(x,dim=1)\n",
    "        return x"
   ]
  },
  {
   "cell_type": "markdown",
   "id": "4a853493",
   "metadata": {},
   "source": [
    "## Train the Model"
   ]
  },
  {
   "cell_type": "code",
   "execution_count": null,
   "id": "9225c37f",
   "metadata": {},
   "outputs": [],
   "source": []
  },
  {
   "cell_type": "code",
   "execution_count": 27,
   "id": "4a4b6e3c",
   "metadata": {},
   "outputs": [
    {
     "name": "stdout",
     "output_type": "stream",
     "text": [
      "[1] loss: 1.61728120 accuracy: 13.2490\n",
      "[10] loss: 1.52344155 accuracy: 55.4209\n",
      "[20] loss: 1.46894157 accuracy: 70.0381\n",
      "[30] loss: 1.43148994 accuracy: 73.6231\n",
      "[40] loss: 1.39798081 accuracy: 78.6283\n",
      "[50] loss: 1.36467600 accuracy: 82.3000\n",
      "[60] loss: 1.33435214 accuracy: 86.1967\n",
      "[70] loss: 1.30199873 accuracy: 90.2148\n",
      "[80] loss: 1.27349961 accuracy: 94.0423\n",
      "[90] loss: 1.24101067 accuracy: 95.8261\n",
      "[100] loss: 1.21379137 accuracy: 96.7960\n"
     ]
    }
   ],
   "source": [
    "# initialize network\n",
    "\n",
    "clf = Network()\n",
    "\n",
    "# define loss and optimizer\n",
    "criterion = nn.CrossEntropyLoss()\n",
    "optimizer = torch.optim.Adam(clf.parameters(), lr=1e-3)\n",
    "\n",
    "epochs = 100\n",
    "accuracy_vals = []\n",
    "loss_vals = []\n",
    "\n",
    "# set the model to training\n",
    "clf.train()\n",
    "\n",
    "for epoch in range(epochs):\n",
    "    running_loss = 0.0\n",
    "\n",
    "    # set optimizer to zero grad to remove previous epoch gradients\n",
    "    optimizer.zero_grad()\n",
    "  \n",
    "    # forward propagation\n",
    "    outputs = clf(X_train.float())\n",
    "    loss = criterion(outputs, y_train)\n",
    "    \n",
    "    # backward propagation\n",
    "    loss.backward()\n",
    "    \n",
    "    # optimize\n",
    "    optimizer.step()\n",
    "    running_loss += loss.item()\n",
    "    \n",
    "    # save accuracy\n",
    "    _, epoch_pred = outputs.max(dim=1)\n",
    "    correct = (epoch_pred == y_train).sum().item()\n",
    "    accuracy_vals.append(correct / len(y_train) * 100.)\n",
    "\n",
    "    # save loss\n",
    "    loss_vals.append(loss.item())\n",
    "    \n",
    "    # display statistics\n",
    "    if (epoch + 1) % 10 == 0 or epoch == 0:\n",
    "        print(f'[{epoch + 1}] loss: {running_loss:.8f} accuracy: {accuracy_vals[-1]:.4f}')\n"
   ]
  },
  {
   "cell_type": "code",
   "execution_count": null,
   "id": "8f10e187",
   "metadata": {},
   "outputs": [],
   "source": []
  },
  {
   "cell_type": "code",
   "execution_count": 28,
   "id": "abd174ca",
   "metadata": {},
   "outputs": [
    {
     "name": "stderr",
     "output_type": "stream",
     "text": [
      "/var/folders/gy/qftxzz157cz4xv36kyp3yp59ztxvbq/T/ipykernel_46767/353249328.py:12: UserWarning: Matplotlib is currently using module://matplotlib_inline.backend_inline, which is a non-GUI backend, so cannot show the figure.\n",
      "  fig.show()\n"
     ]
    },
    {
     "data": {
      "image/png": "[encoded data removed]",
      "text/plain": [
       "<Figure size 900x400 with 2 Axes>"
      ]
     },
     "metadata": {},
     "output_type": "display_data"
    }
   ],
   "source": [
    "# plot the loss and accuracy curves\n",
    "\n",
    "fig, ax = plt.subplots(1,2,figsize=(9,4))\n",
    "sns.scatterplot(x=range(epochs),y=loss_vals, ax = ax[0],color='lightcoral')\n",
    "sns.scatterplot(x=range(epochs),y=accuracy_vals, ax = ax[1],color='lightcoral')\n",
    "\n",
    "ax[0].set_xlabel('Epoch')\n",
    "ax[1].set_xlabel('Epoch')\n",
    "ax[0].set_ylabel('Training Loss')\n",
    "ax[1].set_ylabel('Training Accuracy')\n",
    "ax[1].set_ylim((0,100))\n",
    "fig.show()"
   ]
  },
  {
   "cell_type": "code",
   "execution_count": null,
   "id": "d3e7b7d8",
   "metadata": {},
   "outputs": [],
   "source": []
  },
  {
   "cell_type": "code",
   "execution_count": null,
   "id": "07a47cda",
   "metadata": {},
   "outputs": [],
   "source": []
  },
  {
   "cell_type": "markdown",
   "id": "29fe21c7",
   "metadata": {},
   "source": [
    "## Validate the model\n",
    "\n",
    "Most of this work is based on https://medium.com/analytics-vidhya/a-simple-neural-network-classifier-using-pytorch-from-scratch-7ebb477422d2\n",
    "\n"
   ]
  },
  {
   "cell_type": "code",
   "execution_count": 29,
   "id": "a810ce29",
   "metadata": {},
   "outputs": [
    {
     "name": "stdout",
     "output_type": "stream",
     "text": [
      "tensor([4, 2, 4,  ..., 0, 0, 3])\n"
     ]
    }
   ],
   "source": [
    "clf.eval()\n",
    "\n",
    "outputs_val = clf(X_val.float())\n",
    "__, predicted = torch.max(outputs_val,1)\n",
    "print(predicted)"
   ]
  },
  {
   "cell_type": "code",
   "execution_count": 30,
   "id": "f1d537ad",
   "metadata": {},
   "outputs": [
    {
     "data": {
      "text/plain": [
       "(tensor([0, 1, 2, 3, 4]), tensor([ 7259,  6160, 13600, 12697, 12257]))"
      ]
     },
     "execution_count": 30,
     "metadata": {},
     "output_type": "execute_result"
    }
   ],
   "source": [
    "torch.unique(predicted, return_counts=True)"
   ]
  },
  {
   "cell_type": "code",
   "execution_count": null,
   "id": "89b8e184",
   "metadata": {},
   "outputs": [],
   "source": []
  },
  {
   "cell_type": "code",
   "execution_count": 31,
   "id": "c182fec7",
   "metadata": {},
   "outputs": [
    {
     "name": "stdout",
     "output_type": "stream",
     "text": [
      "Accuracy of the network on the test data: 88.00 %\n"
     ]
    }
   ],
   "source": [
    "clf.eval()\n",
    "\n",
    "correct, total = 0, 0\n",
    "\n",
    "with torch.no_grad():\n",
    "    # calculate output by running through the network\n",
    "    outputs = clf(X_val.float())\n",
    "    \n",
    "    # get the predictions\n",
    "    __, predicted = torch.max(outputs.data, 1)\n",
    "    \n",
    "    # update results\n",
    "    total += y_val.size(0)\n",
    "    correct += (predicted == y_val).sum().item()\n",
    "    \n",
    "print(f'Accuracy of the network on the test data: {100 * correct // total:.2f} %')"
   ]
  },
  {
   "cell_type": "markdown",
   "id": "dee84bab",
   "metadata": {},
   "source": [
    "## Train and Validate Together\n",
    "\n",
    "Let's write a function to to the training and validation all at once, so we can compare loss/accuracy curves.\n",
    "\n",
    "helpful for hyperparameter tuning: https://machinelearningmastery.com/training-and-validation-data-in-pytorch/"
   ]
  },
  {
   "cell_type": "code",
   "execution_count": 28,
   "id": "0d83385d",
   "metadata": {},
   "outputs": [],
   "source": [
    "def train_and_validate(num_epochs):\n",
    "    '''\n",
    "    Performs training and validation simultaneously to allow visualization of model performance \n",
    "    per epoch. \n",
    "    \n",
    "    Parameters\n",
    "    ----------\n",
    "    num_epochs : int\n",
    "        integer specify the number of epochs\n",
    "        \n",
    "    Returns\n",
    "    -------\n",
    "    accuracy_train_hist : list\n",
    "        list containing accuracy for the training set per epoch\n",
    "        \n",
    "    loss_train_hist: list\n",
    "        list containing loss values for the training set per epoch\n",
    "        \n",
    "    accuracy_val_hist : list \n",
    "        list containing accuracy for the validation set per epoch\n",
    "        \n",
    "    loss_val_hist : list\n",
    "        list containing loss values for the validation set per epoch\n",
    "    '''\n",
    "    # initialize variables for saving values\n",
    "    accuracy_train_hist = []\n",
    "    loss_train_hist = []\n",
    "    accuracy_val_hist = []\n",
    "    loss_val_hist = []\n",
    "    best_accuracy = - np.inf\n",
    "    best_weights = None\n",
    "\n",
    "    # initialize network\n",
    "    clf = Network()\n",
    "    # define loss and optimizer\n",
    "    criterion = nn.CrossEntropyLoss()\n",
    "    optimizer = torch.optim.Adam(clf.parameters(), lr=1e-3)\n",
    "\n",
    "    for epoch in range(num_epochs):\n",
    "        \n",
    "        # TRAINING\n",
    "        #print('Begin Training...')\n",
    "        clf.train()\n",
    "        running_train_loss = 0.0\n",
    "        #running_accuracy = 0.0\n",
    "        #running_vallidation_loss = 0.0\n",
    "        #total = 0\n",
    "\n",
    "        # set optimizer to zero grad to remove previous epoch gradients\n",
    "        optimizer.zero_grad()\n",
    "\n",
    "        # forward propagation\n",
    "        outputs_train = clf(X_train.float())\n",
    "        loss_train = criterion(outputs_train, y_train)\n",
    "\n",
    "        # backward propagation\n",
    "        loss_train.backward()\n",
    "\n",
    "        # optimize\n",
    "        optimizer.step()\n",
    "        running_train_loss += loss_train.item()\n",
    "\n",
    "        # save accuracy\n",
    "        _, train_pred = outputs_train.max(dim=1)\n",
    "        correct_train = (train_pred == y_train).sum().item()\n",
    "        accuracy_train_hist.append(correct_train / len(y_train) * 100.)\n",
    "\n",
    "        # save loss\n",
    "        loss_train_hist.append(loss_train.item())\n",
    "        \n",
    "        #print('Begin testing...')\n",
    "        # TESTING\n",
    "        \n",
    "        with torch.no_grad():\n",
    "            clf.eval()\n",
    "            # calculate output by running through the network\n",
    "            outputs_val = clf(X_val.float())\n",
    "\n",
    "            # get the predictions\n",
    "            __, predicted_val = outputs_val.max(dim=1)\n",
    "\n",
    "            # calculate loss\n",
    "            loss_val = criterion(outputs_val, y_val)\n",
    "\n",
    "            # save accuracy\n",
    "            correct_val = (predicted_val == y_val).sum().item()\n",
    "            accuracy_val_hist.append(correct_val / len(y_val) * 100.)\n",
    "\n",
    "            # save loss\n",
    "            loss_val_hist.append(loss_val.item())\n",
    "            \n",
    "            # check if best model\n",
    "            if accuracy_val_hist[-1] > best_accuracy:\n",
    "                best_acc = accuracy_val_hist[-1]\n",
    "                best_weights = copy.deepcopy(clf.state_dict())\n",
    "            \n",
    "        if (epoch + 1) % 10 == 0 or epoch == 0:\n",
    "            print(f'[{epoch + 1}] Training Accuracy: {accuracy_train_hist[-1]:.3f} Validation Accuracy: {accuracy_val_hist[-1]:.3f}')\n",
    "\n",
    "    print(f'Best Accuracy: {best_acc:.3f}')\n",
    "    #print('Best Weights: ')\n",
    "    #print(best_weights)\n",
    "    return(accuracy_train_hist, loss_train_hist, accuracy_val_hist, loss_val_hist)\n",
    "\n",
    "        "
   ]
  },
  {
   "cell_type": "code",
   "execution_count": null,
   "id": "44dabc3f",
   "metadata": {},
   "outputs": [],
   "source": []
  },
  {
   "cell_type": "code",
   "execution_count": 29,
   "id": "729a6121",
   "metadata": {},
   "outputs": [
    {
     "name": "stdout",
     "output_type": "stream",
     "text": [
      "[1] Training Accuracy: 1.285 Validation Accuracy: 2.433\n",
      "[10] Training Accuracy: 1.861 Validation Accuracy: 2.524\n",
      "[20] Training Accuracy: 4.209 Validation Accuracy: 4.553\n",
      "Best Accuracy: 4.691\n"
     ]
    }
   ],
   "source": [
    "# set the number of epochs and run the model\n",
    "\n",
    "num_epochs = 21\n",
    "\n",
    "accuracy_train_hist, loss_train_hist, accuracy_val_hist, loss_val_hist = train_and_validate(num_epochs)"
   ]
  },
  {
   "cell_type": "code",
   "execution_count": 30,
   "id": "833bf44e",
   "metadata": {},
   "outputs": [
    {
     "name": "stderr",
     "output_type": "stream",
     "text": [
      "/var/folders/gy/qftxzz157cz4xv36kyp3yp59ztxvbq/T/ipykernel_4103/488324102.py:14: UserWarning: Matplotlib is currently using module://matplotlib_inline.backend_inline, which is a non-GUI backend, so cannot show the figure.\n",
      "  fig.show()\n"
     ]
    },
    {
     "data": {
      "image/png": "[encoded data removed]",
      "text/plain": [
       "<Figure size 900x400 with 2 Axes>"
      ]
     },
     "metadata": {},
     "output_type": "display_data"
    }
   ],
   "source": [
    "\n",
    "\n",
    "fig, ax = plt.subplots(1,2,figsize=(9,4))\n",
    "sns.scatterplot(x=range(num_epochs),y=loss_train_hist, ax = ax[0],color='lightcoral')\n",
    "sns.scatterplot(x=range(num_epochs),y=accuracy_train_hist, ax = ax[1],color='lightcoral',label='Train')\n",
    "\n",
    "sns.scatterplot(x=range(num_epochs),y=loss_val_hist, ax = ax[0],color='mediumslateblue')\n",
    "sns.scatterplot(x=range(num_epochs),y=accuracy_val_hist, ax = ax[1],color='mediumslateblue',label='Validation')\n",
    "\n",
    "\n",
    "ax[0].set_xlabel('Epoch')\n",
    "ax[1].set_xlabel('Epoch')\n",
    "ax[0].set_ylabel('Loss')\n",
    "ax[1].set_ylabel('Accuracy')\n",
    "ax[1].set_ylim((0,100))\n",
    "fig.show()"
   ]
  },
  {
   "cell_type": "code",
   "execution_count": null,
   "id": "2f5d7d51",
   "metadata": {},
   "outputs": [],
   "source": []
  },
  {
   "cell_type": "code",
   "execution_count": null,
   "id": "fb66c285",
   "metadata": {},
   "outputs": [],
   "source": []
  },
  {
   "cell_type": "code",
   "execution_count": null,
   "id": "dbf1ab13",
   "metadata": {},
   "outputs": [],
   "source": []
  },
  {
   "cell_type": "code",
   "execution_count": null,
   "id": "4675b5d0",
   "metadata": {},
   "outputs": [],
   "source": []
  },
  {
   "cell_type": "code",
   "execution_count": null,
   "id": "f2a51f2f",
   "metadata": {},
   "outputs": [],
   "source": []
  }
 ],
 "metadata": {
  "kernelspec": {
   "display_name": "venv",
   "language": "python",
   "name": "venv"
  },
  "language_info": {
   "codemirror_mode": {
    "name": "ipython",
    "version": 3
   },
   "file_extension": ".py",
   "mimetype": "text/x-python",
   "name": "python",
   "nbconvert_exporter": "python",
   "pygments_lexer": "ipython3",
   "version": "3.8.16"
  }
 },
 "nbformat": 4,
 "nbformat_minor": 5
}
