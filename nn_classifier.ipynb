{
 "cells": [
  {
   "cell_type": "markdown",
   "id": "4a50fe7d",
   "metadata": {},
   "source": [
    "# Neural Network Classifier \n",
    "\n",
    "We are going to build a PyTorch neural network classifier using scRNAseq data. \n",
    "\n",
    "Helpful link:\n",
    "Interfacing pytorch models with anndata: https://anndata.readthedocs.io/en/latest/tutorials/notebooks/annloader.html\n",
    "\n",
    "Possibly helpful about speeding up pytorch modeling: https://sebastianraschka.com/blog/2023/pytorch-faster.html\n",
    "\n",
    "This program will:\n",
    "\n",
    "- pull in scRNAseq data from cell_census\n",
    "- wrangle the data for modelling\n",
    "- appply the NN\n",
    "\n",
    "At first, we're just going to pick some data from cell_census. Once we get the basics we will modify to select the exact data we want.\n"
   ]
  },
  {
   "cell_type": "code",
   "execution_count": null,
   "id": "0e688248",
   "metadata": {},
   "outputs": [],
   "source": []
  },
  {
   "cell_type": "code",
   "execution_count": null,
   "id": "5c21e63e",
   "metadata": {},
   "outputs": [],
   "source": []
  },
  {
   "cell_type": "code",
   "execution_count": 1,
   "id": "2fd3b5b7",
   "metadata": {},
   "outputs": [],
   "source": [
    "import cell_census\n",
    "import anndata as ad\n",
    "\n",
    "import numpy as np\n",
    "\n",
    "import torch\n",
    "from torch import nn\n",
    "import torch.nn.functional as F\n",
    "\n",
    "from sklearn.preprocessing import LabelEncoder\n",
    "from sklearn.model_selection import train_test_split"
   ]
  },
  {
   "cell_type": "code",
   "execution_count": 2,
   "id": "31f537ba",
   "metadata": {},
   "outputs": [
    {
     "name": "stdout",
     "output_type": "stream",
     "text": [
      "cpu\n"
     ]
    }
   ],
   "source": [
    "device = torch.device(\"cuda:0\" if torch.cuda.is_available() else \"cpu\")\n",
    "print(device)"
   ]
  },
  {
   "cell_type": "markdown",
   "id": "e1282361",
   "metadata": {},
   "source": [
    "## Read in the data\n",
    "\n",
    "We are somewhat randomly selecting the data now, but will come back and update this later. Let's just get something working."
   ]
  },
  {
   "cell_type": "code",
   "execution_count": 3,
   "id": "af8cdd9f",
   "metadata": {},
   "outputs": [],
   "source": [
    "census = cell_census.open_soma(census_version=\"latest\")\n"
   ]
  },
  {
   "cell_type": "code",
   "execution_count": 4,
   "id": "afbabdef",
   "metadata": {},
   "outputs": [
    {
     "data": {
      "text/plain": [
       "AnnData object with n_obs × n_vars = 57747 × 60664\n",
       "    obs: 'sex', 'tissue_ontology_term_id', 'assay'\n",
       "    var: 'soma_joinid', 'feature_id', 'feature_name', 'feature_length'"
      ]
     },
     "metadata": {},
     "output_type": "display_data"
    }
   ],
   "source": [
    "adata = cell_census.get_anndata(\n",
    "        census=census,\n",
    "        organism = \"Homo sapiens\",\n",
    "        obs_value_filter = 'tissue_ontology_term_id == \"UBERON:0002299\" and assay == \"10x 3\\' v3\"',\n",
    "        column_names={\"obs\": [\"sex\"]},\n",
    "        )\n",
    "\n",
    "display(adata)"
   ]
  },
  {
   "cell_type": "code",
   "execution_count": 5,
   "id": "bd3bf6e1",
   "metadata": {},
   "outputs": [
    {
     "data": {
      "text/plain": [
       "<57747x60664 sparse matrix of type '<class 'numpy.float32'>'\n",
       "\twith 136730898 stored elements in Compressed Sparse Row format>"
      ]
     },
     "execution_count": 5,
     "metadata": {},
     "output_type": "execute_result"
    }
   ],
   "source": [
    "# the data is stored in adata.X\n",
    "adata.X"
   ]
  },
  {
   "cell_type": "markdown",
   "id": "48576d94",
   "metadata": {},
   "source": [
    "Only 3.9% of the entries have values."
   ]
  },
  {
   "cell_type": "code",
   "execution_count": 6,
   "id": "946d71cb",
   "metadata": {},
   "outputs": [
    {
     "data": {
      "text/plain": [
       "60664"
      ]
     },
     "execution_count": 6,
     "metadata": {},
     "output_type": "execute_result"
    }
   ],
   "source": [
    "# find the number of features (genes)\n",
    "\n",
    "adata.X.shape[1]\n",
    "\n",
    "# returns 2.0\n",
    "#adata.X[0,40]"
   ]
  },
  {
   "cell_type": "markdown",
   "id": "01efd1c5",
   "metadata": {},
   "source": [
    "## Encode and Split the Data to prepare for modeling\n",
    "\n",
    "**Outstanding question: Do we need to set requires_grad = True at some point??**"
   ]
  },
  {
   "cell_type": "code",
   "execution_count": 7,
   "id": "2615f2f8",
   "metadata": {},
   "outputs": [],
   "source": [
    "# select the labels. \n",
    "labels = adata.obs"
   ]
  },
  {
   "cell_type": "code",
   "execution_count": 8,
   "id": "063c8dd7",
   "metadata": {},
   "outputs": [
    {
     "data": {
      "text/html": [
       "<div>\n",
       "<style scoped>\n",
       "    .dataframe tbody tr th:only-of-type {\n",
       "        vertical-align: middle;\n",
       "    }\n",
       "\n",
       "    .dataframe tbody tr th {\n",
       "        vertical-align: top;\n",
       "    }\n",
       "\n",
       "    .dataframe thead th {\n",
       "        text-align: right;\n",
       "    }\n",
       "</style>\n",
       "<table border=\"1\" class=\"dataframe\">\n",
       "  <thead>\n",
       "    <tr style=\"text-align: right;\">\n",
       "      <th></th>\n",
       "      <th>sex</th>\n",
       "      <th>tissue_ontology_term_id</th>\n",
       "      <th>assay</th>\n",
       "    </tr>\n",
       "  </thead>\n",
       "  <tbody>\n",
       "    <tr>\n",
       "      <th>0</th>\n",
       "      <td>male</td>\n",
       "      <td>UBERON:0002299</td>\n",
       "      <td>10x 3' v3</td>\n",
       "    </tr>\n",
       "    <tr>\n",
       "      <th>1</th>\n",
       "      <td>male</td>\n",
       "      <td>UBERON:0002299</td>\n",
       "      <td>10x 3' v3</td>\n",
       "    </tr>\n",
       "    <tr>\n",
       "      <th>2</th>\n",
       "      <td>male</td>\n",
       "      <td>UBERON:0002299</td>\n",
       "      <td>10x 3' v3</td>\n",
       "    </tr>\n",
       "    <tr>\n",
       "      <th>3</th>\n",
       "      <td>male</td>\n",
       "      <td>UBERON:0002299</td>\n",
       "      <td>10x 3' v3</td>\n",
       "    </tr>\n",
       "    <tr>\n",
       "      <th>4</th>\n",
       "      <td>male</td>\n",
       "      <td>UBERON:0002299</td>\n",
       "      <td>10x 3' v3</td>\n",
       "    </tr>\n",
       "  </tbody>\n",
       "</table>\n",
       "</div>"
      ],
      "text/plain": [
       "    sex tissue_ontology_term_id      assay\n",
       "0  male          UBERON:0002299  10x 3' v3\n",
       "1  male          UBERON:0002299  10x 3' v3\n",
       "2  male          UBERON:0002299  10x 3' v3\n",
       "3  male          UBERON:0002299  10x 3' v3\n",
       "4  male          UBERON:0002299  10x 3' v3"
      ]
     },
     "execution_count": 8,
     "metadata": {},
     "output_type": "execute_result"
    }
   ],
   "source": [
    "labels.head()"
   ]
  },
  {
   "cell_type": "code",
   "execution_count": 9,
   "id": "bd717b94",
   "metadata": {},
   "outputs": [
    {
     "data": {
      "text/html": [
       "<div>\n",
       "<style scoped>\n",
       "    .dataframe tbody tr th:only-of-type {\n",
       "        vertical-align: middle;\n",
       "    }\n",
       "\n",
       "    .dataframe tbody tr th {\n",
       "        vertical-align: top;\n",
       "    }\n",
       "\n",
       "    .dataframe thead th {\n",
       "        text-align: right;\n",
       "    }\n",
       "</style>\n",
       "<table border=\"1\" class=\"dataframe\">\n",
       "  <thead>\n",
       "    <tr style=\"text-align: right;\">\n",
       "      <th></th>\n",
       "      <th>sex</th>\n",
       "      <th>tissue_ontology_term_id</th>\n",
       "      <th>assay</th>\n",
       "      <th>encoded_labels</th>\n",
       "    </tr>\n",
       "  </thead>\n",
       "  <tbody>\n",
       "    <tr>\n",
       "      <th>0</th>\n",
       "      <td>male</td>\n",
       "      <td>UBERON:0002299</td>\n",
       "      <td>10x 3' v3</td>\n",
       "      <td>1</td>\n",
       "    </tr>\n",
       "    <tr>\n",
       "      <th>1</th>\n",
       "      <td>male</td>\n",
       "      <td>UBERON:0002299</td>\n",
       "      <td>10x 3' v3</td>\n",
       "      <td>1</td>\n",
       "    </tr>\n",
       "    <tr>\n",
       "      <th>2</th>\n",
       "      <td>male</td>\n",
       "      <td>UBERON:0002299</td>\n",
       "      <td>10x 3' v3</td>\n",
       "      <td>1</td>\n",
       "    </tr>\n",
       "    <tr>\n",
       "      <th>3</th>\n",
       "      <td>male</td>\n",
       "      <td>UBERON:0002299</td>\n",
       "      <td>10x 3' v3</td>\n",
       "      <td>1</td>\n",
       "    </tr>\n",
       "    <tr>\n",
       "      <th>4</th>\n",
       "      <td>male</td>\n",
       "      <td>UBERON:0002299</td>\n",
       "      <td>10x 3' v3</td>\n",
       "      <td>1</td>\n",
       "    </tr>\n",
       "  </tbody>\n",
       "</table>\n",
       "</div>"
      ],
      "text/plain": [
       "    sex tissue_ontology_term_id      assay  encoded_labels\n",
       "0  male          UBERON:0002299  10x 3' v3               1\n",
       "1  male          UBERON:0002299  10x 3' v3               1\n",
       "2  male          UBERON:0002299  10x 3' v3               1\n",
       "3  male          UBERON:0002299  10x 3' v3               1\n",
       "4  male          UBERON:0002299  10x 3' v3               1"
      ]
     },
     "execution_count": 9,
     "metadata": {},
     "output_type": "execute_result"
    }
   ],
   "source": [
    "lb = LabelEncoder()\n",
    "labels['encoded_labels'] = lb.fit_transform(labels['sex'])\n",
    "labels.head(5)"
   ]
  },
  {
   "cell_type": "code",
   "execution_count": 10,
   "id": "dac034b8",
   "metadata": {},
   "outputs": [
    {
     "data": {
      "text/plain": [
       "2"
      ]
     },
     "execution_count": 10,
     "metadata": {},
     "output_type": "execute_result"
    }
   ],
   "source": [
    "# find the number of unique labels\n",
    "labels['encoded_labels'].nunique()"
   ]
  },
  {
   "cell_type": "code",
   "execution_count": 11,
   "id": "d7254cd1",
   "metadata": {},
   "outputs": [],
   "source": [
    "y_data = labels['encoded_labels']"
   ]
  },
  {
   "cell_type": "code",
   "execution_count": 12,
   "id": "b7cd1931",
   "metadata": {},
   "outputs": [],
   "source": [
    "# convert sparse matrix to dense\n",
    "\n",
    "#x_data = adata.X.todense()\n",
    "x_data = adata.X.copy()"
   ]
  },
  {
   "cell_type": "code",
   "execution_count": 13,
   "id": "f39e9f1f",
   "metadata": {},
   "outputs": [
    {
     "data": {
      "text/plain": [
       "(57747,)"
      ]
     },
     "execution_count": 13,
     "metadata": {},
     "output_type": "execute_result"
    }
   ],
   "source": [
    "y_data.shape"
   ]
  },
  {
   "cell_type": "code",
   "execution_count": 14,
   "id": "48626328",
   "metadata": {},
   "outputs": [
    {
     "data": {
      "text/plain": [
       "<57747x60664 sparse matrix of type '<class 'numpy.float32'>'\n",
       "\twith 136730898 stored elements in Compressed Sparse Row format>"
      ]
     },
     "execution_count": 14,
     "metadata": {},
     "output_type": "execute_result"
    }
   ],
   "source": [
    "x_data"
   ]
  },
  {
   "cell_type": "code",
   "execution_count": 15,
   "id": "150ea631",
   "metadata": {},
   "outputs": [],
   "source": [
    "# create training and testing sets here\n",
    "\n",
    "# using a very small train size to speed up development for now\n",
    "\n",
    "# note that we are using dense matrices at this time, but train_test_split DOES\n",
    "# work with sparse matrices (woohoo)\n",
    "\n",
    "X_train, X_test, y_train, y_test = train_test_split(x_data,y_data,\n",
    "                                                   train_size = 0.1)\n"
   ]
  },
  {
   "cell_type": "code",
   "execution_count": 16,
   "id": "8d7d6644",
   "metadata": {},
   "outputs": [],
   "source": [
    "# convert the data to tensors\n",
    "# we'll change the data from CSR (compressed sparse row) format\n",
    "# to COO (coordinate) format for better use with pytorch\n",
    "# see https://pytorch.org/docs/stable/sparse.html for some details/thoughts\n",
    "\n",
    "X_train_coo = X_train.tocoo()\n",
    "\n",
    "X_train = torch.sparse.LongTensor(torch.LongTensor([X_train_coo.row.tolist(),X_train_coo.col.tolist()]),\n",
    "                                 torch.LongTensor(X_train_coo.data.astype(np.float32)))\n",
    "\n",
    "# y_train is a Series, so it is easier to convert to a tensor\n",
    "y_train = torch.tensor(y_train, dtype=torch.long)\n",
    "\n",
    "#X_train = torch.tensor.to_sparse_csr(X_train,layout=torch.sparse_csr)\n",
    "\n",
    "\n",
    "# and the same for the test set\n",
    "X_test_coo = X_test.tocoo()\n",
    "\n",
    "X_test = torch.sparse.LongTensor(torch.LongTensor([X_test_coo.row.tolist(),X_test_coo.col.tolist()]),\n",
    "                                 torch.LongTensor(X_test_coo.data.astype(np.float32)))\n",
    "\n",
    "# y_train is a Series, so it is easier to convert to a tensor\n",
    "y_test = torch.tensor(y_test, dtype=torch.long)\n",
    "\n"
   ]
  },
  {
   "cell_type": "code",
   "execution_count": null,
   "id": "f949f64d",
   "metadata": {},
   "outputs": [],
   "source": []
  },
  {
   "cell_type": "code",
   "execution_count": 17,
   "id": "00708ed1",
   "metadata": {},
   "outputs": [
    {
     "data": {
      "text/plain": [
       "tensor(indices=tensor([[    0,     0,     0,  ...,  5773,  5773,  5773],\n",
       "                       [   17,    24,    32,  ..., 41284, 46738, 52812]]),\n",
       "       values=tensor([1, 1, 1,  ..., 1, 1, 2]),\n",
       "       size=(5774, 56710), nnz=13561218, layout=torch.sparse_coo)"
      ]
     },
     "execution_count": 17,
     "metadata": {},
     "output_type": "execute_result"
    }
   ],
   "source": [
    "X_train"
   ]
  },
  {
   "cell_type": "code",
   "execution_count": null,
   "id": "4529b454",
   "metadata": {},
   "outputs": [],
   "source": []
  },
  {
   "cell_type": "code",
   "execution_count": null,
   "id": "dade432e",
   "metadata": {},
   "outputs": [],
   "source": []
  },
  {
   "cell_type": "code",
   "execution_count": 18,
   "id": "d2f347e9",
   "metadata": {},
   "outputs": [
    {
     "data": {
      "text/plain": [
       "tensor([0, 0, 0,  ..., 0, 0, 1])"
      ]
     },
     "execution_count": 18,
     "metadata": {},
     "output_type": "execute_result"
    }
   ],
   "source": [
    "y_train"
   ]
  },
  {
   "cell_type": "markdown",
   "id": "931e0ee6",
   "metadata": {},
   "source": [
    "## Build Neural Network Classifier\n",
    "\n",
    "based on https://medium.com/analytics-vidhya/a-simple-neural-network-classifier-using-pytorch-from-scratch-7ebb477422d2"
   ]
  },
  {
   "cell_type": "code",
   "execution_count": 19,
   "id": "4a7b0114",
   "metadata": {},
   "outputs": [
    {
     "data": {
      "text/plain": [
       "2"
      ]
     },
     "execution_count": 19,
     "metadata": {},
     "output_type": "execute_result"
    }
   ],
   "source": [
    "test_size = torch.unique(y_train).size(dim=0)\n",
    "\n",
    "test_size"
   ]
  },
  {
   "cell_type": "code",
   "execution_count": 20,
   "id": "393eb73b",
   "metadata": {},
   "outputs": [],
   "source": [
    "# number of features (len of X cols)\n",
    "# select the number of gene columns\n",
    "input_dim = X_train.size(dim=1) #adata.X.shape[1] \n",
    "\n",
    "# number of hidden layers\n",
    "hidden_layers = 2\n",
    "\n",
    "# number of classes (unique of y)\n",
    "output_dim = torch.unique(y_train).size(dim=0) #labels['encoded_labels'].nunique()"
   ]
  },
  {
   "cell_type": "code",
   "execution_count": 21,
   "id": "90a67428",
   "metadata": {},
   "outputs": [
    {
     "name": "stdout",
     "output_type": "stream",
     "text": [
      "56710 2 2\n"
     ]
    }
   ],
   "source": [
    "print(input_dim,hidden_layers,output_dim)"
   ]
  },
  {
   "cell_type": "code",
   "execution_count": 22,
   "id": "ad69ba11",
   "metadata": {},
   "outputs": [],
   "source": [
    "class Network(torch.nn.Module):\n",
    "    def __init__(self):\n",
    "        super(Network, self).__init__()\n",
    "        self.linear1 = torch.nn.Linear(input_dim,hidden_layers)\n",
    "        self.linear2 = torch.nn.Linear(hidden_layers,output_dim)\n",
    "        \n",
    "    def forward(self,x):\n",
    "        x = torch.sigmoid(self.linear1(x))\n",
    "        x = self.linear2(x)\n",
    "        return x"
   ]
  },
  {
   "cell_type": "code",
   "execution_count": 23,
   "id": "25388598",
   "metadata": {},
   "outputs": [],
   "source": [
    "loss_func = F.nll_loss"
   ]
  },
  {
   "cell_type": "code",
   "execution_count": 24,
   "id": "1966f9c5",
   "metadata": {},
   "outputs": [],
   "source": [
    "clf = Network()"
   ]
  },
  {
   "cell_type": "code",
   "execution_count": 25,
   "id": "6345b46a",
   "metadata": {},
   "outputs": [
    {
     "data": {
      "text/plain": [
       "torch.int64"
      ]
     },
     "execution_count": 25,
     "metadata": {},
     "output_type": "execute_result"
    }
   ],
   "source": [
    "X_train.dtype"
   ]
  },
  {
   "cell_type": "code",
   "execution_count": 26,
   "id": "c2afc276",
   "metadata": {},
   "outputs": [
    {
     "data": {
      "text/plain": [
       "torch.int64"
      ]
     },
     "execution_count": 26,
     "metadata": {},
     "output_type": "execute_result"
    }
   ],
   "source": [
    "y_train.dtype"
   ]
  },
  {
   "cell_type": "code",
   "execution_count": 27,
   "id": "ee487427",
   "metadata": {},
   "outputs": [
    {
     "data": {
      "text/plain": [
       "tensor([[-0.4685, -0.1877],\n",
       "        [-0.4113, -0.1948],\n",
       "        [-0.4707, -0.2702],\n",
       "        ...,\n",
       "        [-0.4796, -0.0594],\n",
       "        [-0.5006, -0.0846],\n",
       "        [-0.4276, -0.2486]], grad_fn=<AddmmBackward0>)"
      ]
     },
     "execution_count": 27,
     "metadata": {},
     "output_type": "execute_result"
    }
   ],
   "source": [
    "clf(X_train.float())"
   ]
  },
  {
   "cell_type": "code",
   "execution_count": null,
   "id": "a45108e4",
   "metadata": {},
   "outputs": [],
   "source": []
  },
  {
   "cell_type": "code",
   "execution_count": 28,
   "id": "b3795895",
   "metadata": {},
   "outputs": [
    {
     "name": "stdout",
     "output_type": "stream",
     "text": [
      "tensor(0.4187, grad_fn=<NllLossBackward0>)\n"
     ]
    }
   ],
   "source": [
    "print(loss_func(clf(X_train.float()), y_train))"
   ]
  },
  {
   "cell_type": "code",
   "execution_count": 29,
   "id": "c85321ae",
   "metadata": {},
   "outputs": [
    {
     "name": "stdout",
     "output_type": "stream",
     "text": [
      "<bound method Module.parameters of Network(\n",
      "  (linear1): Linear(in_features=56710, out_features=2, bias=True)\n",
      "  (linear2): Linear(in_features=2, out_features=2, bias=True)\n",
      ")>\n"
     ]
    }
   ],
   "source": [
    "print(clf.parameters)"
   ]
  },
  {
   "cell_type": "code",
   "execution_count": 30,
   "id": "9225c37f",
   "metadata": {},
   "outputs": [],
   "source": [
    "criterion = torch.nn.CrossEntropyLoss()\n",
    "optimizer = torch.optim.SGD(clf.parameters(), lr=0.1)"
   ]
  },
  {
   "cell_type": "code",
   "execution_count": 31,
   "id": "4a4b6e3c",
   "metadata": {},
   "outputs": [
    {
     "name": "stdout",
     "output_type": "stream",
     "text": [
      "[1] loss: 0.00040\n",
      "[2] loss: 0.00034\n",
      "[3] loss: 0.00033\n",
      "[4] loss: 0.00033\n"
     ]
    }
   ],
   "source": [
    "epochs = 4\n",
    "for epoch in range(epochs):\n",
    "  running_loss = 0.0\n",
    "  #for i, data in enumerate(trainloader, 0):\n",
    "  #inputs, labels = data\n",
    "  # set optimizer to zero grad to remove previous epoch gradients\n",
    "  optimizer.zero_grad()\n",
    "  # forward propagation\n",
    "  outputs = clf(X_train.float())\n",
    "  loss = criterion(outputs, y_train)\n",
    "  # backward propagation\n",
    "  loss.backward()\n",
    "  # optimize\n",
    "  optimizer.step()\n",
    "  running_loss += loss.item()\n",
    "  # display statistics\n",
    "  print(f'[{epoch + 1}] loss: {running_loss / 2000:.5f}')\n"
   ]
  },
  {
   "cell_type": "markdown",
   "id": "29fe21c7",
   "metadata": {},
   "source": [
    "### Test the model\n",
    "\n",
    "Most of this work is based on https://medium.com/analytics-vidhya/a-simple-neural-network-classifier-using-pytorch-from-scratch-7ebb477422d2"
   ]
  },
  {
   "cell_type": "code",
   "execution_count": 32,
   "id": "a810ce29",
   "metadata": {},
   "outputs": [
    {
     "name": "stdout",
     "output_type": "stream",
     "text": [
      "tensor([0, 0, 0,  ..., 0, 0, 0])\n"
     ]
    }
   ],
   "source": [
    "outputs_test = clf(X_test.float())\n",
    "__, predicted = torch.max(outputs_test,1)\n",
    "print(predicted)"
   ]
  },
  {
   "cell_type": "code",
   "execution_count": 33,
   "id": "c182fec7",
   "metadata": {},
   "outputs": [
    {
     "name": "stdout",
     "output_type": "stream",
     "text": [
      "Accuracy of the network on the test data: 71 %\n"
     ]
    }
   ],
   "source": [
    "correct, total = 0, 0\n",
    "\n",
    "with torch.no_grad():\n",
    "    # calculate output by running through the network\n",
    "    outputs = clf(X_test.float())\n",
    "    # get the predictions\n",
    "    __, predicted = torch.max(outputs.data, 1)\n",
    "    # update results\n",
    "    total += y_test.size(0)\n",
    "    correct += (predicted == y_test).sum().item()\n",
    "    \n",
    "print(f'Accuracy of the network on the test data: {100 * correct // total} %')"
   ]
  },
  {
   "cell_type": "code",
   "execution_count": null,
   "id": "71a8b9fb",
   "metadata": {},
   "outputs": [],
   "source": []
  }
 ],
 "metadata": {
  "kernelspec": {
   "display_name": "venv",
   "language": "python",
   "name": "venv"
  },
  "language_info": {
   "codemirror_mode": {
    "name": "ipython",
    "version": 3
   },
   "file_extension": ".py",
   "mimetype": "text/x-python",
   "name": "python",
   "nbconvert_exporter": "python",
   "pygments_lexer": "ipython3",
   "version": "3.8.16"
  }
 },
 "nbformat": 4,
 "nbformat_minor": 5
}
