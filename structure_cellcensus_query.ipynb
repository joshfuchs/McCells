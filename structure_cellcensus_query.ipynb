{
 "cells": [
  {
   "cell_type": "markdown",
   "id": "779cb16c",
   "metadata": {},
   "source": [
    "This code will help you get the Cell Ontology values that are in the Cell Census based on your preferences. There are 3 steps:\n",
    "\n",
    "1) Get the Values from the Ontology\n",
    "2) Get the Cell Types that are included in the Cell Census\n",
    "3) Compare these values to select those that overlap\n",
    "\n",
    "This will result in a list of CL values that match your requirements. You can then use this with ```download_cell_census.py``` to download the specific parts of the Census you need. \n",
    "\n",
    "We should consider saving a text file of values that we can then import into that program. That would probably be a bit more consistent.\n"
   ]
  },
  {
   "cell_type": "code",
   "execution_count": 1,
   "id": "a7d92f21",
   "metadata": {},
   "outputs": [],
   "source": [
    "import pronto \n",
    "import warnings\n",
    "warnings.filterwarnings(\"ignore\", category=pronto.warnings.ProntoWarning)\n",
    "\n",
    "import cellxgene_census\n"
   ]
  },
  {
   "cell_type": "code",
   "execution_count": 2,
   "id": "693b5876",
   "metadata": {},
   "outputs": [],
   "source": [
    "cl = pronto.Ontology.from_obo_library('cl.owl')\n"
   ]
  },
  {
   "cell_type": "code",
   "execution_count": null,
   "id": "d0787a3e",
   "metadata": {},
   "outputs": [],
   "source": []
  },
  {
   "cell_type": "markdown",
   "id": "d16dd583",
   "metadata": {},
   "source": [
    "## Get the  values from the ontology\n",
    "\n",
    "First, you need to query the ontology in order to identify which values you are interested in. There are a few options here based on your preference. "
   ]
  },
  {
   "cell_type": "code",
   "execution_count": 42,
   "id": "5590502f",
   "metadata": {},
   "outputs": [],
   "source": [
    "# set the top level of the ontology\n",
    "root_node = cl['CL:0000988'] # lymphocyte (542), leukocyte (738), hematopoietic (0000988)\n"
   ]
  },
  {
   "cell_type": "markdown",
   "id": "44493d6c",
   "metadata": {},
   "source": [
    "Run the following if you want leaf values only:"
   ]
  },
  {
   "cell_type": "code",
   "execution_count": 17,
   "id": "a5733cdd",
   "metadata": {},
   "outputs": [],
   "source": [
    "\n",
    "\n",
    "leaf_list = []\n",
    "\n",
    "for term in root_node.subclasses(distance=None,with_self=False).to_set():\n",
    "    if term.is_leaf():\n",
    "        leaf_list.append(term.id)\n",
    "        \n",
    "ontology_list = [x for x in leaf_list if x.startswith('CL')]\n"
   ]
  },
  {
   "cell_type": "markdown",
   "id": "83ecdfeb",
   "metadata": {},
   "source": [
    "Run the following if you want any values under the top level:"
   ]
  },
  {
   "cell_type": "code",
   "execution_count": 4,
   "id": "b638d75c",
   "metadata": {},
   "outputs": [],
   "source": [
    "leaf_list = []\n",
    "\n",
    "for term in root_node.subclasses(distance=None,with_self=False).to_set():\n",
    "    leaf_list.append(term.id)\n",
    "        \n",
    "ontology_list = [x for x in leaf_list if x.startswith('CL')]\n"
   ]
  },
  {
   "cell_type": "markdown",
   "id": "72e681bd",
   "metadata": {},
   "source": [
    "Run the following if you want any values under the top level that are within a certain distance of the leaf level. Note that most values in the ontology are within 2-3 levels of a leaf. "
   ]
  },
  {
   "cell_type": "code",
   "execution_count": 45,
   "id": "8f05e620",
   "metadata": {},
   "outputs": [],
   "source": [
    "leaf_list = []\n",
    "\n",
    "for term in root_node.subclasses(distance=None,with_self=False).to_set():\n",
    "    leaf_list.append(term.id)\n",
    "    \n",
    "cl_leaf_list_full = [x for x in leaf_list if x.startswith('CL')]\n",
    "\n",
    "# set the max distance from the bottom level of the ontology \n",
    "# that is allowed\n",
    "max_distance = 5\n",
    "\n",
    "# set with_self = True because we want to include Leafs that have no descendents\n",
    "\n",
    "ontology_list = []\n",
    "for node in cl_leaf_list_full:\n",
    "    for term in cl[node].subclasses(distance=max_distance,with_self=True).to_set():\n",
    "        if term.is_leaf():\n",
    "            if node not in ontology_list:\n",
    "                ontology_list.append(node)\n",
    "\n"
   ]
  },
  {
   "cell_type": "markdown",
   "id": "bbde1fac",
   "metadata": {},
   "source": [
    "## Get the possible values that are included in the Cell Census\n",
    "\n",
    "Now, we need to query the census in order to find which Cell Type values are included in the Census. This was originally needed because when querying for data the census would return an error if any cell type value was not in the Census. However, there's been an update so that it returns only those that are present. But we still think it's nice to have a clear list of which values we have data for. "
   ]
  },
  {
   "cell_type": "code",
   "execution_count": 29,
   "id": "037793eb",
   "metadata": {},
   "outputs": [
    {
     "name": "stderr",
     "output_type": "stream",
     "text": [
      "The \"stable\" release is currently 2023-12-15. Specify 'census_version=\"2023-12-15\"' in future calls to open_soma() to ensure data consistency.\n"
     ]
    }
   ],
   "source": [
    "census = cellxgene_census.open_soma(census_version=\"stable\")\n"
   ]
  },
  {
   "cell_type": "code",
   "execution_count": 30,
   "id": "53d55c26",
   "metadata": {},
   "outputs": [],
   "source": [
    "def check_subset(filter,col):\n",
    "    '''\n",
    "    This function checks an active census object to identify the unique values contained in the\n",
    "    column of interest, after filtering on an initial column.\n",
    "    \n",
    "    Assumes there is an active census object already open. Assumes you only want to query on cell metadata. \n",
    "    Gene metadata querying not currently supported. Currently only supports querying one column at a time.\n",
    "    \n",
    "    Parameters\n",
    "    ----------\n",
    "    filter : string\n",
    "        string containing obs parameter filter\n",
    "        \n",
    "    col : string\n",
    "        string containing column of interest for identifying unique values\n",
    "                \n",
    "    Returns\n",
    "    -------\n",
    "        printed string detailing unique values for input column after applying filter\n",
    "    \n",
    "    '''\n",
    "    cell_data = (\n",
    "        census[\"census_data\"][\"homo_sapiens\"]\n",
    "        .obs.read(value_filter=filter)\n",
    "        .concat()\n",
    "        .to_pandas()\n",
    "    )\n",
    "    \n",
    "    #print('After filtering on ', filter, 'the unique values for ', col, 'are:')\n",
    "    #print(cell_data[col].unique())\n",
    "    return(cell_data[col].unique())\n",
    "    "
   ]
  },
  {
   "cell_type": "code",
   "execution_count": 34,
   "id": "22a77198",
   "metadata": {},
   "outputs": [
    {
     "name": "stdout",
     "output_type": "stream",
     "text": [
      "After filtering on  assay == \"10x 3' v3\" the unique values for  cell_type_ontology_term_id are:\n",
      "['CL:0002605' 'CL:0000128' 'CL:4023051' 'CL:0000129' 'CL:0002453'\n",
      " 'CL:1001602' 'CL:4023012' 'CL:4023013' 'CL:4023038' 'CL:4023041'\n",
      " 'CL:4023070' 'CL:4023016' 'CL:4023015' 'CL:4023011' 'CL:4023017'\n",
      " 'CL:4023018' 'CL:4023036' 'CL:4023040' 'CL:0000115' 'CL:0008034'\n",
      " 'CL:0002138' 'CL:0000763' 'CL:0000057' 'CL:0002319' 'CL:0000542'\n",
      " 'CL:0000077' 'CL:0000097' 'CL:0002131' 'CL:0002129' 'CL:0000136'\n",
      " 'CL:0002046' 'CL:0000817' 'CL:0000051' 'CL:0000826' 'CL:0001029'\n",
      " 'CL:0000990' 'CL:0000785' 'CL:0000816' 'CL:0000786' 'CL:0000784'\n",
      " 'CL:0000557' 'CL:0000084' 'CL:0000814' 'CL:0000837' 'CL:0000037'\n",
      " 'CL:0000576' 'CL:0000050' 'CL:0001054' 'CL:0002397' 'CL:0000003'\n",
      " 'CL:0000913' 'CL:0002338' 'CL:0000939' 'CL:0000895' 'CL:0000623'\n",
      " 'CL:0000794' 'CL:0000904' 'CL:0011025' 'CL:0000900' 'CL:0000540'\n",
      " 'CL:0000700' 'CL:0000127' 'CL:0000815' 'CL:0000912' 'CL:0000940'\n",
      " 'CL:0000899' 'CL:0000312' 'CL:0000798' 'CL:1000414' 'CL:0002144'\n",
      " 'CL:1000413' 'CL:0000669' 'CL:0000359' 'CL:0000235' 'CL:0000775'\n",
      " 'CL:0000236' 'CL:0000453' 'CL:0000148' 'CL:0002573' 'CL:0000242'\n",
      " 'CL:0000598' 'CL:0000099' 'CL:0010012' 'CL:0000525' 'CL:2000060'\n",
      " 'CL:0008036' 'CL:0002488' 'CL:0000499' 'CL:0002601' 'CL:0009095'\n",
      " 'CL:0002343' 'CL:0000066' 'CL:0001078' 'CL:3000001' 'CL:0009092'\n",
      " 'CL:2000042' 'CL:0000451' 'CL:0000094' 'CL:0002064' 'CL:0002410'\n",
      " 'CL:0002079' 'CL:0000169' 'CL:0002275' 'CL:0000171' 'CL:0000173'\n",
      " 'CL:0002623' 'CL:0000788' 'CL:0000787' 'CL:0000492' 'CL:0002503'\n",
      " 'CL:1000398' 'CL:0000068' 'CL:0000646' 'CL:0000625' 'CL:0000185'\n",
      " 'CL:0009005' 'CL:0005006' 'CL:0010008' 'CL:0000746' 'CL:0000192'\n",
      " 'CL:0002548' 'CL:0000186' 'CL:1001428' 'CL:0002543' 'CL:1000329'\n",
      " 'CL:0000064' 'CL:0000151' 'CL:0000319' 'CL:1000330' 'CL:0000624'\n",
      " 'CL:0000809' 'CL:1000320' 'CL:0002320' 'CL:0002341' 'CL:0000158'\n",
      " 'CL:0000038' 'CL:0002340' 'CL:0000019' 'CL:0000909' 'CL:0002393'\n",
      " 'CL:0000860' 'CL:0000897' 'CL:0000921' 'CL:0001065' 'CL:0000232'\n",
      " 'CL:0000233' 'CL:0002394' 'CL:0002399' 'CL:0002071' 'CL:0009011'\n",
      " 'CL:1000343' 'CL:0019032' 'CL:1001516' 'CL:0000131' 'CL:0009016'\n",
      " 'CL:0009012' 'CL:1001589' 'CL:1000432' 'CL:0000287' 'CL:0000636'\n",
      " 'CL:0000034' 'CL:0002585' 'CL:1000436' 'CL:0002363' 'CL:0002586'\n",
      " 'CL:0000575' 'CL:0000748' 'CL:0000764' 'CL:0000681' 'CL:0000114'\n",
      " 'CL:0000745' 'CL:0002303' 'CL:0000740' 'CL:0000908' 'CL:0000875'\n",
      " 'CL:0000767' 'CL:0000980' 'CL:0000049' 'CL:0009009' 'CL:0000738'\n",
      " 'CL:0002149' 'CL:0000067' 'CL:0002366' 'CL:2000055' 'CL:0000182'\n",
      " 'CL:0002538' 'CL:0000134' 'CL:0002673' 'CL:4006000' 'CL:0002326'\n",
      " 'CL:0002518' 'CL:0008011' 'CL:0000190' 'CL:0002139' 'CL:0000189'\n",
      " 'CL:0000388' 'CL:0001050' 'CL:0001044' 'CL:0000841' 'CL:0002063'\n",
      " 'CL:0000071' 'CL:0002370' 'CL:1000271' 'CL:1000331' 'CL:0002062'\n",
      " 'CL:0002598' 'CL:2000016' 'CL:0017000' 'CL:0000807' 'CL:0000894'\n",
      " 'CL:0000808' 'CL:0002365' 'CL:0000782' 'CL:0000823' 'CL:0000893'\n",
      " 'CL:0000187' 'CL:0000188' 'CL:0000065' 'CL:0000617' 'CL:0000679'\n",
      " 'CL:0001031' 'CL:4023059' 'CL:0000878' 'CL:0002617' 'CL:0002327'\n",
      " 'CL:0009099' 'CL:0000095' 'CL:0000988' 'CL:0000890' 'CL:0000863'\n",
      " 'CL:0000972' 'CL:0000985' 'CL:0000987' 'CL:0000970' 'CL:0000896'\n",
      " 'CL:0000906' 'CL:0000905' 'CL:1000488' 'CL:0000091' 'CL:0000766'\n",
      " 'CL:0019021' 'CL:0019022' 'CL:0000632' 'CL:0000813' 'CL:0002620'\n",
      " 'CL:4028004' 'CL:1001568' 'CL:0000583' 'CL:4030023' 'CL:0002633'\n",
      " 'CL:0002145' 'CL:0000861' 'CL:0009089' 'CL:4028006' 'CL:2000093'\n",
      " 'CL:0002632' 'CL:0002480' 'CL:1001603' 'CL:0019019' 'CL:1000312'\n",
      " 'CL:1000223' 'CL:0005012' 'CL:0000622' 'CL:0002075' 'CL:0010003'\n",
      " 'CL:0019001' 'CL:0000313' 'CL:0019003' 'CL:0002555' 'CL:0009116'\n",
      " 'CL:0002324' 'CL:0001071' 'CL:0000584' 'CL:0000164' 'CL:0002563'\n",
      " 'CL:0008019' 'CL:0000125' 'CL:0000160' 'CL:2000032' 'CL:0000765'\n",
      " 'CL:0000082' 'CL:0000644' 'CL:0000706' 'CL:1000143' 'CL:4023054'\n",
      " 'CL:0002279' 'CL:0000510' 'CL:0002204' 'CL:0000577' 'CL:0002496'\n",
      " 'CL:0000898' 'CL:0000561' 'CL:0004219' 'CL:4030028' 'CL:0004232'\n",
      " 'CL:0000573' 'CL:0000604' 'CL:0003050' 'CL:4023033' 'CL:4023032'\n",
      " 'CL:0000749' 'CL:0000750' 'CL:0002306' 'CL:0005009' 'CL:1001106'\n",
      " 'CL:0005011' 'CL:1000849' 'CL:0000650' 'CL:0000653' 'CL:1000452'\n",
      " 'CL:0002201' 'CL:1001107' 'CL:0002179' 'CL:0002268' 'CL:0000651'\n",
      " 'CL:0000903' 'CL:0000155' 'CL:0019031' 'CL:0002657' 'CL:0000508'\n",
      " 'CL:0000162' 'CL:0002252' 'CL:1000443' 'CL:0000132' 'CL:0009010'\n",
      " 'CL:0002304' 'CL:0000529' 'CL:0002243' 'CL:0002224' 'CL:0002223'\n",
      " 'CL:0002225' 'CL:0011004' 'CL:4030027' 'CL:0002350' 'CL:0002495'\n",
      " 'CL:0011019' 'CL:0000569' 'CL:1000334' 'CL:0009039' 'CL:4030026'\n",
      " 'CL:1000495' 'CL:0009042' 'CL:0009041' 'CL:0009043' 'CL:0009017'\n",
      " 'CL:0002254' 'CL:0011026' 'CL:0009006' 'CL:1000353' 'CL:1001431'\n",
      " 'CL:0000910' 'CL:1001432' 'CL:1001111' 'CL:1000768' 'CL:1001318'\n",
      " 'CL:1000692' 'CL:0000838' 'CL:0000839' 'CL:0000547' 'CL:0002355'\n",
      " 'CL:0002045' 'CL:0000559' 'CL:0000836' 'CL:0002262' 'CL:0000556'\n",
      " 'CL:0000092' 'CL:0000938' 'CL:0000936' 'CL:0000771' 'CL:0000704'\n",
      " 'CL:0000126' 'CL:0001064' 'CL:0002553' 'CL:0002419' 'CL:0001082'\n",
      " 'CL:0000513' 'CL:0000006' 'CL:0000514' 'CL:1000311' 'CL:0010022'\n",
      " 'CL:0002489' 'CL:0002364' 'CL:0002425' 'CL:0000915' 'CL:0002293'\n",
      " 'CL:0000789' 'CL:0002396' 'CL:0000934' 'CL:0000907' 'CL:0002677'\n",
      " 'CL:0002678' 'CL:0001057' 'CL:0001063' 'CL:0000165' 'CL:0002132'\n",
      " 'CL:0000255' 'CL:0000630' 'CL:0000150' 'CL:0000548' 'CL:0001056'\n",
      " 'CL:0001203' 'CL:0002038' 'CL:0001062' 'CL:0000844' 'CL:1000449'\n",
      " 'CL:1000500' 'CL:1000597' 'CL:0000979' 'CL:0002117' 'CL:0000081'\n",
      " 'CL:0019028' 'CL:0019029' 'CL:0019026' 'CL:0000595' 'CL:0000138'\n",
      " 'CL:0000810' 'CL:0000811' 'CL:1000487' 'CL:1000304' 'CL:1000305'\n",
      " 'CL:1000296' 'CL:2000059' 'CL:0002250' 'CL:0001058' 'CL:0000818'\n",
      " 'CL:0001043' 'CL:0001049' 'CL:0000776' 'CL:1000272' 'CL:0001076'\n",
      " 'CL:0000135' 'CL:0002057' 'CL:0000791' 'CL:0000800' 'CL:0000076'\n",
      " 'CL:0000498' 'CL:0000163' 'CL:0000100' 'CL:0008015' 'CL:0002088'\n",
      " 'CL:0002504' 'CL:1000275' 'CL:1000279' 'CL:0000677' 'CL:1000309'\n",
      " 'CL:0000696' 'CL:0005019' 'CL:0000708']\n"
     ]
    }
   ],
   "source": [
    "census_vals = check_subset('''assay == \"10x 3\\' v3\"''',# and cell_type_ontology_term_id in [\"CL:0000738\",\"CL:0000542\"]''',\n",
    "             'cell_type_ontology_term_id')"
   ]
  },
  {
   "cell_type": "markdown",
   "id": "3f74d82a",
   "metadata": {},
   "source": [
    "## Compare ontology and cell_census values to select only ontology values in cell census\n",
    "\n",
    "Now, we compare the values from the ontology and cell_census that overlap to get our final list. "
   ]
  },
  {
   "cell_type": "code",
   "execution_count": 48,
   "id": "e6960921",
   "metadata": {},
   "outputs": [],
   "source": [
    "cell_type_list = [x for x in census_vals if x in ontology_list]\n"
   ]
  },
  {
   "cell_type": "code",
   "execution_count": 49,
   "id": "506b701a",
   "metadata": {},
   "outputs": [
    {
     "name": "stdout",
     "output_type": "stream",
     "text": [
      "There are 666 values in ontology_list\n",
      "There are 448 values in census_vals\n",
      "There are 146 values in cell_type_list\n"
     ]
    }
   ],
   "source": [
    "print('There are {} values in ontology_list'.format(len(ontology_list)))\n",
    "print('There are {} values in census_vals'.format(len(census_vals)))\n",
    "\n",
    "print('There are {} values in cell_type_list'.format(len(cell_type_list)))"
   ]
  },
  {
   "cell_type": "code",
   "execution_count": 50,
   "id": "00e7fe8a",
   "metadata": {},
   "outputs": [
    {
     "name": "stdout",
     "output_type": "stream",
     "text": [
      "['CL:0000129', 'CL:0000763', 'CL:0000542', 'CL:0000097', 'CL:0002046', 'CL:0000817', 'CL:0000051', 'CL:0000826', 'CL:0001029', 'CL:0000990', 'CL:0000785', 'CL:0000816', 'CL:0000786', 'CL:0000784', 'CL:0000557', 'CL:0000084', 'CL:0000814', 'CL:0000837', 'CL:0000037', 'CL:0000576', 'CL:0000050', 'CL:0001054', 'CL:0002397', 'CL:0000913', 'CL:0002338', 'CL:0000939', 'CL:0000895', 'CL:0000623', 'CL:0000794', 'CL:0000904', 'CL:0011025', 'CL:0000900', 'CL:0000815', 'CL:0000912', 'CL:0000940', 'CL:0000899', 'CL:0000798', 'CL:0000235', 'CL:0000775', 'CL:0000236', 'CL:0000453', 'CL:0002343', 'CL:0001078', 'CL:3000001', 'CL:0000451', 'CL:0000094', 'CL:0000788', 'CL:0000787', 'CL:0000492', 'CL:0000625', 'CL:0000624', 'CL:0000809', 'CL:0000038', 'CL:0000909', 'CL:0002393', 'CL:0000860', 'CL:0000897', 'CL:0000921', 'CL:0001065', 'CL:0000232', 'CL:0000233', 'CL:0002394', 'CL:0002399', 'CL:0000764', 'CL:0000908', 'CL:0000875', 'CL:0000767', 'CL:0000980', 'CL:0000049', 'CL:0000738', 'CL:2000055', 'CL:0001050', 'CL:0001044', 'CL:0000841', 'CL:0000807', 'CL:0000894', 'CL:0000808', 'CL:0000782', 'CL:0000823', 'CL:0000893', 'CL:0000878', 'CL:0000890', 'CL:0000863', 'CL:0000972', 'CL:0000985', 'CL:0000987', 'CL:0000970', 'CL:0000896', 'CL:0000906', 'CL:0000905', 'CL:0000091', 'CL:0000766', 'CL:0000813', 'CL:0000583', 'CL:0000861', 'CL:1001603', 'CL:0001071', 'CL:0000765', 'CL:0002496', 'CL:0000898', 'CL:0000903', 'CL:0000910', 'CL:0000838', 'CL:0000839', 'CL:0000547', 'CL:0002355', 'CL:0002045', 'CL:0000559', 'CL:0000836', 'CL:0000556', 'CL:0000092', 'CL:0000938', 'CL:0000936', 'CL:0000771', 'CL:0002419', 'CL:0001082', 'CL:0002489', 'CL:0002425', 'CL:0000915', 'CL:0000789', 'CL:0002396', 'CL:0000934', 'CL:0000907', 'CL:0002677', 'CL:0002678', 'CL:0001057', 'CL:0001056', 'CL:0001203', 'CL:0002038', 'CL:0001062', 'CL:0000844', 'CL:0000979', 'CL:0002117', 'CL:0000081', 'CL:0000595', 'CL:0000810', 'CL:0000811', 'CL:0001058', 'CL:0000818', 'CL:0001043', 'CL:0001049', 'CL:0000776', 'CL:0001076', 'CL:0002057', 'CL:0000791', 'CL:0000800']\n"
     ]
    }
   ],
   "source": [
    "print(cell_type_list)"
   ]
  },
  {
   "cell_type": "code",
   "execution_count": null,
   "id": "0c0b4697",
   "metadata": {},
   "outputs": [],
   "source": []
  }
 ],
 "metadata": {
  "kernelspec": {
   "display_name": "venv",
   "language": "python",
   "name": "venv"
  },
  "language_info": {
   "codemirror_mode": {
    "name": "ipython",
    "version": 3
   },
   "file_extension": ".py",
   "mimetype": "text/x-python",
   "name": "python",
   "nbconvert_exporter": "python",
   "pygments_lexer": "ipython3",
   "version": "3.8.16"
  }
 },
 "nbformat": 4,
 "nbformat_minor": 5
}
