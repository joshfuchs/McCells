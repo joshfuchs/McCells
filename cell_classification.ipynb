{
 "cells": [
  {
   "cell_type": "markdown",
   "id": "54481408",
   "metadata": {},
   "source": [
    "# Neural Network Classifier \n",
    "\n",
    "We are going to build a PyTorch neural network classifier using scRNAseq data. \n",
    "\n",
    "Helpful link:\n",
    "Interfacing pytorch models with anndata: https://anndata.readthedocs.io/en/latest/tutorials/notebooks/annloader.html\n",
    "\n",
    "Possibly helpful about speeding up pytorch modeling: https://sebastianraschka.com/blog/2023/pytorch-faster.html\n",
    "\n",
    "This program will:\n",
    "\n",
    "- pull in scRNAseq data from cell_census\n",
    "- wrangle the data for modelling\n",
    "- appply the NN\n",
    "\n",
    "## Urgent:\n",
    "- should parent_dict be calculated in preprocess_data to ensure data consistency?\n",
    "- Full Hema dataset has 85 leaf labels, but sometimes train/test dataset don't have full set, so setting up model can be incorrect in terms of number of outputs. Think about what's happening here and how we need to standardize it better.\n",
    "\n",
    "\n",
    "## To Do:\n",
    "\n",
    "- feature engineering to remove useless genes\n",
    "- update documentation\n",
    "- add overall title to results plot to give context\n",
    "\n",
    "\n",
    "## Done:\n",
    "- use softmax for final layer\n",
    "- use Cross entropy loss\n",
    "- try ADAM optimizer, adjust learning rate\n",
    "- plot loss curve\n",
    "- use RELU for each layer\n",
    "- plot accuracy curve\n",
    "- add model.trend() and model.eval()\n",
    "- add batch summarization \n",
    "- ensure that leaf order matches in all the things\n",
    "- when splitting the data for training/validation,  ensure that the number of genes is the same in both\n",
    "- select only genes that are protein coding (~20k)\n",
    "- update internal_node_loss so that it sums the losses for each cell, then divides to get the average\n",
    "- add internal node loss structure to the validation\n",
    "- update metric plots to match outputs\n",
    "- add accuracy/f1score etc. for internal nodes\n",
    "- internal accuracy code\n",
    "- rewrite output_probability_tensor to work for internal nodes only (probably done)\n",
    "\n",
    "\n"
   ]
  },
  {
   "cell_type": "code",
   "execution_count": 1,
   "id": "d97de495",
   "metadata": {},
   "outputs": [
    {
     "name": "stderr",
     "output_type": "stream",
     "text": [
      "/home/fujoshua/cell_classification/env/lib/python3.10/site-packages/tqdm/auto.py:21: TqdmWarning: IProgress not found. Please update jupyter and ipywidgets. See https://ipywidgets.readthedocs.io/en/stable/user_install.html\n",
      "  from .autonotebook import tqdm as notebook_tqdm\n"
     ]
    }
   ],
   "source": [
    "#import cellxgene_census as cell_census\n",
    "import anndata as ad\n",
    "import umap\n",
    "\n",
    "import pronto\n",
    "import warnings\n",
    "warnings.filterwarnings(\"ignore\", category=pronto.warnings.ProntoWarning)\n",
    "\n",
    "\n",
    "import pandas as pd\n",
    "import numpy as np\n",
    "from scipy import sparse\n",
    "import copy\n",
    "import time\n",
    "import sys\n",
    "import os\n",
    "import pickle\n",
    "\n",
    "\n",
    "import torch\n",
    "import torch.nn as nn\n",
    "import torch.nn.functional as F\n",
    "import torch.optim.lr_scheduler as lr_scheduler\n",
    "\n",
    "from torcheval.metrics.functional import multilabel_accuracy\n",
    "\n",
    "from sklearn.preprocessing import LabelEncoder\n",
    "from sklearn.model_selection import train_test_split\n",
    "from sklearn.metrics import f1_score\n",
    "\n",
    "import matplotlib.pyplot as plt\n",
    "import seaborn as sns\n",
    "\n",
    "sns.set_style(style='whitegrid')\n",
    "sns.set_context(context='notebook')\n",
    "plt.rc('figure', autolayout=True)\n",
    "plt.rc(\n",
    "    'axes',\n",
    "    labelweight='bold',\n",
    "    labelsize='large',\n",
    "    titleweight='bold',\n",
    "    titlesize=9,\n",
    "    linewidth=4\n",
    "    )\n",
    "\n",
    "%matplotlib inline"
   ]
  },
  {
   "cell_type": "code",
   "execution_count": 2,
   "id": "57734e26",
   "metadata": {},
   "outputs": [
    {
     "name": "stdout",
     "output_type": "stream",
     "text": [
      "cuda:0\n"
     ]
    }
   ],
   "source": [
    "device = torch.device(\"cuda:0\" if torch.cuda.is_available() else \"cpu\")\n",
    "print(device)"
   ]
  },
  {
   "cell_type": "markdown",
   "id": "12e3649d",
   "metadata": {},
   "source": [
    "## Read in the data\n",
    "\n",
    "Great-lakes does not have internet access, so we pull in the data outside first, then load it here."
   ]
  },
  {
   "cell_type": "markdown",
   "id": "b57de4ab",
   "metadata": {},
   "source": [
    "### Load Single Dataset"
   ]
  },
  {
   "cell_type": "code",
   "execution_count": 4,
   "id": "6b786063",
   "metadata": {},
   "outputs": [],
   "source": [
    "#adata = ad.read_h5ad('small_1044_900') # 42000 cells\n",
    "#adata = ad.read_h5ad('leaf_list_in_cl') # 658000 cells\n",
    "#adata = ad.read_h5ad('leaf_list_leukocyte_24Aug') # 516000 cells, 60k genes\n",
    "#adata = ad.read_h5ad('leaf_list_leukocyte_6Sep_coding_genes') # 516k cells, 20k genes\n",
    "#adata = ad.read_h5ad('leaf_list_hematopoietic_14Sep_coding_genes') # 549k cells, 20k genes, upper level hematopoietic (0000988)\n",
    "#adata = ad.read_h5ad('1044_624_895_27Sep_coding_genes') # 230k cells, only CL1044 (leaf), 624 (internal), and 895 (leaf) including leaf and internal node\n",
    "#adata = ad.read_h5ad('13Oct_2int_3leaf') #379k cells, 2 internal (576,624), 3 leaf (1044,895,2057)\n",
    "\n",
    "adata = ad.read_h5ad('24Oct_hematopoietic_cells_p2') # 472k cells, part of the full hema data set\n"
   ]
  },
  {
   "cell_type": "markdown",
   "id": "32d74975",
   "metadata": {},
   "source": [
    "### Load Multiple Datasets and combine"
   ]
  },
  {
   "cell_type": "code",
   "execution_count": 3,
   "id": "225edd4a",
   "metadata": {},
   "outputs": [],
   "source": [
    "# change into scratch directory (where data is saved)\n",
    "os.chdir('/scratch/welchjd_root/welchjd99/fujoshua')"
   ]
  },
  {
   "cell_type": "code",
   "execution_count": 4,
   "id": "77333782",
   "metadata": {},
   "outputs": [],
   "source": [
    "adata1 = ad.read_h5ad('24Oct_hematopoietic_cells_p1') # 1.98 million cells\n",
    "adata2 = ad.read_h5ad('24Oct_hematopoietic_cells_p2') # 472k cells\n",
    "\n"
   ]
  },
  {
   "cell_type": "code",
   "execution_count": 5,
   "id": "aab3bc0e",
   "metadata": {},
   "outputs": [
    {
     "name": "stderr",
     "output_type": "stream",
     "text": [
      "/home/fujoshua/cell_classification/env/lib/python3.10/site-packages/anndata/_core/anndata.py:1897: UserWarning: Observation names are not unique. To make them unique, call `.obs_names_make_unique`.\n",
      "  utils.warn_names_duplicates(\"obs\")\n"
     ]
    }
   ],
   "source": [
    "adata = ad.concat([adata1,adata2]) #2.45 million"
   ]
  },
  {
   "cell_type": "code",
   "execution_count": 6,
   "id": "44b4a312",
   "metadata": {},
   "outputs": [],
   "source": [
    "# delete adata1 and adata2 to save memory\n",
    "del adata1\n",
    "del adata2"
   ]
  },
  {
   "cell_type": "code",
   "execution_count": 13,
   "id": "b463a769",
   "metadata": {},
   "outputs": [
    {
     "data": {
      "text/plain": [
       "AnnData object with n_obs × n_vars = 2455115 × 19966\n",
       "    obs: 'cell_type_ontology_term_id', 'assay', 'is_primary_data'"
      ]
     },
     "execution_count": 13,
     "metadata": {},
     "output_type": "execute_result"
    }
   ],
   "source": [
    "adata"
   ]
  },
  {
   "cell_type": "code",
   "execution_count": 14,
   "id": "ddb84719",
   "metadata": {},
   "outputs": [
    {
     "data": {
      "text/plain": [
       "AnnData object with n_obs × n_vars = 1982772 × 19966\n",
       "    obs: 'cell_type_ontology_term_id', 'assay', 'is_primary_data'\n",
       "    var: 'soma_joinid', 'feature_id', 'feature_name', 'feature_length'"
      ]
     },
     "execution_count": 14,
     "metadata": {},
     "output_type": "execute_result"
    }
   ],
   "source": [
    "adata1"
   ]
  },
  {
   "cell_type": "code",
   "execution_count": 15,
   "id": "6db56686",
   "metadata": {},
   "outputs": [
    {
     "data": {
      "text/plain": [
       "AnnData object with n_obs × n_vars = 472343 × 19966\n",
       "    obs: 'cell_type_ontology_term_id', 'assay', 'is_primary_data'\n",
       "    var: 'soma_joinid', 'feature_id', 'feature_name', 'feature_length'"
      ]
     },
     "execution_count": 15,
     "metadata": {},
     "output_type": "execute_result"
    }
   ],
   "source": [
    "adata2"
   ]
  },
  {
   "cell_type": "code",
   "execution_count": null,
   "id": "bbb4d71d",
   "metadata": {},
   "outputs": [],
   "source": []
  },
  {
   "cell_type": "markdown",
   "id": "726e9cb8",
   "metadata": {},
   "source": [
    "### Load the Cell Ontology\n"
   ]
  },
  {
   "cell_type": "code",
   "execution_count": 5,
   "id": "92bd2696",
   "metadata": {},
   "outputs": [],
   "source": [
    "cl = pronto.Ontology.from_obo_library('cl.owl')\n"
   ]
  },
  {
   "cell_type": "code",
   "execution_count": null,
   "id": "e3c2a596",
   "metadata": {},
   "outputs": [],
   "source": []
  },
  {
   "cell_type": "code",
   "execution_count": null,
   "id": "ce882fc1",
   "metadata": {},
   "outputs": [],
   "source": [
    "display(adata)"
   ]
  },
  {
   "cell_type": "markdown",
   "id": "d01f49c3",
   "metadata": {},
   "source": [
    "## Checking memory allocations\n",
    "\n"
   ]
  },
  {
   "cell_type": "code",
   "execution_count": 20,
   "id": "06202cf7",
   "metadata": {},
   "outputs": [
    {
     "name": "stdout",
     "output_type": "stream",
     "text": [
      "47.674556416\n",
      "3.4204549120000003\n",
      "3.401314816\n"
     ]
    }
   ],
   "source": [
    "print(torch.cuda.get_device_properties(0).total_memory*1e-9)\n",
    "print(torch.cuda.memory_reserved()*1e-9)\n",
    "print(torch.cuda.memory_allocated()*1e-9)\n",
    "#print(torch.cuda.mem_get_info())\n"
   ]
  },
  {
   "cell_type": "code",
   "execution_count": 15,
   "id": "efed26b2",
   "metadata": {},
   "outputs": [],
   "source": [
    "def sizeof_fmt(num, suffix='B'):\n",
    "    ''' by Fred Cirera,  https://stackoverflow.com/a/1094933/1870254, modified'''\n",
    "    for unit in ['','Ki','Mi','Gi','Ti','Pi','Ei','Zi']:\n",
    "        if abs(num) < 1024.0:\n",
    "            return \"%3.1f %s%s\" % (num, unit, suffix)\n",
    "        num /= 1024.0\n",
    "    return \"%.1f %s%s\" % (num, 'Yi', suffix)\n"
   ]
  },
  {
   "cell_type": "code",
   "execution_count": 17,
   "id": "a438d0f4",
   "metadata": {},
   "outputs": [
    {
     "name": "stdout",
     "output_type": "stream",
     "text": [
      "                        y_data: 217.4 MiB\n",
      "                   ontology_df: 128.4 KiB\n",
      "              ontology_leaf_df: 82.9 KiB\n",
      "                           _i8:  7.0 KiB\n",
      "                          _i10:  6.1 KiB\n",
      "                  mapping_dict:  4.6 KiB\n",
      "                   parent_dict:  2.2 KiB\n",
      "                  LabelEncoder:  1.0 KiB\n",
      "                          _i13:  977.0 B\n",
      "                           _i1:  952.0 B\n"
     ]
    }
   ],
   "source": [
    "for name, size in sorted(((name, sys.getsizeof(value)) for name, value in list(\n",
    "                          locals().items())), key= lambda x: -x[1])[:10]:\n",
    "    print(\"{:>30}: {:>8}\".format(name, sizeof_fmt(size)))\n"
   ]
  },
  {
   "cell_type": "code",
   "execution_count": 21,
   "id": "5ea23ce2",
   "metadata": {},
   "outputs": [],
   "source": [
    "del adata"
   ]
  },
  {
   "cell_type": "code",
   "execution_count": 14,
   "id": "fdbd1893",
   "metadata": {},
   "outputs": [],
   "source": [
    "del y_holdout"
   ]
  },
  {
   "cell_type": "markdown",
   "id": "8c7a523c",
   "metadata": {},
   "source": [
    "## Plotting Functions"
   ]
  },
  {
   "cell_type": "code",
   "execution_count": 7,
   "id": "6e07fe9e",
   "metadata": {},
   "outputs": [],
   "source": [
    "def plot_results(marginalization_dict,num_epochs,save_title=None):\n",
    "    fig, ax = plt.subplots(3,2,figsize=(9,9))\n",
    "    \n",
    "    \n",
    "    sns.scatterplot(x=range(1,num_epochs+1),y=marginalization_dict['accuracy_train_leaf_hist'], \n",
    "                    ax = ax[0,0],color='lightcoral',label='Train')\n",
    "    sns.scatterplot(x=range(1,num_epochs+1),y=marginalization_dict['accuracy_val_leaf_hist'], \n",
    "                    ax = ax[0,0],color='mediumslateblue',label='Validation')\n",
    "    \n",
    "    sns.scatterplot(x=range(1,num_epochs+1),y=marginalization_dict['accuracy_train_internal_hist'],\n",
    "                   ax = ax[0,1],color='lightcoral',label='Train')\n",
    "    sns.scatterplot(x=range(1,num_epochs+1),y=marginalization_dict['accuracy_val_internal_hist'],\n",
    "                   ax = ax[0,1],color='mediumslateblue',label='Validation')\n",
    "    \n",
    "    sns.scatterplot(x=range(1,num_epochs+1),y=marginalization_dict['loss_train_hist'], \n",
    "                    ax = ax[1,0],color='lightcoral')\n",
    "    sns.scatterplot(x=range(1,num_epochs+1),y=marginalization_dict['loss_val_hist'], \n",
    "                    ax = ax[1,0],color='mediumslateblue')\n",
    "    \n",
    "    sns.scatterplot(x=range(1,num_epochs+1),y=marginalization_dict['loss_train_leaf_hist'], \n",
    "                    ax = ax[1,1],color='lightcoral',marker='X',label='Train Leafs')\n",
    "    sns.scatterplot(x=range(1,num_epochs+1),y=marginalization_dict['loss_train_parents_hist'], \n",
    "                    ax = ax[1,1],color='lightcoral',label='Train Parents')\n",
    "    sns.scatterplot(x=range(1,num_epochs+1),y=marginalization_dict['loss_train_internal_hist'], \n",
    "                    ax = ax[1,1],color='lightcoral',marker='v',label='Train Internal')\n",
    "\n",
    "    sns.scatterplot(x=range(1,num_epochs+1),y=marginalization_dict['loss_val_leaf_hist'], \n",
    "                    ax = ax[2,0],color='mediumslateblue',marker='X',label='Val Leafs')\n",
    "    sns.scatterplot(x=range(1,num_epochs+1),y=marginalization_dict['loss_val_parents_hist'], \n",
    "                    ax = ax[2,0],color='mediumslateblue',label='Val Parents')\n",
    "    sns.scatterplot(x=range(1,num_epochs+1),y=marginalization_dict['loss_val_internal_hist'], \n",
    "                    ax = ax[2,0],color='mediumslateblue',marker='v',label='Val Internal')\n",
    "\n",
    "\n",
    "    sns.scatterplot(x=range(1,num_epochs+1),y=marginalization_dict['f1_score_train_leaf'], \n",
    "                    ax = ax[2,1],color='lightcoral',label='Train')\n",
    "    sns.scatterplot(x=range(1,num_epochs+1),y=marginalization_dict['f1_score_val_leaf'], \n",
    "                    ax = ax[2,1],color='mediumslateblue',label='Validation')\n",
    "\n",
    "    \n",
    "    ax[0,0].set_xlabel('Epoch')\n",
    "    ax[0,1].set_xlabel('Epoch')\n",
    "    ax[1,0].set_xlabel('Epoch')\n",
    "    ax[1,1].set_xlabel('Epoch')\n",
    "    ax[2,0].set_xlabel('Epoch')\n",
    "    ax[2,1].set_xlabel('Epoch')\n",
    "\n",
    "\n",
    "    ax[0,0].set_ylabel('Leaf Accuracy')\n",
    "    ax[0,1].set_ylabel('Internal Accuracy')\n",
    "    ax[1,0].set_ylabel('Total Loss')\n",
    "    ax[1,1].set_ylabel('Training Loss')\n",
    "    ax[2,0].set_ylabel('Validation Loss')\n",
    "    ax[2,1].set_ylabel('F1 Score')\n",
    "\n",
    "\n",
    "    # set the boundary for the accuracy plots\n",
    "    #ax[0,1].set_ylim((50,100))\n",
    "    \n",
    "    # turn off the axis for subplot 2,1\n",
    "    #ax[2,1].axis('off')\n",
    "    \n",
    "    if save_title:\n",
    "        plt.savefig(save_title)\n",
    "\n",
    "\n"
   ]
  },
  {
   "cell_type": "code",
   "execution_count": 29,
   "id": "4e669ecb",
   "metadata": {},
   "outputs": [
    {
     "data": {
      "image/png": "[encoded data removed]",
      "text/plain": [
       "<Figure size 1800x800 with 1 Axes>"
      ]
     },
     "metadata": {},
     "output_type": "display_data"
    }
   ],
   "source": [
    "cell_ids = adata.obs['cell_type_ontology_term_id']\n",
    "\n",
    "plt.figure(figsize=(18,8))\n",
    "\n",
    "plots = sns.histplot(x=cell_ids,stat='percent',color='lightcoral',alpha=0.9)\n",
    "# stat can also be probability or percent\n",
    "\n",
    "plots.bar_label(plots.containers[0],fmt='%.2f')\n",
    "\n",
    "\n",
    "#plt.xticks(rotation=90)\n",
    "plt.xlabel('Cell Ontology Terms',labelpad=15)\n",
    "plt.ylabel('Percent of Total Cells')\n",
    "plt.xticks(rotation=45)\n",
    "\n",
    "\n",
    "plt.show()"
   ]
  },
  {
   "cell_type": "markdown",
   "id": "e75fe6f1",
   "metadata": {},
   "source": [
    "For the leucokyte dataset of 516,447 cells, the cell ID with the smallest percentage of data is CL:0001076, which makes up 0.00677 percent of the dataset. This corresponds to about 35 cells. The cell ID with the largest percentage is CL:0000895, which makes up 19.59 percent of the dataset. This corresponds to about 101,200 cells. "
   ]
  },
  {
   "cell_type": "code",
   "execution_count": 14,
   "id": "46745cd6",
   "metadata": {
    "scrolled": true
   },
   "outputs": [
    {
     "data": {
      "image/png": "[encoded data removed]",
      "text/plain": [
       "<Figure size 800x1200 with 1 Axes>"
      ]
     },
     "metadata": {},
     "output_type": "display_data"
    }
   ],
   "source": [
    "plt.figure(figsize=(8,12))\n",
    "\n",
    "\n",
    "plots = sns.histplot(y=y_train.cpu(),stat='count',color='lightcoral',alpha=0.9)\n",
    "# stat can also be probability or percent\n",
    "plots.bar_label(plots.containers[0],fmt='%.2f')\n",
    "\n",
    "\n",
    "#plt.xticks(rotation=90)\n",
    "plt.ylabel('Cell Leaf Ontology Terms',labelpad=15)\n",
    "plt.xlabel('Count of Total Cells')\n",
    "\n",
    "plt.show()"
   ]
  },
  {
   "cell_type": "code",
   "execution_count": 15,
   "id": "91c23766",
   "metadata": {},
   "outputs": [
    {
     "data": {
      "image/png": "[encoded data removed]",
      "text/plain": [
       "<Figure size 800x1200 with 1 Axes>"
      ]
     },
     "metadata": {},
     "output_type": "display_data"
    }
   ],
   "source": [
    "plt.figure(figsize=(8,12))\n",
    "\n",
    "\n",
    "plots = sns.histplot(y=y_val.cpu(),stat='count',color='lightcoral',alpha=0.9)\n",
    "# stat can also be probability or percent\n",
    "\n",
    "plots.bar_label(plots.containers[0],fmt='%.2f')\n",
    "\n",
    "\n",
    "#plt.xticks(rotation=90)\n",
    "plt.ylabel('Cell Leaf Ontology Terms',labelpad=15)\n",
    "plt.xlabel('Count of Total Cells')\n",
    "\n",
    "plt.show()"
   ]
  },
  {
   "cell_type": "code",
   "execution_count": 16,
   "id": "aee1930f",
   "metadata": {},
   "outputs": [
    {
     "data": {
      "text/plain": [
       "(tensor([-9999, -9998, -9997, -9996, -9995, -9994, -9993, -9992, -9991, -9990,\n",
       "         -9989, -9988, -9987, -9986, -9985, -9984,     0,     1,     2,     3,\n",
       "             4,     5,     6,     7,     8,     9,    10,    11,    12,    13,\n",
       "            14,    15,    16,    17,    18,    19,    20,    21,    22,    23,\n",
       "            24,    25,    26,    27,    28,    29,    30,    31,    32,    33,\n",
       "            34,    35,    36,    37,    38,    39,    40,    41,    42,    43,\n",
       "            44,    45,    46,    47,    48,    49,    50,    51]),\n",
       " tensor([  646,    88,  1017,  1045,    47,  1677,   567,   338,  1262,  9048,\n",
       "         10283,   417,  1130,    16,   266,  6186, 21969,  2208,   132,   180,\n",
       "            86,   357,   752,   162,   337,   320,   107,    53,   115,    83,\n",
       "            26,    16,   183,    15,  1069,    39,     3,  5824,  1457,   148,\n",
       "            24,    16,  3638,  1247,   799,   836,   578,   244,   229,     6,\n",
       "           843,  2874,  1562,  1791,     3,   397,   889,    36,   319,    25,\n",
       "          6937,   412,   197,   461,   145,   195,    85,     7]))"
      ]
     },
     "execution_count": 16,
     "metadata": {},
     "output_type": "execute_result"
    }
   ],
   "source": [
    "y_val.unique(return_counts=True)"
   ]
  },
  {
   "cell_type": "code",
   "execution_count": 25,
   "id": "1c40fd6c",
   "metadata": {},
   "outputs": [],
   "source": [
    "#print(pd.DataFrame(y_train.cpu()).value_counts())\n",
    "\n",
    "#print(pd.DataFrame(y_val.cpu()).value_counts())\n",
    "\n",
    "difference_df = pd.Series(y_train.cpu()).value_counts(normalize=True) - pd.Series(y_val.cpu()).value_counts(normalize=True)\n",
    "\n"
   ]
  },
  {
   "cell_type": "code",
   "execution_count": 26,
   "id": "ae47489f",
   "metadata": {},
   "outputs": [
    {
     "data": {
      "text/plain": [
       "0    0.000160\n",
       "1   -0.000525\n",
       "2   -0.000051\n",
       "3    0.000034\n",
       "4   -0.000359\n",
       "Name: proportion, dtype: float64"
      ]
     },
     "execution_count": 26,
     "metadata": {},
     "output_type": "execute_result"
    }
   ],
   "source": [
    "difference_df.head()"
   ]
  },
  {
   "cell_type": "code",
   "execution_count": 31,
   "id": "a99b57c5",
   "metadata": {
    "collapsed": true
   },
   "outputs": [
    {
     "data": {
      "image/png": "[encoded data removed]",
      "text/plain": [
       "<Figure size 1100x900 with 1 Axes>"
      ]
     },
     "metadata": {},
     "output_type": "display_data"
    }
   ],
   "source": [
    "plt.figure(figsize=(11,9))\n",
    "\n",
    "\n",
    "plots = sns.barplot(x=difference_df.index, y=difference_df.values,\n",
    "            color='lightcoral',alpha=0.9)\n",
    "\n",
    "plots.bar_label(plots.containers[0],fmt='%.5f',rotation=90,fontsize=10)\n",
    "\n",
    "#plt.xticks(rotation=90)\n",
    "plt.ylabel('Percent Difference (Training-Validation)', fontsize=13)\n",
    "plt.xlabel('Cell Leaf Ontology Terms',labelpad=15)\n",
    "\n",
    "plt.show()"
   ]
  },
  {
   "cell_type": "code",
   "execution_count": null,
   "id": "c10e2f2d",
   "metadata": {},
   "outputs": [],
   "source": []
  },
  {
   "cell_type": "markdown",
   "id": "b7e04181",
   "metadata": {},
   "source": [
    "## Encode and Split the Data into Train/Validate to prepare for modeling\n",
    "\n",
    "Encode the label values, then split the data into testing and training sets, then put into PyTorch Tensors.\n"
   ]
  },
  {
   "cell_type": "code",
   "execution_count": 9,
   "id": "ad15aeb6",
   "metadata": {},
   "outputs": [],
   "source": [
    "def preprocess_data(adata, target_column):\n",
    "    '''\n",
    "    This function perfroms preprocessing on ann AnnData object to prepare it for modelling. It will encode the \n",
    "    target column and returns x_data and y_data for modelling\n",
    "    \n",
    "    \n",
    "    Parameters\n",
    "    ----------\n",
    "    adata : AnnData Object\n",
    "        existing AnnData object to perform processing on \n",
    "        \n",
    "    target_column : string\n",
    "        string of target column (from cell metadata) to encode\n",
    "        \n",
    "        \n",
    "    Returns\n",
    "    -------\n",
    "    x_data : SciPy Matrix\n",
    "        scipy sparse CSR matrix\n",
    "    \n",
    "    y_data : Series\n",
    "        Pandas Series of encoded target values\n",
    "    \n",
    "    '''\n",
    "    \n",
    "    # select the labels. \n",
    "    labels = adata.obs\n",
    "    \n",
    "    # encode the target column\n",
    "    #lb = LabelEncoder()\n",
    "    #labels['encoded_labels'] = lb.fit_transform(labels[target_column])\n",
    "    \n",
    "    # we want to only encode the targets that are leafs. We will leave \n",
    "    # internal nodes as the CL number in order to assist with masking \n",
    "    # the appropriate parent nodes \n",
    "    # first, get list of all cell values\n",
    "    all_cell_values = labels[target_column].unique().to_list()\n",
    "    \n",
    "    # identify which values are leafs\n",
    "    # we use positive number for leaf values\n",
    "    # and negative number for internal nodes\n",
    "    mapping_dict = {}\n",
    "    leaf_values = []\n",
    "    internal_values = []\n",
    "    encoded_leaf_val = 0\n",
    "    encoded_internal_val = -9999\n",
    "    for term in all_cell_values:\n",
    "        if cl[term].is_leaf():\n",
    "            mapping_dict[term] = encoded_leaf_val\n",
    "            leaf_values.append(term)\n",
    "            encoded_leaf_val += 1\n",
    "        else:\n",
    "            # check if internal values have associated sub-values in the dataset\n",
    "            #    sub-values do not have to be leafs\n",
    "            # if so, add value as internal values\n",
    "            # if not, prune ontology so consider \n",
    "            term_subvalues = []\n",
    "            # get leaf values of this term\n",
    "            for sub_term in cl[term].subclasses(distance=None,with_self=False).to_set():\n",
    "                    term_subvalues.append(sub_term.id)\n",
    "            \n",
    "            # get values in all_call_values in term_leafs\n",
    "            intersection_list = list(set(all_cell_values).intersection(term_subvalues))\n",
    "            if len(intersection_list) == 0:\n",
    "                mapping_dict[term] = encoded_leaf_val\n",
    "                leaf_values.append(term)\n",
    "                encoded_leaf_val += 1\n",
    "            else:\n",
    "                mapping_dict[term] = encoded_internal_val\n",
    "                internal_values.append(term)\n",
    "                encoded_internal_val += 1            \n",
    "            \n",
    "            \n",
    "    # use the leaf_mapping_dict to \n",
    "    labels['encoded_labels'] = labels[target_column].map(mapping_dict)\n",
    "    \n",
    "    x_data = adata.X.copy()\n",
    "    y_data = labels['encoded_labels']\n",
    "    \n",
    "    return(x_data,y_data, mapping_dict, leaf_values, internal_values)"
   ]
  },
  {
   "cell_type": "code",
   "execution_count": 6,
   "id": "7de449e1",
   "metadata": {},
   "outputs": [],
   "source": [
    "def preprocess_data_ontology(adata, target_column,upper_limit = None, cl_only = False, include_leafs = False):\n",
    "    '''\n",
    "    This function perfroms preprocessing on ann AnnData object to prepare it for modelling. It will encode the \n",
    "    target column and returns x_data and y_data for modelling\n",
    "    \n",
    "    This function also preprocesses the ontology to build a pandas dataframe that can be used to \n",
    "    calculate predicted probabilities. This will enable simple matrix multiplication to calculate\n",
    "    probabilities and loss.\n",
    "    \n",
    "    Can have an upper limit to the ontology if upper_limit is set\n",
    "    \n",
    "    \n",
    "    Assumes there is an active census object already open as cl. \n",
    "\n",
    "    \n",
    "    \n",
    "    Parameters\n",
    "    ----------\n",
    "    adata : AnnData Object\n",
    "        existing AnnData object to perform processing on \n",
    "        \n",
    "    target_column : string\n",
    "        string of target column (from cell metadata) to encode\n",
    "     \n",
    "    upper_limit : string\n",
    "        if you want to specify an upper limit in the ontology, set this to \n",
    "        the upper limit (inclusive)\n",
    "        Default: None (no limit to ontology)\n",
    "        \n",
    "    cl_only : boolean\n",
    "        option to only include the Cell Ontology (CL) in the dataframe\n",
    "        True means only those cell IDs that start with CL are included\n",
    "        Default: False\n",
    "        \n",
    "    include_leafs : boolean\n",
    "        option to include leafs in the list of parent cell IDs\n",
    "        Default is False because we are calculating the leaf loss differently\n",
    "        Default: False\n",
    "        \n",
    "    Returns\n",
    "    -------\n",
    "    x_data : SciPy Matrix\n",
    "        scipy sparse CSR matrix\n",
    "    \n",
    "    y_data : Series\n",
    "        Pandas Series of encoded target values\n",
    "        \n",
    "    mapping_dict : Dictionary\n",
    "        dictionary mapping the Cell Ontology IDs (keys) to the encoded values (values)\n",
    "        Values >= 0 are leaf nodes\n",
    "        Values < 0 are internal nodes\n",
    "\n",
    "    leaf_values : list\n",
    "        list composed of all leaf values included in the dataset\n",
    "        includes internal nodes that do not have sub-values in the dataset, and thus are\n",
    "        treated an leaf nodes\n",
    "\n",
    "    internal_values : list\n",
    "        list composed of interanal nodes in the dataset\n",
    "\n",
    "    ontology_df : pandas dataframe\n",
    "        pandas dataframe where indices (rows) are all leaf and parent cell IDs from the portion of \n",
    "        the ontology being queried, and columns are all leafs in portion of ontology being queried. \n",
    "        \n",
    "        Dataframe is binary. For each parent node, element = 1 if parent node is an ancestor\n",
    "        of corresponding leaf node.\n",
    "        \n",
    "    parent_dict : dictionary\n",
    "        dictionary where values are lists of Cell Ontology term IDs that are the parents (inclusive) \n",
    "        for the Cell Ontology Term ID key.\n",
    "\n",
    "    \n",
    "    '''\n",
    "    \n",
    "    # select the labels. \n",
    "    labels = adata.obs\n",
    "    \n",
    "    # encode the target column\n",
    "    #lb = LabelEncoder()\n",
    "    #labels['encoded_labels'] = lb.fit_transform(labels[target_column])\n",
    "    \n",
    "    # we want to only encode the targets that are leafs. We will leave \n",
    "    # internal nodes as the CL number in order to assist with masking \n",
    "    # the appropriate parent nodes \n",
    "    # first, get list of all cell values\n",
    "    all_cell_values = labels[target_column].unique().to_list()\n",
    "    \n",
    "    # identify which values are leafs\n",
    "    # we use positive number for leaf values\n",
    "    # and negative number for internal nodes\n",
    "    mapping_dict = {}\n",
    "    leaf_values = []\n",
    "    internal_values = []\n",
    "    encoded_leaf_val = 0\n",
    "    encoded_internal_val = -9999\n",
    "    for term in all_cell_values:\n",
    "        if cl[term].is_leaf():\n",
    "            mapping_dict[term] = encoded_leaf_val\n",
    "            leaf_values.append(term)\n",
    "            encoded_leaf_val += 1\n",
    "        else:\n",
    "            # check if internal values have associated sub-values in the dataset\n",
    "            #    sub-values do not have to be leafs\n",
    "            # if so, add value as internal values\n",
    "            # if not, prune ontology so consider \n",
    "            term_subvalues = []\n",
    "            # get leaf values of this term\n",
    "            for sub_term in cl[term].subclasses(distance=None,with_self=False).to_set():\n",
    "                    term_subvalues.append(sub_term.id)\n",
    "            \n",
    "            # get values in all_call_values in term_leafs\n",
    "            intersection_list = list(set(all_cell_values).intersection(term_subvalues))\n",
    "            if len(intersection_list) == 0:\n",
    "                mapping_dict[term] = encoded_leaf_val\n",
    "                leaf_values.append(term)\n",
    "                encoded_leaf_val += 1\n",
    "            else:\n",
    "                mapping_dict[term] = encoded_internal_val\n",
    "                internal_values.append(term)\n",
    "                encoded_internal_val += 1            \n",
    "            \n",
    "            \n",
    "    # use the leaf_mapping_dict to \n",
    "    labels['encoded_labels'] = labels[target_column].map(mapping_dict)\n",
    "    \n",
    "    x_data = adata.X.copy()\n",
    "    y_data = labels['encoded_labels']\n",
    "    \n",
    "    #########\n",
    "    # no get a list of all parent nodes for each value in the dataset\n",
    "    # if we want to include leafs, set with_self= True\n",
    "    # else, set with_self = False\n",
    "    \n",
    "    all_parent_nodes = []\n",
    "    for target in all_cell_values:\n",
    "        for term in cl[target].superclasses(distance=None,with_self=include_leafs).to_set():\n",
    "            all_parent_nodes.append(term.id)\n",
    "            \n",
    "    # ensure that we do not have duplicate values\n",
    "    all_parent_nodes = list(set(all_parent_nodes))\n",
    "\n",
    "    # select only the Cell Ontology IDs if cl_only = True\n",
    "    if cl_only:\n",
    "        all_parent_nodes = [x for x in all_parent_nodes if x.startswith('CL')]\n",
    "    \n",
    "    # if there is an upper limit, \n",
    "    if upper_limit is not None:\n",
    "        # get upper limit nodes\n",
    "        upper_limit_nodes = []\n",
    "        for term in cl[upper_limit].superclasses(distance=None,with_self=False).to_set():\n",
    "            upper_limit_nodes.append(term.id)\n",
    "            \n",
    "        # remove these nodes from the parent_nodes list\n",
    "        all_parent_nodes = [x for x in all_parent_nodes if x not in upper_limit_nodes]\n",
    "        \n",
    "        \n",
    "    # create the dataframe\n",
    "    # use all_cell_values for the columns, because we need both leafs and\n",
    "    # internals nodes for mapping\n",
    "    ontology_df = pd.DataFrame(data=0, index = all_parent_nodes,\n",
    "                                              columns = all_cell_values)\n",
    "    \n",
    "    # populate the dataframe with 1 if column is a sub-node \n",
    "    # for that particular cell ID\n",
    "    # with_self = True because we need to include the leafs here\n",
    "    for cell_id in ontology_df.index:\n",
    "        for term in cl[cell_id].subclasses(distance=None,with_self=True).to_set():\n",
    "            if term.id in ontology_df.columns:\n",
    "                ontology_df.loc[cell_id,[term.id]] = [1]\n",
    "\n",
    "    # create a dictionary that maps parents to reduce the ontology_df when\n",
    "    # dealing with internal nodes\n",
    "    parent_dict = {}\n",
    "    for parent in internal_values:\n",
    "        super_parent_list = []\n",
    "        for term in cl[parent].superclasses(distance=None,with_self=True).to_set():\n",
    "            if term.id in all_parent_nodes:\n",
    "                super_parent_list.append(term.id)\n",
    "        parent_dict[parent] = super_parent_list\n",
    "\n",
    "    \n",
    "    return(x_data,y_data, mapping_dict, leaf_values, internal_values, ontology_df, parent_dict)"
   ]
  },
  {
   "cell_type": "code",
   "execution_count": 7,
   "id": "c0c85df5",
   "metadata": {},
   "outputs": [],
   "source": [
    "def transform_data(x_data):\n",
    "    '''\n",
    "    This function takes the input x_data, transforms the data with log(1+x) and \n",
    "    returns the transformed data\n",
    "    \n",
    "    Parameters\n",
    "    ----------\n",
    "    x_data : scipy matrix\n",
    "        scipy sparse CSR matrix  \n",
    "        \n",
    "    Returns\n",
    "    -------\n",
    "    x_data : SciPy Matrix\n",
    "        scipy sparse CSR matrix\n",
    "    \n",
    "    '''\n",
    "    \n",
    "    # np.log takes the natural log\n",
    "    x_data.data = np.log(1+ x_data.data)\n",
    "\n",
    "    return x_data"
   ]
  },
  {
   "cell_type": "code",
   "execution_count": 8,
   "id": "6d5e1c3f",
   "metadata": {},
   "outputs": [],
   "source": [
    "def split_format_data(x_data, y_data, train_size, val_size, holdout_size = None, random_state = None):\n",
    "    '''\n",
    "    This function splits x_data and y_data into training and validation sets, then formats the data into\n",
    "    tensors for modeling with PyTorch\n",
    "    \n",
    "    \n",
    "    Parameters\n",
    "    ----------\n",
    "    x_data : scipy matrix\n",
    "        scipy sparse CSR matrix  \n",
    "        \n",
    "    y_data : Series\n",
    "        Pandas series of encoded target values\n",
    "        \n",
    "    train_size: float\n",
    "        float between 0.0 and 1.0 to select the training fraction of the data set\n",
    "        \n",
    "        \n",
    "    Returns\n",
    "    -------\n",
    "    x_data : SciPy Matrix\n",
    "        scipy sparse CSR matrix\n",
    "    \n",
    "    y_data : Series\n",
    "        Pandas Series of encoded target values\n",
    "    \n",
    "    X_train : Tensor\n",
    "        pytorch tensor of training values\n",
    "    \n",
    "    X_val : Tensor\n",
    "        pytorch tensor of validation values\n",
    "        \n",
    "    y_train : Tensor\n",
    "        pytorch tensor of training target values\n",
    "        \n",
    "    y_val : Tensor\n",
    "        pytorch tensor of validation target values\n",
    "    '''\n",
    "    \n",
    "    \n",
    "    if holdout_size:\n",
    "        # split into training and validation sets\n",
    "        # first split into train and validation/holdout\n",
    "        X_train, X_val_holdout, y_train, y_val_holdout = train_test_split(x_data,y_data,\n",
    "                                                       train_size = train_size,\n",
    "                                                         random_state=random_state)\n",
    "\n",
    "        # calculate the validation split of the remainder \n",
    "        val_split_size = val_size / (val_size + holdout_size)\n",
    "\n",
    "        # split the validation/holdout set to separate sets\n",
    "        X_val, X_holdout, y_val, y_holdout = train_test_split(X_val_holdout, y_val_holdout,\n",
    "                                                             train_size = val_split_size,\n",
    "                                                             random_state=random_state)\n",
    "    else:\n",
    "        # split into training and validation sets\n",
    "        # first split into train and validation/holdout\n",
    "        X_train, X_val, y_train, y_val = train_test_split(x_data,y_data,\n",
    "                                                       train_size = train_size,\n",
    "                                                         random_state=random_state)\n",
    "\n",
    "    \n",
    "    # check if number of genes in X_train = X_val\n",
    "    # rarely, splitting the dataset can cause a difference\n",
    "    # if it does, resplit the data by looping back into this function\n",
    "\n",
    "    if holdout_size:\n",
    "        if (X_train.shape[1] != X_val.shape[1]) or (X_train.shape[1] != X_holdout.shape[1]):\n",
    "            X_train, X_val, y_train, y_val, X_holdout, y_holdout = split_format_data(x_data, y_data, train_size, val_size, holdout_size, random_state = None)\n",
    "        else:\n",
    "            print('Success. Number of genes in datasets match.')\n",
    "    else:\n",
    "        if (X_train.shape[1] != X_val.shape[1]):\n",
    "            X_train, X_val, y_train, y_val, X_holdout, y_holdout = split_format_data(x_data, y_data, train_size, val_size, holdout_size, random_state = None)\n",
    "        else:\n",
    "            print('Success. Number of genes in datasets match.')\n",
    "\n",
    "\n",
    "    \n",
    "    # convert the data to tensors\n",
    "    # we'll change the data from CSR (compressed sparse row) format\n",
    "    # to COO (coordinate) format for better use with pytorch\n",
    "    # see https://pytorch.org/docs/stable/sparse.html for additional details\n",
    "    # conversion from COO to tensor based on https://stackoverflow.com/questions/50665141/converting-a-scipy-coo-matrix-to-pytorch-sparse-tensor\n",
    "\n",
    "\n",
    "    X_train_coo = X_train.tocoo()\n",
    "    #X_train = torch.sparse.FloatTensor(torch.LongTensor(np.vstack((X_train_coo.row,X_train_coo.col))),\n",
    "    #                              torch.FloatTensor(X_train_coo.data))\n",
    "\n",
    "    X_train_values = X_train_coo.data\n",
    "    X_train_indices = np.vstack((X_train_coo.row, X_train_coo.col))\n",
    "\n",
    "    X_train_i = torch.LongTensor(X_train_indices)\n",
    "    X_train_v = torch.FloatTensor(X_train_values)\n",
    "    X_train_shape = X_train_coo.shape\n",
    "\n",
    "    X_train = torch.sparse.FloatTensor(X_train_i, X_train_v, torch.Size(X_train_shape))  \n",
    "    \n",
    "    \n",
    "    \n",
    "    # y_train is a Series, so it is easier to convert to a tensor\n",
    "    y_train = torch.tensor(y_train)#, dtype=torch.long)\n",
    "\n",
    "\n",
    "    # and the same for the validation set\n",
    "    X_val_coo = X_val.tocoo()\n",
    "    #X_val = torch.sparse.FloatTensor(torch.LongTensor(np.vstack((X_val_coo.row,X_val_coo.col))),\n",
    "    #                                  torch.FloatTensor(X_val_coo.data))\n",
    "\n",
    "    \n",
    "    X_val_values = X_val_coo.data\n",
    "    X_val_indices = np.vstack((X_val_coo.row, X_val_coo.col))\n",
    "\n",
    "    X_val_i = torch.LongTensor(X_val_indices)\n",
    "    X_val_v = torch.FloatTensor(X_val_values)\n",
    "    X_val_shape = X_val_coo.shape\n",
    "\n",
    "    X_val = torch.sparse.FloatTensor(X_val_i, X_val_v, torch.Size(X_val_shape))  \n",
    "\n",
    "    \n",
    "    \n",
    "    # y_val is a Series, so it is easier to convert to a tensor\n",
    "    y_val = torch.tensor(y_val)#, dtype=torch.long)\n",
    "\n",
    "    if holdout_size:\n",
    "        pass\n",
    "        # and the same for the holdout set\n",
    "        ###X_holdout_coo = X_holdout.tocoo()\n",
    "        #X_holdout = torch.sparse.FloatTensor(torch.LongTensor(np.vstack((X_holdout_coo.row,X_holdout_coo.col))),\n",
    "        #                              torch.FloatTensor(X_holdout_coo.data))\n",
    "\n",
    "        ###X_holdout_values = X_holdout_coo.data\n",
    "        ###X_holdout_indices = np.vstack((X_holdout_coo.row, X_holdout_coo.col))\n",
    "\n",
    "        ###X_holdout_i = torch.LongTensor(X_holdout_indices)\n",
    "        ###X_holdout_v = torch.FloatTensor(X_holdout_values)\n",
    "        ###X_holdout_shape = X_holdout_coo.shape\n",
    "\n",
    "        ###X_holdout = torch.sparse.FloatTensor(X_holdout_i, X_holdout_v, torch.Size(X_holdout_shape))  \n",
    "\n",
    "        \n",
    "        # y_holdout is a Series, so it is easier to convert to a tensor\n",
    "        ###y_holdout = torch.tensor(y_holdout, dtype=torch.long)\n",
    "    \n",
    "    if device.type == \"cuda\":\n",
    "        print('Moving tensors to GPU. X_train WILL NOT be moved to GPU. ')\n",
    "        #X_train = X_train.to(device) # this saves of memory space\n",
    "        y_train = y_train.to(device)\n",
    "        X_val = X_val.to(device)\n",
    "        y_val = y_val.to(device)\n",
    "        ###if holdout_size:\n",
    "        ###    X_holdout = X_holdout.to(device)\n",
    "        ###    y_holdout = y_holdout.to(device)\n",
    "            \n",
    "    if holdout_size:\n",
    "        return(X_train, X_val, y_train, y_val, X_holdout, y_holdout)\n",
    "    else:\n",
    "        return(X_train, X_val, y_train, y_val)"
   ]
  },
  {
   "cell_type": "code",
   "execution_count": 13,
   "id": "a3b8cf4c",
   "metadata": {},
   "outputs": [],
   "source": [
    "def preprocess_ontology(adata,target_column,upper_limit = None, include_leafs = False, cl_only = False, only_leafs_for_targets=False):\n",
    "    '''\n",
    "    This function processes the ontology to build a pandas dataframe that can be used to \n",
    "    calculate predicted probabilities. This will enable simple matrix multiplication to calculate\n",
    "    probabilities and loss.\n",
    "    \n",
    "    Can have an upper limit to the ontology if upper_limit is set\n",
    "    \n",
    "    \n",
    "    Assumes there is an active census object already open as cl. \n",
    "    \n",
    "    \n",
    "    Parameters\n",
    "    ----------\n",
    "    adata : AnnData Object\n",
    "        existing AnnData object to perform processing on \n",
    "        \n",
    "    target_column : string\n",
    "        string of target column (from cell metadata) to encode\n",
    "        \n",
    "    upper_limit : string\n",
    "        if you want to specify an upper limit in the ontology, set this to \n",
    "        the upper limit (inclusive)\n",
    "        Default: None (no limit to ontology)\n",
    "        \n",
    "    include_leafs : boolean\n",
    "        option to include leafs in the list of parent cell IDs\n",
    "        Default is False because we are calculating the leaf loss differently\n",
    "        Default: False\n",
    "        \n",
    "    cl_only : boolean\n",
    "        option to only include the Cell Ontology (CL) in the dataframe\n",
    "        True means only those cell IDs that start with CL are included\n",
    "        Default: False\n",
    "        \n",
    "    only_leafs_for_targets : boolean\n",
    "        option to specify that targets are already known to include leafs\n",
    "        Default: False - program will check all targets and find any additional leafs\n",
    "                True means that list of unique values in the target column will be used\n",
    "\n",
    "        \n",
    "    Returns\n",
    "    -------\n",
    "    ontology_df : pandas dataframe\n",
    "        pandas dataframe where indices (rows) are all leaf and parent cell IDs from the portion of \n",
    "        the ontology being queried, and columns are all leafs in portion of ontology being queried. \n",
    "        \n",
    "        Dataframe is binary. For each parent node, element = 1 if parent node is an ancestor\n",
    "        of corresponding leaf node.\n",
    "        \n",
    "    parent_dict : dictionary\n",
    "        dictionary where values are lists of Cell Ontology term IDs that are the parents (inclusive) \n",
    "        for the Cell Ontology Term ID key.\n",
    "        \n",
    "    '''\n",
    "    \n",
    "    # select the labels. \n",
    "    labels = adata.obs\n",
    "    \n",
    "    # select the unique target values\n",
    "    target_values = labels[target_column].unique()\n",
    "    \n",
    "    # check that these are leaf nodes\n",
    "    # if not, find the leaf under that value\n",
    "    \n",
    "    if only_leafs_for_targets:\n",
    "        leaf_nodes = target_values\n",
    "    else:\n",
    "        leaf_nodes = []\n",
    "        for target in target_values:\n",
    "            if cl[target].is_leaf():\n",
    "                leaf_nodes.append(target)\n",
    "            else:\n",
    "                for term in cl[target].subclasses(distance=None,with_self=False).to_set():\n",
    "                    if term.is_leaf():\n",
    "                        leaf_nodes.append(term.id)\n",
    "    \n",
    "    # ensure that we do not have duplicate values\n",
    "    leaf_nodes = list(set(leaf_nodes))\n",
    "    \n",
    "    \n",
    "    # now get all parent nodes\n",
    "    # if we want to include leafs, set with_self = True\n",
    "    # else, set with_self = False\n",
    "    parent_nodes = []\n",
    "    for target in target_values:\n",
    "        for term in cl[target].superclasses(distance=None,with_self=include_leafs).to_set():\n",
    "            parent_nodes.append(term.id)\n",
    "            \n",
    "    # ensure that we do not have duplicate values\n",
    "    parent_nodes = list(set(parent_nodes))\n",
    "\n",
    "    # select only the Cell Ontology IDs if cl_only = True\n",
    "    if cl_only:\n",
    "        parent_nodes = [x for x in parent_nodes if x.startswith('CL')]\n",
    "    \n",
    "    # if there is an upper limit, \n",
    "    if upper_limit is not None:\n",
    "        # get upper limit nodes\n",
    "        upper_limit_nodes = []\n",
    "        for term in cl[upper_limit].superclasses(distance=None,with_self=False).to_set():\n",
    "            upper_limit_nodes.append(term.id)\n",
    "            \n",
    "        # remove these nodes from the parent_nodes list\n",
    "        parent_nodes = [x for x in parent_nodes if x not in upper_limit_nodes]\n",
    "        \n",
    "    \n",
    "    # create the dataframe\n",
    "    ontology_df = pd.DataFrame(data=0, index = parent_nodes,\n",
    "                                              columns = leaf_nodes)\n",
    "\n",
    "\n",
    "    # populate the dataframe with 1 if column leaf is a leaf \n",
    "    # for that particular cell ID\n",
    "    # with_self = True because we need to include the leafs here\n",
    "    for cell_id in ontology_df.index:\n",
    "        for term in cl[cell_id].subclasses(distance=None,with_self=True).to_set():\n",
    "            if term.id in ontology_df.columns:\n",
    "                ontology_df.loc[cell_id,[term.id]] = [1]\n",
    "                    \n",
    "    # create a dictionary that maps parents to reduce the ontology_df when\n",
    "    # dealing with internal nodes\n",
    "    parent_dict = {}\n",
    "    for parent in parent_nodes:\n",
    "        super_parent_list = []\n",
    "        for term in cl[parent].superclasses(distance=None,with_self=True).to_set():\n",
    "            if term.id in parent_nodes:\n",
    "                super_parent_list.append(term.id)\n",
    "        parent_dict[parent] = super_parent_list\n",
    "        \n",
    "        \n",
    "    return(ontology_df, parent_dict)"
   ]
  },
  {
   "cell_type": "code",
   "execution_count": 9,
   "id": "a4ace857",
   "metadata": {},
   "outputs": [
    {
     "name": "stdout",
     "output_type": "stream",
     "text": [
      "start preprocess data and ontology\n",
      "start transforming data\n",
      "start split and format data\n",
      "Success. Number of genes in datasets match.\n",
      "Moving tensors to GPU. X_train WILL NOT be moved to GPU. \n"
     ]
    }
   ],
   "source": [
    "target_column = 'cell_type_ontology_term_id'\n",
    "\n",
    "upper_limit = 'CL:0000988' # leukocyte = 738, hematopoietic = 988\n",
    "\n",
    "print('start preprocess data and ontology')\n",
    "x_data,y_data, mapping_dict, leaf_values, internal_values, ontology_df, parent_dict =  preprocess_data_ontology(adata, target_column,upper_limit = upper_limit, cl_only = True, include_leafs = False)\n",
    "\n",
    "del adata\n",
    "\n",
    "# create dataframe that only includes leaf nodes\n",
    "ontology_leaf_df = ontology_df[leaf_values]\n",
    "\n",
    "print('start transforming data')\n",
    "x_data = transform_data(x_data)\n",
    "\n",
    "\n",
    "train_size = 0.16\n",
    "val_size = 0.04\n",
    "holdout_size = .8# None # None if you don't want holdout set\n",
    "random_state = 42\n",
    "print('start split and format data')\n",
    "if holdout_size:\n",
    "    X_train, X_val, y_train, y_val, X_holdout, y_holdout = split_format_data(x_data, y_data, train_size, val_size, holdout_size, random_state=random_state)\n",
    "else:\n",
    "    X_train, X_val, y_train, y_val = split_format_data(x_data, y_data, train_size, val_size, holdout_size, random_state=random_state)\n",
    "\n"
   ]
  },
  {
   "cell_type": "code",
   "execution_count": 11,
   "id": "c5915c72",
   "metadata": {},
   "outputs": [
    {
     "name": "stdout",
     "output_type": "stream",
     "text": [
      "start preprocess data and ontology\n",
      "start transforming data\n"
     ]
    }
   ],
   "source": [
    "# no split data\n",
    "\n",
    "target_column = 'cell_type_ontology_term_id'\n",
    "\n",
    "upper_limit = 'CL:0000988' # leukocyte = 738, hematopoietic = 988\n",
    "\n",
    "print('start preprocess data and ontology')\n",
    "x_data,y_data, mapping_dict, leaf_values, internal_values, ontology_df, parent_dict =  preprocess_data_ontology(adata, target_column,upper_limit = upper_limit, cl_only = True, include_leafs = False)\n",
    "\n",
    "del adata\n",
    "\n",
    "# create dataframe that only includes leaf nodes\n",
    "ontology_leaf_df = ontology_df[leaf_values]\n",
    "\n",
    "print('start transforming data')\n",
    "x_data = transform_data(x_data)\n"
   ]
  },
  {
   "cell_type": "code",
   "execution_count": 14,
   "id": "6844dce6",
   "metadata": {},
   "outputs": [],
   "source": [
    "# save the x_data scipy sparse matrix\n",
    "sparse.save_npz('x_data_5Dec.npz',x_data)\n",
    "\n",
    "# to load:\n",
    "# x_data = sparse.load_npz('x_data_5Dec.npz')"
   ]
  },
  {
   "cell_type": "code",
   "execution_count": 15,
   "id": "1666cdda",
   "metadata": {},
   "outputs": [
    {
     "data": {
      "text/plain": [
       "85"
      ]
     },
     "execution_count": 15,
     "metadata": {},
     "output_type": "execute_result"
    }
   ],
   "source": [
    "len(leaf_values)"
   ]
  },
  {
   "cell_type": "code",
   "execution_count": 16,
   "id": "3af1c580",
   "metadata": {},
   "outputs": [
    {
     "data": {
      "text/plain": [
       "54"
      ]
     },
     "execution_count": 16,
     "metadata": {},
     "output_type": "execute_result"
    }
   ],
   "source": [
    "len(internal_values)"
   ]
  },
  {
   "cell_type": "code",
   "execution_count": 18,
   "id": "cdc736a0",
   "metadata": {},
   "outputs": [
    {
     "data": {
      "text/plain": [
       "torch.Size([34033])"
      ]
     },
     "execution_count": 18,
     "metadata": {},
     "output_type": "execute_result"
    }
   ],
   "source": [
    "#y_train\n",
    "y_val[y_val < 0].shape#unique(return_counts=True)"
   ]
  },
  {
   "cell_type": "markdown",
   "id": "191c8818",
   "metadata": {},
   "source": [
    "241414 + 60436 leaf cells = 64%\n",
    "136460 + 34033 \n",
    "472312\n",
    "\n",
    "\n"
   ]
  },
  {
   "cell_type": "code",
   "execution_count": 19,
   "id": "fdcf196b",
   "metadata": {},
   "outputs": [],
   "source": [
    "# save information needed for testing external models \n",
    "# this included the ontology dfs, mapping dict, leaf_values, internal_values\n",
    "\n",
    "os.chdir('/home/fujoshua/cell_classification')\n",
    "ontology_df.to_csv('ontology_df_1Dec.csv')\n",
    "ontology_leaf_df.to_csv('ontology_leaf_df_1Dec.csv')\n",
    "\n",
    "mapping_dict_df = pd.DataFrame.from_dict(mapping_dict,orient='index')\n",
    "mapping_dict_df.to_csv('mapping_dict_df_1Dec.csv')\n",
    "\n",
    "\n",
    "with open(\"leaf_values_1Dec\", \"wb\") as fp:   #Pickling\n",
    "    pickle.dump(leaf_values, fp)\n",
    "    \n",
    "with open(\"internal_values_1Dec\", \"wb\") as fp:   #Pickling\n",
    "    pickle.dump(internal_values, fp)\n",
    "\n"
   ]
  },
  {
   "cell_type": "code",
   "execution_count": 11,
   "id": "16d578f9",
   "metadata": {},
   "outputs": [
    {
     "data": {
      "text/plain": [
       "['CL:1001603',\n",
       " 'CL:0000766',\n",
       " 'CL:0002496',\n",
       " 'CL:0000898',\n",
       " 'CL:0000813',\n",
       " 'CL:0000838',\n",
       " 'CL:0000826',\n",
       " 'CL:0000839',\n",
       " 'CL:0000837',\n",
       " 'CL:0001054',\n",
       " 'CL:0002419',\n",
       " 'CL:0000789',\n",
       " 'CL:0001203',\n",
       " 'CL:0001056',\n",
       " 'CL:0000081',\n",
       " 'CL:0000791']"
      ]
     },
     "execution_count": 11,
     "metadata": {},
     "output_type": "execute_result"
    }
   ],
   "source": [
    "internal_values"
   ]
  },
  {
   "cell_type": "code",
   "execution_count": 17,
   "id": "f92f7793",
   "metadata": {},
   "outputs": [
    {
     "data": {
      "text/plain": [
       "CL:0000738    1\n",
       "CL:0000219    1\n",
       "CL:0000255    1\n",
       "CL:0002242    1\n",
       "CL:0000763    1\n",
       "CL:0000988    1\n",
       "CL:0000766    1\n",
       "Name: CL:0000766, dtype: int64"
      ]
     },
     "execution_count": 17,
     "metadata": {},
     "output_type": "execute_result"
    }
   ],
   "source": [
    "ontology_df['CL:0000766'][ontology_df['CL:0000766'] > 0]"
   ]
  },
  {
   "cell_type": "code",
   "execution_count": 19,
   "id": "b2d35e77",
   "metadata": {},
   "outputs": [],
   "source": [
    "blah_list = parent_dict['CL:0000766']"
   ]
  },
  {
   "cell_type": "code",
   "execution_count": 22,
   "id": "2ed14902",
   "metadata": {},
   "outputs": [],
   "source": [
    "blah_indices = [ontology_df['CL:0000766'].index.get_loc(row) for row  in blah_list]"
   ]
  },
  {
   "cell_type": "code",
   "execution_count": 24,
   "id": "4987d0ad",
   "metadata": {},
   "outputs": [
    {
     "data": {
      "text/plain": [
       "CL:0000255    1\n",
       "CL:0000219    1\n",
       "CL:0000738    1\n",
       "CL:0002242    1\n",
       "CL:0000763    1\n",
       "CL:0000766    1\n",
       "CL:0000988    1\n",
       "Name: CL:0000766, dtype: int64"
      ]
     },
     "execution_count": 24,
     "metadata": {},
     "output_type": "execute_result"
    }
   ],
   "source": [
    "ontology_df['CL:0000766'][blah_indices]"
   ]
  },
  {
   "cell_type": "code",
   "execution_count": 13,
   "id": "836b00ae",
   "metadata": {},
   "outputs": [
    {
     "name": "stdout",
     "output_type": "stream",
     "text": [
      "{'CL:1001603': ['CL:0000325', 'CL:0000235', 'CL:0002242', 'CL:1001603', 'CL:0000473', 'CL:0000255', 'CL:0000234', 'CL:0000988', 'CL:0000219', 'CL:0000766', 'CL:0000145', 'CL:0000738', 'CL:0000763'], 'CL:0000766': ['CL:0000255', 'CL:0000738', 'CL:0000763', 'CL:0000219', 'CL:0000988', 'CL:0002242', 'CL:0000766'], 'CL:0002496': ['CL:0002496', 'CL:0002242', 'CL:0000842', 'CL:0002419', 'CL:0000226', 'CL:0000255', 'CL:0000988', 'CL:0000219', 'CL:0000542', 'CL:0000738', 'CL:0000084'], 'CL:0000898': ['CL:0002242', 'CL:0000842', 'CL:0002419', 'CL:0000226', 'CL:0000255', 'CL:0000988', 'CL:0000219', 'CL:0000542', 'CL:0000738', 'CL:0000084', 'CL:0000898'], 'CL:0000813': ['CL:0000813', 'CL:0002242', 'CL:0000842', 'CL:0002419', 'CL:0000226', 'CL:0000255', 'CL:0000988', 'CL:0000219', 'CL:0000542', 'CL:0000738', 'CL:0000084'], 'CL:0000838': ['CL:0011026', 'CL:0008001', 'CL:0000988', 'CL:0002031', 'CL:0000838', 'CL:0011115'], 'CL:0000826': ['CL:0000838', 'CL:0011115', 'CL:0011026', 'CL:0008001', 'CL:0000988', 'CL:0000826', 'CL:0002031'], 'CL:0000839': ['CL:0011026', 'CL:0008001', 'CL:0000988', 'CL:0002031', 'CL:0000839', 'CL:0011115'], 'CL:0000837': ['CL:0000837', 'CL:0008001', 'CL:0000988'], 'CL:0001054': ['CL:0000576', 'CL:0002242', 'CL:0000842', 'CL:0000226', 'CL:0011026', 'CL:0000255', 'CL:0000988', 'CL:0000219', 'CL:0000766', 'CL:0011115', 'CL:0000738', 'CL:0000763', 'CL:0001054'], 'CL:0002419': ['CL:0000542', 'CL:0000842', 'CL:0000255', 'CL:0002419', 'CL:0000738', 'CL:0000988', 'CL:0000219', 'CL:0002242', 'CL:0000084', 'CL:0000226'], 'CL:0000789': ['CL:0000789', 'CL:0000542', 'CL:0000842', 'CL:0000255', 'CL:0000738', 'CL:0000988', 'CL:0000219', 'CL:0002242', 'CL:0000084', 'CL:0000226'], 'CL:0001203': ['CL:0000813', 'CL:0000625', 'CL:0002242', 'CL:0000789', 'CL:0000842', 'CL:0002419', 'CL:0000226', 'CL:0000255', 'CL:0000909', 'CL:0000988', 'CL:0000219', 'CL:0000791', 'CL:0001203', 'CL:0000542', 'CL:0000738', 'CL:0000084'], 'CL:0001056': ['CL:0000451', 'CL:0000145', 'CL:0001056', 'CL:0000842', 'CL:0000255', 'CL:0000738', 'CL:0000988', 'CL:0000219', 'CL:0002242', 'CL:0000226'], 'CL:0000081': ['CL:0000988', 'CL:0000081'], 'CL:0000791': ['CL:0002242', 'CL:0000789', 'CL:0000842', 'CL:0002419', 'CL:0000226', 'CL:0000255', 'CL:0000988', 'CL:0000219', 'CL:0000791', 'CL:0000542', 'CL:0000738', 'CL:0000084']}\n"
     ]
    }
   ],
   "source": [
    "#print(mapping_dict)\n",
    "print(parent_dict)\n",
    "#print(len(leaf_values))\n",
    "#print(len(internal_values))"
   ]
  },
  {
   "cell_type": "code",
   "execution_count": null,
   "id": "3d43106a",
   "metadata": {},
   "outputs": [],
   "source": []
  },
  {
   "cell_type": "code",
   "execution_count": null,
   "id": "db73364f",
   "metadata": {},
   "outputs": [],
   "source": []
  },
  {
   "cell_type": "code",
   "execution_count": 19,
   "id": "e6d3fcb7",
   "metadata": {},
   "outputs": [
    {
     "name": "stdout",
     "output_type": "stream",
     "text": [
      "start preprocess ontology\n",
      "start preprocess data\n",
      "start transforming data\n",
      "start split and format data\n",
      "Success. Number of genes in datasets match.\n"
     ]
    }
   ],
   "source": [
    "target_column = 'cell_type_ontology_term_id'\n",
    "\n",
    "upper_limit = 'CL:0000988' # leukocyte = 738, hematopoietic = 988\n",
    "\n",
    "print('start preprocess ontology')\n",
    "ontology_df, parent_dict = preprocess_ontology(adata,target_column,upper_limit = upper_limit, include_leafs = False, cl_only=True,only_leafs_for_targets=False)\n",
    "\n",
    "print('start preprocess data')\n",
    "x_data, y_data, mapping_dict, leaf_values, internal_values = preprocess_data(adata,target_column)\n",
    "\n",
    "# create dataframe that only includes leaf nodes\n",
    "ontology_leaf_df = ontology_df[leaf_values]\n",
    "\n",
    "print('start transforming data')\n",
    "x_data = transform_data(x_data)\n",
    "\n",
    "train_size = 0.8\n",
    "val_size = 0.2\n",
    "holdout_size = None # None if you don't want holdout set\n",
    "random_state = 42\n",
    "print('start split and format data')\n",
    "if holdout_size:\n",
    "    X_train, X_val, y_train, y_val, X_holdout, y_holdout = split_format_data(x_data, y_data, train_size, val_size, holdout_size, random_state=random_state)\n",
    "else:\n",
    "    X_train, X_val, y_train, y_val = split_format_data(x_data, y_data, train_size, val_size, holdout_size, random_state=random_state)\n"
   ]
  },
  {
   "cell_type": "code",
   "execution_count": null,
   "id": "179c354c",
   "metadata": {},
   "outputs": [],
   "source": []
  },
  {
   "cell_type": "code",
   "execution_count": 21,
   "id": "d54b3c9d",
   "metadata": {},
   "outputs": [
    {
     "data": {
      "text/html": [
       "<div>\n",
       "<style scoped>\n",
       "    .dataframe tbody tr th:only-of-type {\n",
       "        vertical-align: middle;\n",
       "    }\n",
       "\n",
       "    .dataframe tbody tr th {\n",
       "        vertical-align: top;\n",
       "    }\n",
       "\n",
       "    .dataframe thead th {\n",
       "        text-align: right;\n",
       "    }\n",
       "</style>\n",
       "<table border=\"1\" class=\"dataframe\">\n",
       "  <thead>\n",
       "    <tr style=\"text-align: right;\">\n",
       "      <th></th>\n",
       "      <th>CL:0002678</th>\n",
       "      <th>CL:0000789</th>\n",
       "      <th>CL:0000800</th>\n",
       "      <th>CL:0002489</th>\n",
       "      <th>CL:0000556</th>\n",
       "      <th>CL:0000051</th>\n",
       "      <th>CL:0001057</th>\n",
       "      <th>CL:0002117</th>\n",
       "      <th>CL:0000765</th>\n",
       "      <th>CL:0000092</th>\n",
       "      <th>...</th>\n",
       "      <th>CL:0002038</th>\n",
       "      <th>CL:0000810</th>\n",
       "      <th>CL:1001603</th>\n",
       "      <th>CL:0000771</th>\n",
       "      <th>CL:0000557</th>\n",
       "      <th>CL:0000938</th>\n",
       "      <th>CL:0001203</th>\n",
       "      <th>CL:0000844</th>\n",
       "      <th>CL:0000837</th>\n",
       "      <th>CL:0000817</th>\n",
       "    </tr>\n",
       "  </thead>\n",
       "  <tbody>\n",
       "    <tr>\n",
       "      <th>CL:0002032</th>\n",
       "      <td>0</td>\n",
       "      <td>0</td>\n",
       "      <td>0</td>\n",
       "      <td>0</td>\n",
       "      <td>0</td>\n",
       "      <td>1</td>\n",
       "      <td>0</td>\n",
       "      <td>0</td>\n",
       "      <td>0</td>\n",
       "      <td>0</td>\n",
       "      <td>...</td>\n",
       "      <td>0</td>\n",
       "      <td>0</td>\n",
       "      <td>0</td>\n",
       "      <td>0</td>\n",
       "      <td>1</td>\n",
       "      <td>0</td>\n",
       "      <td>0</td>\n",
       "      <td>0</td>\n",
       "      <td>0</td>\n",
       "      <td>0</td>\n",
       "    </tr>\n",
       "    <tr>\n",
       "      <th>CL:0000234</th>\n",
       "      <td>0</td>\n",
       "      <td>0</td>\n",
       "      <td>0</td>\n",
       "      <td>0</td>\n",
       "      <td>0</td>\n",
       "      <td>0</td>\n",
       "      <td>0</td>\n",
       "      <td>0</td>\n",
       "      <td>0</td>\n",
       "      <td>0</td>\n",
       "      <td>...</td>\n",
       "      <td>0</td>\n",
       "      <td>0</td>\n",
       "      <td>1</td>\n",
       "      <td>0</td>\n",
       "      <td>0</td>\n",
       "      <td>0</td>\n",
       "      <td>0</td>\n",
       "      <td>0</td>\n",
       "      <td>0</td>\n",
       "      <td>0</td>\n",
       "    </tr>\n",
       "    <tr>\n",
       "      <th>CL:0000473</th>\n",
       "      <td>0</td>\n",
       "      <td>0</td>\n",
       "      <td>0</td>\n",
       "      <td>0</td>\n",
       "      <td>0</td>\n",
       "      <td>0</td>\n",
       "      <td>0</td>\n",
       "      <td>0</td>\n",
       "      <td>0</td>\n",
       "      <td>0</td>\n",
       "      <td>...</td>\n",
       "      <td>0</td>\n",
       "      <td>0</td>\n",
       "      <td>1</td>\n",
       "      <td>0</td>\n",
       "      <td>0</td>\n",
       "      <td>0</td>\n",
       "      <td>0</td>\n",
       "      <td>0</td>\n",
       "      <td>0</td>\n",
       "      <td>0</td>\n",
       "    </tr>\n",
       "    <tr>\n",
       "      <th>CL:0000897</th>\n",
       "      <td>1</td>\n",
       "      <td>0</td>\n",
       "      <td>0</td>\n",
       "      <td>0</td>\n",
       "      <td>0</td>\n",
       "      <td>0</td>\n",
       "      <td>0</td>\n",
       "      <td>0</td>\n",
       "      <td>0</td>\n",
       "      <td>0</td>\n",
       "      <td>...</td>\n",
       "      <td>0</td>\n",
       "      <td>0</td>\n",
       "      <td>0</td>\n",
       "      <td>0</td>\n",
       "      <td>0</td>\n",
       "      <td>0</td>\n",
       "      <td>0</td>\n",
       "      <td>0</td>\n",
       "      <td>0</td>\n",
       "      <td>0</td>\n",
       "    </tr>\n",
       "    <tr>\n",
       "      <th>CL:0000219</th>\n",
       "      <td>1</td>\n",
       "      <td>1</td>\n",
       "      <td>1</td>\n",
       "      <td>1</td>\n",
       "      <td>0</td>\n",
       "      <td>0</td>\n",
       "      <td>1</td>\n",
       "      <td>1</td>\n",
       "      <td>0</td>\n",
       "      <td>1</td>\n",
       "      <td>...</td>\n",
       "      <td>1</td>\n",
       "      <td>1</td>\n",
       "      <td>1</td>\n",
       "      <td>1</td>\n",
       "      <td>0</td>\n",
       "      <td>1</td>\n",
       "      <td>1</td>\n",
       "      <td>1</td>\n",
       "      <td>0</td>\n",
       "      <td>1</td>\n",
       "    </tr>\n",
       "    <tr>\n",
       "      <th>...</th>\n",
       "      <td>...</td>\n",
       "      <td>...</td>\n",
       "      <td>...</td>\n",
       "      <td>...</td>\n",
       "      <td>...</td>\n",
       "      <td>...</td>\n",
       "      <td>...</td>\n",
       "      <td>...</td>\n",
       "      <td>...</td>\n",
       "      <td>...</td>\n",
       "      <td>...</td>\n",
       "      <td>...</td>\n",
       "      <td>...</td>\n",
       "      <td>...</td>\n",
       "      <td>...</td>\n",
       "      <td>...</td>\n",
       "      <td>...</td>\n",
       "      <td>...</td>\n",
       "      <td>...</td>\n",
       "      <td>...</td>\n",
       "      <td>...</td>\n",
       "    </tr>\n",
       "    <tr>\n",
       "      <th>CL:0001012</th>\n",
       "      <td>0</td>\n",
       "      <td>0</td>\n",
       "      <td>0</td>\n",
       "      <td>0</td>\n",
       "      <td>0</td>\n",
       "      <td>0</td>\n",
       "      <td>0</td>\n",
       "      <td>0</td>\n",
       "      <td>0</td>\n",
       "      <td>0</td>\n",
       "      <td>...</td>\n",
       "      <td>0</td>\n",
       "      <td>0</td>\n",
       "      <td>0</td>\n",
       "      <td>0</td>\n",
       "      <td>1</td>\n",
       "      <td>0</td>\n",
       "      <td>0</td>\n",
       "      <td>0</td>\n",
       "      <td>0</td>\n",
       "      <td>0</td>\n",
       "    </tr>\n",
       "    <tr>\n",
       "      <th>CL:0000623</th>\n",
       "      <td>0</td>\n",
       "      <td>0</td>\n",
       "      <td>0</td>\n",
       "      <td>0</td>\n",
       "      <td>0</td>\n",
       "      <td>0</td>\n",
       "      <td>0</td>\n",
       "      <td>0</td>\n",
       "      <td>0</td>\n",
       "      <td>0</td>\n",
       "      <td>...</td>\n",
       "      <td>0</td>\n",
       "      <td>0</td>\n",
       "      <td>0</td>\n",
       "      <td>0</td>\n",
       "      <td>0</td>\n",
       "      <td>1</td>\n",
       "      <td>0</td>\n",
       "      <td>0</td>\n",
       "      <td>0</td>\n",
       "      <td>0</td>\n",
       "    </tr>\n",
       "    <tr>\n",
       "      <th>CL:0000909</th>\n",
       "      <td>0</td>\n",
       "      <td>0</td>\n",
       "      <td>0</td>\n",
       "      <td>0</td>\n",
       "      <td>0</td>\n",
       "      <td>0</td>\n",
       "      <td>0</td>\n",
       "      <td>0</td>\n",
       "      <td>0</td>\n",
       "      <td>0</td>\n",
       "      <td>...</td>\n",
       "      <td>0</td>\n",
       "      <td>0</td>\n",
       "      <td>0</td>\n",
       "      <td>0</td>\n",
       "      <td>0</td>\n",
       "      <td>0</td>\n",
       "      <td>1</td>\n",
       "      <td>0</td>\n",
       "      <td>0</td>\n",
       "      <td>0</td>\n",
       "    </tr>\n",
       "    <tr>\n",
       "      <th>CL:0000837</th>\n",
       "      <td>0</td>\n",
       "      <td>0</td>\n",
       "      <td>0</td>\n",
       "      <td>0</td>\n",
       "      <td>0</td>\n",
       "      <td>0</td>\n",
       "      <td>0</td>\n",
       "      <td>0</td>\n",
       "      <td>0</td>\n",
       "      <td>0</td>\n",
       "      <td>...</td>\n",
       "      <td>0</td>\n",
       "      <td>0</td>\n",
       "      <td>0</td>\n",
       "      <td>0</td>\n",
       "      <td>0</td>\n",
       "      <td>0</td>\n",
       "      <td>0</td>\n",
       "      <td>0</td>\n",
       "      <td>1</td>\n",
       "      <td>0</td>\n",
       "    </tr>\n",
       "    <tr>\n",
       "      <th>CL:0002092</th>\n",
       "      <td>0</td>\n",
       "      <td>0</td>\n",
       "      <td>0</td>\n",
       "      <td>0</td>\n",
       "      <td>0</td>\n",
       "      <td>0</td>\n",
       "      <td>0</td>\n",
       "      <td>0</td>\n",
       "      <td>0</td>\n",
       "      <td>0</td>\n",
       "      <td>...</td>\n",
       "      <td>0</td>\n",
       "      <td>0</td>\n",
       "      <td>0</td>\n",
       "      <td>0</td>\n",
       "      <td>1</td>\n",
       "      <td>0</td>\n",
       "      <td>0</td>\n",
       "      <td>0</td>\n",
       "      <td>0</td>\n",
       "      <td>0</td>\n",
       "    </tr>\n",
       "  </tbody>\n",
       "</table>\n",
       "<p>88 rows × 68 columns</p>\n",
       "</div>"
      ],
      "text/plain": [
       "            CL:0002678  CL:0000789  CL:0000800  CL:0002489  CL:0000556  \\\n",
       "CL:0002032           0           0           0           0           0   \n",
       "CL:0000234           0           0           0           0           0   \n",
       "CL:0000473           0           0           0           0           0   \n",
       "CL:0000897           1           0           0           0           0   \n",
       "CL:0000219           1           1           1           1           0   \n",
       "...                ...         ...         ...         ...         ...   \n",
       "CL:0001012           0           0           0           0           0   \n",
       "CL:0000623           0           0           0           0           0   \n",
       "CL:0000909           0           0           0           0           0   \n",
       "CL:0000837           0           0           0           0           0   \n",
       "CL:0002092           0           0           0           0           0   \n",
       "\n",
       "            CL:0000051  CL:0001057  CL:0002117  CL:0000765  CL:0000092  ...  \\\n",
       "CL:0002032           1           0           0           0           0  ...   \n",
       "CL:0000234           0           0           0           0           0  ...   \n",
       "CL:0000473           0           0           0           0           0  ...   \n",
       "CL:0000897           0           0           0           0           0  ...   \n",
       "CL:0000219           0           1           1           0           1  ...   \n",
       "...                ...         ...         ...         ...         ...  ...   \n",
       "CL:0001012           0           0           0           0           0  ...   \n",
       "CL:0000623           0           0           0           0           0  ...   \n",
       "CL:0000909           0           0           0           0           0  ...   \n",
       "CL:0000837           0           0           0           0           0  ...   \n",
       "CL:0002092           0           0           0           0           0  ...   \n",
       "\n",
       "            CL:0002038  CL:0000810  CL:1001603  CL:0000771  CL:0000557  \\\n",
       "CL:0002032           0           0           0           0           1   \n",
       "CL:0000234           0           0           1           0           0   \n",
       "CL:0000473           0           0           1           0           0   \n",
       "CL:0000897           0           0           0           0           0   \n",
       "CL:0000219           1           1           1           1           0   \n",
       "...                ...         ...         ...         ...         ...   \n",
       "CL:0001012           0           0           0           0           1   \n",
       "CL:0000623           0           0           0           0           0   \n",
       "CL:0000909           0           0           0           0           0   \n",
       "CL:0000837           0           0           0           0           0   \n",
       "CL:0002092           0           0           0           0           1   \n",
       "\n",
       "            CL:0000938  CL:0001203  CL:0000844  CL:0000837  CL:0000817  \n",
       "CL:0002032           0           0           0           0           0  \n",
       "CL:0000234           0           0           0           0           0  \n",
       "CL:0000473           0           0           0           0           0  \n",
       "CL:0000897           0           0           0           0           0  \n",
       "CL:0000219           1           1           1           0           1  \n",
       "...                ...         ...         ...         ...         ...  \n",
       "CL:0001012           0           0           0           0           0  \n",
       "CL:0000623           1           0           0           0           0  \n",
       "CL:0000909           0           1           0           0           0  \n",
       "CL:0000837           0           0           0           1           0  \n",
       "CL:0002092           0           0           0           0           0  \n",
       "\n",
       "[88 rows x 68 columns]"
      ]
     },
     "execution_count": 21,
     "metadata": {},
     "output_type": "execute_result"
    }
   ],
   "source": [
    "ontology_df"
   ]
  },
  {
   "cell_type": "code",
   "execution_count": 29,
   "id": "d54a6de5",
   "metadata": {},
   "outputs": [],
   "source": [
    "# save validation data\n",
    "\n",
    "torch.save(X_val, 'X_val_17Nov.pt')\n",
    "torch.save(y_val,'y_val_17Nov.pt')"
   ]
  },
  {
   "cell_type": "code",
   "execution_count": null,
   "id": "850cd808",
   "metadata": {},
   "outputs": [],
   "source": []
  },
  {
   "cell_type": "code",
   "execution_count": 21,
   "id": "8fe804cb",
   "metadata": {
    "scrolled": true
   },
   "outputs": [
    {
     "name": "stdout",
     "output_type": "stream",
     "text": [
      "X_train size in MB:  329236.55016000004\n",
      "X_val size in MB:  82309.73520000001\n",
      "y_train size in MB:  33.05256\n",
      "y_val size in MB:  8.263200000000001\n"
     ]
    }
   ],
   "source": [
    "#print(X_train.is_cpu)\n",
    "#print(X_val.is_cuda())\n",
    "#print(y_train.get_device())\n",
    "#print(y_val.is_cuda())\n",
    "type(X_train)\n",
    "\n",
    "print('X_train size in MB: ', X_train.element_size() * X_train.nelement() * 10e-6)\n",
    "\n",
    "print('X_val size in MB: ', X_val.element_size() * X_val.nelement() * 10e-6)\n",
    "\n",
    "print('y_train size in MB: ', y_train.element_size() * y_train.nelement() * 10e-6)\n",
    "\n",
    "print('y_val size in MB: ', y_val.element_size() * y_val.nelement() * 10e-6)\n"
   ]
  },
  {
   "cell_type": "code",
   "execution_count": 13,
   "id": "6ee093c6",
   "metadata": {},
   "outputs": [
    {
     "name": "stdout",
     "output_type": "stream",
     "text": [
      "-1\n",
      "0\n",
      "0\n",
      "0\n"
     ]
    }
   ],
   "source": [
    "# check that tensors are on gpu. if on gpu, get_device returns 0, if on cpu, returns -1\n",
    "\n",
    "print(X_train.get_device())\n",
    "print(X_val.get_device())\n",
    "print(y_train.get_device())\n",
    "print(y_val.get_device())\n"
   ]
  },
  {
   "cell_type": "code",
   "execution_count": 20,
   "id": "3ceec108",
   "metadata": {},
   "outputs": [
    {
     "name": "stdout",
     "output_type": "stream",
     "text": [
      "torch.Size([392818, 19966])\n",
      "torch.Size([392818])\n",
      "torch.Size([98204, 19966])\n",
      "torch.Size([98204])\n",
      "(1964093, 19966)\n",
      "(1964093,)\n"
     ]
    }
   ],
   "source": [
    "print(X_train.shape)\n",
    "print(y_train.shape)\n",
    "\n",
    "\n",
    "print(X_val.shape)\n",
    "print(y_val.shape)\n",
    "\n",
    "print(X_holdout.shape)\n",
    "print(y_holdout.shape)\n"
   ]
  },
  {
   "cell_type": "markdown",
   "id": "e0bbfab4",
   "metadata": {},
   "source": [
    "## Build Neural Network Classifier\n"
   ]
  },
  {
   "cell_type": "code",
   "execution_count": 20,
   "id": "4c56fe9a",
   "metadata": {},
   "outputs": [
    {
     "data": {
      "text/plain": [
       "84"
      ]
     },
     "execution_count": 20,
     "metadata": {},
     "output_type": "execute_result"
    }
   ],
   "source": [
    "torch.unique(y_train[y_train >= 0]).size(dim=0)"
   ]
  },
  {
   "cell_type": "code",
   "execution_count": 21,
   "id": "f991cf37",
   "metadata": {},
   "outputs": [
    {
     "data": {
      "text/plain": [
       "81"
      ]
     },
     "execution_count": 21,
     "metadata": {},
     "output_type": "execute_result"
    }
   ],
   "source": [
    "torch.unique(y_val[y_val >= 0]).size(dim=0)"
   ]
  },
  {
   "cell_type": "code",
   "execution_count": 25,
   "id": "aaf07428",
   "metadata": {},
   "outputs": [
    {
     "name": "stdout",
     "output_type": "stream",
     "text": [
      "19966 256 128 85\n"
     ]
    }
   ],
   "source": [
    "# number of features (len of X cols)\n",
    "# select the number of gene columns\n",
    "input_dim = 19966 #X_train.size(dim=1) #adata.X.shape[1] \n",
    "\n",
    "# number of neurons for hidden layers\n",
    "hidden_layer_1 = 256\n",
    "hidden_layer_2 = 128\n",
    "\n",
    "# number of classes (unique of y)\n",
    "output_dim = 85# torch.unique(y_train[y_train >= 0]).size(dim=0) #labels['encoded_labels'].nunique()\n",
    "\n",
    "print(input_dim,hidden_layer_1,hidden_layer_2,output_dim)"
   ]
  },
  {
   "cell_type": "code",
   "execution_count": 27,
   "id": "90f6578f",
   "metadata": {},
   "outputs": [],
   "source": [
    "class Network(nn.Module):\n",
    "    def __init__(self):\n",
    "        super(Network, self).__init__()\n",
    "        self.linear1 = nn.Linear(input_dim,hidden_layer_1)\n",
    "        self.linear2 = nn.Linear(hidden_layer_1,hidden_layer_2)\n",
    "        self.linear3 = nn.Linear(hidden_layer_2,output_dim)\n",
    "        self.bn1 = nn.BatchNorm1d(hidden_layer_1)\n",
    "        self.bn2 = nn.BatchNorm1d(hidden_layer_2)\n",
    "        \n",
    "    def forward(self,x):\n",
    "        x = self.linear1(x)\n",
    "        x = self.bn1(x)\n",
    "        x = F.relu(x)\n",
    "        x = self.linear2(x)\n",
    "        x = self.bn2(x)\n",
    "        x = F.relu(x)\n",
    "        x = self.linear3(x)\n",
    "        x = F.softmax(x,dim=1)\n",
    "        return x\n",
    "    \n",
    "    def get_last_layer(self,x):\n",
    "        x = self.linear1(x)\n",
    "        x = self.bn1(x)\n",
    "        x = F.relu(x)\n",
    "        x = self.linear2(x)\n",
    "        x = self.bn2(x)\n",
    "        x = F.relu(x)\n",
    "        x = self.linear3(x)\n",
    "        return x"
   ]
  },
  {
   "cell_type": "code",
   "execution_count": null,
   "id": "7375a599",
   "metadata": {},
   "outputs": [],
   "source": []
  },
  {
   "cell_type": "markdown",
   "id": "b67b19cf",
   "metadata": {},
   "source": [
    "## Functions for dealing with tree ontology and loss\n"
   ]
  },
  {
   "cell_type": "code",
   "execution_count": 16,
   "id": "9a2f6d09",
   "metadata": {},
   "outputs": [],
   "source": [
    "def output_probability_tensor(outputs,ontology_df):\n",
    "    '''\n",
    "    Function to convolve the predicted classification outputs with the ontology heirarchy to\n",
    "    get predicted normalized probabilities for all parents. \n",
    "    Precursur to loss calculation\n",
    "    \n",
    "    Parameters\n",
    "    ----------\n",
    "    outputs : tensor\n",
    "        PyTorch tensor of shape [a,b] where a = number of cells and b = number of target leafs\n",
    "        This tensor is the result of the classification in the neural network\n",
    "                \n",
    "    ontology_df : pandas dataframe\n",
    "        pandas dataframe where rows are parent labels and columns are leafs\n",
    "        values indicate if parent node is an ancestor of leaf node\n",
    "\n",
    "\n",
    "    Outputs\n",
    "    -------\n",
    "    sum_probability_tensor : tensor\n",
    "        PyTorch tensor of shape [c,a] where c = number of cell ontology IDs and a = number of cells\n",
    "        Each entry is the summed predicted probability for that cell ID\n",
    "\n",
    "    '''\n",
    "        \n",
    "    # convert the dataframe to a pytorch tensor\n",
    "    ontology_tensor = torch.FloatTensor(ontology_df.values)\n",
    "    ontology_tensor = ontology_tensor.to(device)\n",
    "        \n",
    "    # convolve the ontology tensor with the predicted outputs\n",
    "    # ontology tensor is shape ij, where i = parent IDs, j = probability for leaf IDs\n",
    "    # output tensor is shape kj, where k = number of cells classified, j = probability for leaf IDs\n",
    "    # probability tensor is shape ijk\n",
    "    \n",
    "    # if there is only a single column for the ontology, change shape to match expected value\n",
    "    if len(ontology_tensor.shape) == 1:\n",
    "        ontology_tensor = ontology_tensor.unsqueeze(1)    \n",
    "    #print(ontology_tensor.shape)\n",
    "    #print(outputs.shape)\n",
    "    probability_tensor = torch.einsum('ij,kj->ijk',ontology_tensor,outputs)\n",
    "    #print('prob_tensor', probability_tensor.shape)\n",
    "    \n",
    "    # sum across leafs to get the predicted probability, by cell, for each\n",
    "    # parent \n",
    "    # sum_probability_tensor is shape ik, where i = parent IDs, k = number of cells\n",
    "    sum_probability_tensor = torch.sum(probability_tensor,dim=1,dtype=float)\n",
    "    #print('sum_prob', sum_probability_tensor.shape)\n",
    "        \n",
    "    # ensure that the max value is 1 because of floating point issues\n",
    "    # if we don't do this, we can run into errors with the binary cross entropy\n",
    "    sum_probability_tensor = torch.where(sum_probability_tensor > 1, 1.0, sum_probability_tensor )\n",
    "    \n",
    "    return sum_probability_tensor\n"
   ]
  },
  {
   "cell_type": "code",
   "execution_count": 17,
   "id": "ad2400b5",
   "metadata": {},
   "outputs": [],
   "source": [
    "def target_probability_tensor(target_values,ontology_df):\n",
    "    '''\n",
    "    Function to convolve the known target values with the ontology heirarchy\n",
    "    Precursur to loss calculation\n",
    "    \n",
    "    Parameters\n",
    "    ----------\n",
    "    target_values : tensor\n",
    "        PyTorch tensor of shape [a] where a = number of cells\n",
    "                \n",
    "    ontology_df : pandas dataframe\n",
    "        pandas dataframe where rows are parent labels and columns are leafs\n",
    "        values indicate if parent node is an ancestor of leaf node\n",
    "\n",
    "\n",
    "    Outputs\n",
    "    -------\n",
    "    target_tensor : tensor\n",
    "        PyTorch tensor of shape [c,a] where c = number of cell ontology IDs and a = number of cells\n",
    "        Each entry is the summed predicted probability for that cell ID\n",
    "\n",
    "    '''\n",
    "    \n",
    "    # loop through target values, pick out corresponding column of ontology_df\n",
    "    # append that to a tensor\n",
    "\n",
    "    for count, target_value in enumerate(target_values):\n",
    "        sub_target_tensor = torch.tensor(ontology_df.iloc[:,target_value.item()].values,dtype=float).reshape(-1,1)\n",
    "\n",
    "        if count == 0 :\n",
    "            target_tensor = sub_target_tensor\n",
    "        else:\n",
    "            # set requires_grad so that we can track\n",
    "            target_tensor = torch.cat((target_tensor,sub_target_tensor),1).requires_grad_()\n",
    "    target_tensor = target_tensor.to(device)\n",
    "    return target_tensor"
   ]
  },
  {
   "cell_type": "code",
   "execution_count": 18,
   "id": "5cdb1066",
   "metadata": {},
   "outputs": [],
   "source": [
    "def internal_target_probability_tensor(target_values,ontology_df):\n",
    "    '''\n",
    "    Function to convolve the known target values with the ontology heirarchy\n",
    "    Precursur to loss calculation. Very similar to target_probability_tensor, but\n",
    "    specific for dealing with internal node classifications only\n",
    "    \n",
    "    All cells are of the same type\n",
    "    \n",
    "    Parameters\n",
    "    ----------    \n",
    "    target_values : tensor\n",
    "        PyTorch tensor of shape [a] where a = number of cells\n",
    "                \n",
    "    ontology_df : pandas dataframe\n",
    "        pandas dataframe where rows are parent labels and column is single cell ID\n",
    "        values indicate if parent node is an ancestor of leaf node\n",
    "\n",
    "\n",
    "    Outputs\n",
    "    -------\n",
    "    target_tensor : tensor\n",
    "        PyTorch tensor of shape [c,a] where c = number of cell ontology IDs and a = number of cells\n",
    "        Each entry is the summed predicted probability for that cell ID\n",
    "\n",
    "    '''\n",
    "    \n",
    "    # convert the dataframe to a pytorch tensor\n",
    "    ontology_tensor = torch.DoubleTensor(ontology_df.values).unsqueeze(1) \n",
    "    ontology_tensor = ontology_tensor.to(device)\n",
    "            \n",
    "    # if there is only a single column for the ontology, change shape to match expected value\n",
    "    #if len(ontology_tensor.shape) == 1:\n",
    "    #    ontology_tensor = ontology_tensor.unsqueeze(1)    \n",
    "\n",
    "    \n",
    "    # loop through target values, pick out corresponding column of ontology_df\n",
    "    # append that to a tensor\n",
    "    for count, target_value in enumerate(target_values):\n",
    "        if count == 0 :\n",
    "            target_tensor = ontology_tensor\n",
    "        else:\n",
    "            # set requires_grad so that we can track\n",
    "            target_tensor = torch.cat((target_tensor,ontology_tensor),1).requires_grad_()\n",
    "    target_tensor = target_tensor.to(device)\n",
    "    return target_tensor"
   ]
  },
  {
   "cell_type": "code",
   "execution_count": 19,
   "id": "38c7776c",
   "metadata": {},
   "outputs": [],
   "source": [
    "def internal_node_loss(output_internal,y_batch_internal,internal_values,mapping_dict,ontology_df,ontology_leaf_df,criterion_parents,threshold):\n",
    "    '''\n",
    "    Calculate the loss for cells whose target values are internal nodes. This function loops through each\n",
    "    internal nodes value listed in internal_values, selects the predicted and target values for that\n",
    "    cell, calculates the loss for the cell, then calculates the mean loss for all internal nodes\n",
    "    \n",
    "    Parameters\n",
    "    ----------\n",
    "    output_internal : Tensor\n",
    "        pytorch tensor of output values from the classifier for all internal nodes\n",
    "        \n",
    "    y_batch_internal : Tensor\n",
    "        pytorch tensor of target values for all internal nodes\n",
    "        \n",
    "    internal_values : list\n",
    "        list of Cell Ontology IDs for internal nodes included in the dataset\n",
    "        \n",
    "    mapping_dict : dict\n",
    "        dictionary mapping the Cell Ontology IDs (keys) to the encoded values (values)\n",
    "        Values >= 0 are leaf nodes\n",
    "        Values < 0 are internal nodes\n",
    "        \n",
    "    ontology_df : DataFrame\n",
    "        pandas dataframe where indices (rows) are all leaf and parent cell IDs from the portion of \n",
    "        the ontology being queried, and columns are all leafs in portion of ontology being queried. \n",
    "        \n",
    "        Dataframe is binary. For each parent node, element = 1 if parent node is an ancestor\n",
    "        of corresponding leaf node.\n",
    "        \n",
    "    ontology_leaf_df : DataFrame\n",
    "        pandas dataframe where indices (rows) are all leaf and parent cell IDs from the portion of \n",
    "        the ontology being queried, and columns are onlys leafs in portion of ontology being queried. \n",
    "        Differs from ontology_df in that columns do not include any internal nodes.\n",
    "        \n",
    "        Dataframe is binary. For each parent node, element = 1 if parent node is an ancestor\n",
    "        of corresponding leaf node.\n",
    "\n",
    "    criterion_parents : loss function\n",
    "        pytorch loss function used to calculate the loss for the internal nodes\n",
    "        \n",
    "    threshold : float\n",
    "        value between 0 and 1 to set for making predictions. If the predicted probability is\n",
    "        equal to or greater than threshold, we consider that a true prediction. Only used for\n",
    "        the accuracy calculation. \n",
    "\n",
    "    Returns\n",
    "    -------    \n",
    "    mean_internal_node_loss : tensor\n",
    "        pytorch single-value tensor with the mean loss for all internal \n",
    "        nodes in the dataset\n",
    "    '''\n",
    "    # we will store the losses in a list, then calculate the mean \n",
    "    # at the end\n",
    "    stored_losses = []\n",
    "    \n",
    "    # we need to get a list of the internal values in this batch of data\n",
    "    encoded_values_batch = y_batch_internal.unique().tolist()\n",
    "    #print(encoded_values_batch)\n",
    "    internal_values_batch = []\n",
    "    for x in encoded_values_batch:\n",
    "        internal_values_batch.append(next(key for key, value in mapping_dict.items() if value == x))\n",
    "    \n",
    "    for internal_cell in internal_values_batch:\n",
    "        # get the encoded value for this cell\n",
    "        map_value = mapping_dict[internal_cell]\n",
    "        \n",
    "        # use the encoded value to select the predicted and known values \n",
    "        # for that cell\n",
    "        output_cell_internal = output_internal[y_batch_internal == map_value]\n",
    "        y_cell_internal = y_batch_internal[y_batch_internal == map_value]\n",
    "        \n",
    "        # use output_probability_tensor to sum the predicted probabilities\n",
    "        # up the whole ontology,\n",
    "        output_parent_prob_all = output_probability_tensor(output_cell_internal,ontology_leaf_df)\n",
    "        # select the rows that are relevant for this internal node\n",
    "        \n",
    "        # For this cell, select the column of the ontology_df\n",
    "        # this let's us know the parents of the target value\n",
    "        # pick the correct column, then get the values (0 or 1) into a Tensor\n",
    "        ontology_internal_cell_df = ontology_df[internal_cell]\n",
    "        ontology_internal_cell_values = torch.FloatTensor(ontology_internal_cell_df.values)\n",
    "        ontology_internal_cell_values = ontology_internal_cell_values.to(device)\n",
    "\n",
    "        # multiple the ontology_internal_cell_values by the predictions to zero out the values\n",
    "        # that don't apply for this cell. All predictions that apply with stay with the\n",
    "        # predicted probability. \n",
    "        output_parent_prob_all_internal = ontology_internal_cell_values[:,None] * output_parent_prob_all         \n",
    "\n",
    "        # remove the rows/values that are zeros\n",
    "        output_parent_prob_all_internal = output_parent_prob_all_internal[output_parent_prob_all_internal.sum(dim=1) != 0]\n",
    "\n",
    "        # Now, to get the known probabilities, we need to identify the values that are parents,\n",
    "        # then select and pick the relevant rows of the ontology df\n",
    "        internal_rows_list = parent_dict[internal_cell]\n",
    "        #print('internal_rows_list (parent dict[internal cell])',internal_rows_list)\n",
    "        parent_indices = [ontology_internal_cell_df.index.get_loc(row) for row  in internal_rows_list]\n",
    "        #print('parent_indices',parent_indices)\n",
    "        ontology_internal_cell_df_sc = ontology_internal_cell_df[parent_indices]\n",
    "\n",
    "        # now we can calculate the probability tensors for the\n",
    "        #  known values\n",
    "        ###output_parent_prob = output_probability_tensor(output_cell_internal,ontology_internal_cell_df)\n",
    "        target_parent_prob = internal_target_probability_tensor(y_cell_internal,ontology_internal_cell_df_sc)\n",
    "\n",
    "        #print('output_parent_prob_all_internal',output_parent_prob_all_internal.shape)\n",
    "        #print('target_parent_prob',target_parent_prob.shape)\n",
    "        \n",
    "        # and then we calculate the BCE loss and store the value for this cell\n",
    "        cell_loss = criterion_parents(output_parent_prob_all_internal,target_parent_prob)\n",
    "        stored_losses.append(cell_loss.item())\n",
    "        \n",
    "        # we need to calculate the accuracy here because the number of\n",
    "        # cells and internal parent nodes will vary for each internal cell\n",
    "        # we will track the amount of data so we can weight appropriately \n",
    "        # when combining\n",
    "                \n",
    "        # calculate the accuracy\n",
    "        # use the threshold value to convert input into predicted labels\n",
    "        accuracy_cell =  multilabel_accuracy(output_parent_prob_all_internal,target_parent_prob,\n",
    "                                            threshold=threshold,criteria='hamming')\n",
    "\n",
    "        # save the number of cells for this node, for use in weighting when\n",
    "        # determining the overall accuracy\n",
    "        number_of_cells = output_parent_prob_all_internal.shape[1]\n",
    "        \n",
    "        # save the accuracy and number of cell values\n",
    "        if internal_cell == internal_values_batch[0]:\n",
    "            # if this is the first loop, initialize\n",
    "            # the tensors we'll save\n",
    "            total_accuracy_cell = accuracy_cell.reshape(1)\n",
    "            total_number_of_cells = torch.tensor(number_of_cells).reshape(1)\n",
    "        else:\n",
    "            # append tensors for saving\n",
    "            total_accuracy_cell = torch.cat((total_accuracy_cell,accuracy_cell.reshape(1)),0)\n",
    "            total_number_of_cells = torch.cat((total_number_of_cells,torch.tensor(number_of_cells).reshape(1)),0)\n",
    "            \n",
    "    \n",
    "    # take the mean of the loss values for each cell ID\n",
    "    # this gives us the mean loss for all internal nodes\n",
    "    mean_internal_node_loss = torch.tensor(np.mean(stored_losses))\n",
    "    \n",
    "    # move total number of cells to GPU, if available\n",
    "    # total accuracy cell is already on GPU, if available\n",
    "    total_number_of_cells = total_number_of_cells.to(device)\n",
    "    \n",
    "        \n",
    "    return mean_internal_node_loss, total_accuracy_cell, total_number_of_cells\n",
    "       "
   ]
  },
  {
   "cell_type": "markdown",
   "id": "ab9e93e1",
   "metadata": {},
   "source": [
    "# Marginalization Classification \n",
    "\n",
    "- Based on Dahll, et al., Hierarchical Image Classification using Entailment Cone Embeddings, CVPR 202\n",
    "- https://arxiv.org/pdf/2004.03459.pdf\n",
    "- Thesis slides: https://ankitdhall.github.io/publication/learning-representations-for-images-with-hierarchical-labels/master_thesis.pdf\n",
    "- First Author website: https://ankitdhall.github.io/project/learning-representations-for-images-with-hierarchical-labels/\n",
    "\n",
    "Outline:\n",
    "1) Forward Propogation\n",
    "2) Get outputs (outputs_train)\n",
    "3) get probability dictionary for outputs (add_probability_to_parent_nodes).\n",
    "4) get tree structure and run softmax on each layer\n",
    "5) use y_train to make probability dictionary y tree\n",
    "6) calculate the loss across all levels\n",
    "\n"
   ]
  },
  {
   "cell_type": "markdown",
   "id": "2d814a7f",
   "metadata": {},
   "source": [
    "## Marginalization with DataLoader"
   ]
  },
  {
   "cell_type": "code",
   "execution_count": 30,
   "id": "82c7bf41",
   "metadata": {},
   "outputs": [],
   "source": [
    "def marginalization_classification_with_batches(train_loader,X_val,y_val,num_epochs,ontology_df):\n",
    "    '''\n",
    "    Performs training and validation simultaneously to allow visualization of model performance \n",
    "    per epoch. Accounts for entire tree structure of the ontology by classifying to the leaf nodes, \n",
    "    propogating the probabilities across the ontology, and calculating the loss for both the leafs \n",
    "    and parent nodes. \n",
    "    \n",
    "    Parameters\n",
    "    ----------\n",
    "    train_loader : DataLoader Tensor\n",
    "        pytorch tensor of training and target values from Pytorch DataLoader\n",
    "    \n",
    "    X_val : Tensor\n",
    "        pytorch tensor of validation values\n",
    "                \n",
    "    y_val : Tensor\n",
    "        pytorch tensor of validation target values\n",
    "    \n",
    "    num_epochs : int\n",
    "        integer specify the number of epochs\n",
    "        \n",
    "    ontology_df : pandas dataframe\n",
    "        pandas dataframe where indices (rows) are all leaf and parent cell IDs from the portion of \n",
    "        the ontology being queried, and columns are all leafs in portion of ontology being queried. \n",
    "        \n",
    "        Dataframe is binary. For each parent node, element = 1 if parent node is an ancestor\n",
    "        of corresponding leaf node.\n",
    "        \n",
    "    Returns\n",
    "    -------    \n",
    "    marginalization_dict : dictionary\n",
    "        dictionary containing results from each epoch of the neural network\n",
    "    \n",
    "    Keys and Values include:\n",
    "    \n",
    "        accuracy_train_hist : list\n",
    "            list containing accuracy for the training set per epoch\n",
    "        \n",
    "        loss_train_hist: list\n",
    "            list containing total loss values for the training set per epoch\n",
    "            \n",
    "        loss_train_leaf_hist : list\n",
    "            list containing loss values for leaf nodes for the training set per epoch\n",
    "            \n",
    "        loss_train_parents_hist : list\n",
    "            list containing loss values for parent nodes for the training set per epoch\n",
    "        \n",
    "        accuracy_val_hist : list \n",
    "            list containing accuracy for the validation set per epoch\n",
    "        \n",
    "        loss_val_hist : list\n",
    "            list containing total loss values for the validation set per epoch\n",
    "            \n",
    "        loss_val_leaf_hist : list\n",
    "            list containing loss values for leaf nodes for the validation set per epoch\n",
    "            \n",
    "        loss_val_parents_hist : list\n",
    "            list containing loss values for parent nodes for the validation set per epoch\n",
    "            \n",
    "        best_output : tensor\n",
    "            PyTorch tensor containing the predicted probabilites for the most accurate\n",
    "            epoch\n",
    "\n",
    "    '''\n",
    "    # initialize variables for saving values\n",
    "    accuracy_train_hist = []\n",
    "    loss_train_leaf_hist = []\n",
    "    loss_train_parents_hist = []\n",
    "    loss_train_hist = []\n",
    "    accuracy_val_hist = []\n",
    "    loss_val_hist = []\n",
    "    loss_val_leaf_hist = []\n",
    "    loss_val_parents_hist = []\n",
    "\n",
    "    best_accuracy = - np.inf\n",
    "    best_weights = None\n",
    "\n",
    "    # initialize network\n",
    "    clf = Network()\n",
    "    clf.to(device)\n",
    "\n",
    "    # define loss and optimizer\n",
    "    # we use two different loss methods for the leafs and parents\n",
    "    # use Cross Entory Loss for leafs, because those probabilities are normalized\n",
    "    #     and it is thus a multi-class problem\n",
    "    # Use BCELoss for the parents because this is a multi-label problem\n",
    "    #     and the probabilities are normalized, so we don't need BCELossWithLogits\n",
    "    # initialize both here\n",
    "    criterion_leafs = nn.CrossEntropyLoss()\n",
    "    criterion_parents = nn.BCELoss()\n",
    "    optimizer = torch.optim.Adam(clf.parameters(), lr=1e-3)\n",
    "\n",
    "    for epoch in range(num_epochs):\n",
    "        print('on epoch', epoch)\n",
    "        \n",
    "        # TRAINING\n",
    "        clf.train()\n",
    "        running_train_loss = 0.0\n",
    "        #running_accuracy = 0.0\n",
    "        #running_vallidation_loss = 0.0\n",
    "        #total = 0\n",
    "        \n",
    "        correct_train = 0\n",
    "        y_length = 0\n",
    "        #i = -1\n",
    "        start_loop = time.time()\n",
    "\n",
    "        for i, (X_train, y_train) in enumerate(train_loader):\n",
    "            end_loop = time.time()\n",
    "            print('time elapsed:', (end_loop-start_loop))\n",
    "            #if i % 50 == 0:\n",
    "            print('on batch', i)\n",
    "\n",
    "            # every data instance is input + label pair\n",
    "            #X_train = X_train.to(device)\n",
    "            #y_train = y_train.to(device)\n",
    "            \n",
    "            # set optimizer to zero grad to remove previous epoch gradients\n",
    "            optimizer.zero_grad()\n",
    "            \n",
    "            # make predictions for this batch\n",
    "            outputs_train = clf(X_train) # might need to change to X_train.float()\n",
    "            \n",
    "            # calculate loss for just the leafs\n",
    "            loss_train_leafs = criterion_leafs(outputs_train, y_train)\n",
    "\n",
    "            # calculate the loss for the parents\n",
    "            output_train_parent_prob = output_probability_tensor(outputs_train,ontology_df)\n",
    "            target_train_parent_prob = target_probability_tensor(y_train,ontology_df)\n",
    "\n",
    "            loss_train_parents = criterion_parents(output_train_parent_prob,target_train_parent_prob)\n",
    "\n",
    "            # sum the loss for both leafs and parents\n",
    "            loss_train = loss_train_leafs + loss_train_parents\n",
    "\n",
    "            # backward propagation\n",
    "            loss_train.backward()\n",
    "\n",
    "            # optimize\n",
    "            optimizer.step()\n",
    " \n",
    "            running_train_loss += loss_train.item()\n",
    "    \n",
    "            # save accuracy\n",
    "            _, train_pred_per_epoch = outputs_train.max(dim=1)\n",
    "            #print(train_pred_per_epoch)\n",
    "            #print(y_train)\n",
    "            correct_train += (train_pred_per_epoch == y_train).sum().item()\n",
    "            #print(correct_train)\n",
    "            y_length += len(y_train)\n",
    "            #print(y_length)\n",
    "            #print('current accuracy:', (correct_train/y_length *100))\n",
    "            #print('current loss:', loss_train.item())\n",
    "            #print('')            \n",
    "   \n",
    "\n",
    "        # save accuracy\n",
    "        #_, train_pred = outputs_train.max(dim=1)\n",
    "        #correct_train = (train_pred == y_train).sum().item()\n",
    "        #print(correct_train)\n",
    "        #print(y_length)\n",
    "        accuracy_train_hist.append(correct_train / y_length * 100.)\n",
    "\n",
    "        # save loss\n",
    "        loss_train_hist.append(loss_train.item())\n",
    "        loss_train_leaf_hist.append(loss_train_leafs.item())\n",
    "        loss_train_parents_hist.append(loss_train_parents.item())\n",
    "\n",
    "        \n",
    "        with torch.no_grad():\n",
    "            clf.eval()\n",
    "            # calculate output by running through the network\n",
    "            outputs_val = clf(X_val.float())\n",
    "\n",
    "            # get the predictions\n",
    "            __, predicted_val = outputs_val.max(dim=1)            \n",
    "            \n",
    "            # calculate loss for just the leafs\n",
    "            loss_val_leafs = criterion_leafs(outputs_val, y_val)\n",
    "        \n",
    "            # calculate the loss for the parents\n",
    "            output_val_parent_prob = output_probability_tensor(outputs_val,ontology_df)\n",
    "            target_val_parent_prob = target_probability_tensor(y_val,ontology_df)\n",
    "            \n",
    "            loss_val_parents = criterion_parents(output_val_parent_prob,target_val_parent_prob)\n",
    "\n",
    "            # sum the loss for both leafs and parents\n",
    "            loss_val = loss_val_leafs + loss_val_parents\n",
    "            \n",
    "            # save accuracy\n",
    "            correct_val = (predicted_val == y_val).sum().item()\n",
    "            accuracy_val_hist.append(correct_val / len(y_val) * 100.)\n",
    "\n",
    "            # save loss\n",
    "            loss_val_hist.append(loss_val.item())\n",
    "            loss_val_leaf_hist.append(loss_val_leafs.item())\n",
    "            loss_val_parents_hist.append(loss_val_parents.item())\n",
    "\n",
    "            \n",
    "            # check if best model\n",
    "            if accuracy_val_hist[-1] > best_accuracy:\n",
    "                best_acc = accuracy_val_hist[-1]\n",
    "                best_weights = copy.deepcopy(clf.state_dict())\n",
    "                best_output = copy.deepcopy(outputs_val)\n",
    "            \n",
    "        if (epoch + 1) % 10 == 0 or epoch == 0:\n",
    "            print(f'[{epoch + 1}] Training Accuracy: {accuracy_train_hist[-1]:.8f} Validation Accuracy: {accuracy_val_hist[-1]:.8f}')\n",
    "\n",
    "    print(f'Best Validation Accuracy: {best_acc:.3f}')\n",
    "    #print('Best Weights: ')\n",
    "    #print(best_weights)\n",
    "    \n",
    "    # build dictionary to return values\n",
    "    marginalization_dict = {}\n",
    "    marginalization_dict['accuracy_train_hist'] = accuracy_train_hist\n",
    "    marginalization_dict['loss_train_hist'] = loss_train_hist\n",
    "    \n",
    "    marginalization_dict['loss_train_leaf_hist'] = loss_train_leaf_hist\n",
    "    marginalization_dict['loss_train_parents_hist'] = loss_train_parents_hist\n",
    "\n",
    "    marginalization_dict['accuracy_val_hist'] = accuracy_val_hist\n",
    "    marginalization_dict['loss_val_hist'] = loss_val_hist\n",
    "\n",
    "    marginalization_dict['loss_val_leaf_hist'] = loss_val_leaf_hist\n",
    "    marginalization_dict['loss_val_parents_hist'] = loss_val_parents_hist\n",
    "    \n",
    "    marginalization_dict['best_output'] = best_output\n",
    "\n",
    "    #return(accuracy_train_hist, loss_train_hist, loss_train_leaf_hist, loss_train_parents_hist, accuracy_val_hist, loss_val_hist, loss_val_leaf_hist, loss_val_parents_hist, best_output)\n",
    "    return marginalization_dict\n"
   ]
  },
  {
   "cell_type": "code",
   "execution_count": 20,
   "id": "14db3ee5",
   "metadata": {},
   "outputs": [
    {
     "name": "stdout",
     "output_type": "stream",
     "text": [
      "4114.0625\n"
     ]
    }
   ],
   "source": [
    "print(X_train.shape[0]/128)"
   ]
  },
  {
   "cell_type": "code",
   "execution_count": 31,
   "id": "7eee1e2f",
   "metadata": {},
   "outputs": [
    {
     "name": "stdout",
     "output_type": "stream",
     "text": [
      "Number of batches is  32.8251953125\n",
      "There are 2 leafs and 12 parents.\n",
      "on epoch 0\n",
      "time elapsed: 206.50590801239014\n",
      "on batch 0\n"
     ]
    },
    {
     "ename": "RuntimeError",
     "evalue": "Expected all tensors to be on the same device, but found at least two devices, cuda:0 and cpu! (when checking argument for argument mat1 in method wrapper_SparseCUDA__addmm)",
     "output_type": "error",
     "traceback": [
      "\u001b[0;31m---------------------------------------------------------------------------\u001b[0m",
      "\u001b[0;31mRuntimeError\u001b[0m                              Traceback (most recent call last)",
      "Cell \u001b[0;32mIn[31], line 29\u001b[0m\n\u001b[1;32m     26\u001b[0m \u001b[38;5;28mprint\u001b[39m(\u001b[38;5;124m'\u001b[39m\u001b[38;5;124mThere are\u001b[39m\u001b[38;5;124m'\u001b[39m, number_of_leafs, \u001b[38;5;124m'\u001b[39m\u001b[38;5;124mleafs and\u001b[39m\u001b[38;5;124m'\u001b[39m, number_of_parents, \u001b[38;5;124m'\u001b[39m\u001b[38;5;124mparents.\u001b[39m\u001b[38;5;124m'\u001b[39m)\n\u001b[1;32m     28\u001b[0m start \u001b[38;5;241m=\u001b[39m time\u001b[38;5;241m.\u001b[39mtime()\n\u001b[0;32m---> 29\u001b[0m marginalization_dict \u001b[38;5;241m=\u001b[39m \u001b[43mmarginalization_classification_with_batches\u001b[49m\u001b[43m(\u001b[49m\u001b[43mtrain_loader\u001b[49m\u001b[43m,\u001b[49m\u001b[43mX_val\u001b[49m\u001b[43m,\u001b[49m\u001b[43my_val\u001b[49m\u001b[43m,\u001b[49m\u001b[43mnum_epochs\u001b[49m\u001b[43m,\u001b[49m\u001b[43m \u001b[49m\u001b[43montology_df\u001b[49m\u001b[43m)\u001b[49m\n\u001b[1;32m     30\u001b[0m end \u001b[38;5;241m=\u001b[39m time\u001b[38;5;241m.\u001b[39mtime()\n\u001b[1;32m     32\u001b[0m \u001b[38;5;28mprint\u001b[39m(\u001b[38;5;124m'\u001b[39m\u001b[38;5;124mrun time:\u001b[39m\u001b[38;5;124m'\u001b[39m, (end\u001b[38;5;241m-\u001b[39mstart))\n",
      "Cell \u001b[0;32mIn[30], line 122\u001b[0m, in \u001b[0;36mmarginalization_classification_with_batches\u001b[0;34m(train_loader, X_val, y_val, num_epochs, ontology_df)\u001b[0m\n\u001b[1;32m    119\u001b[0m optimizer\u001b[38;5;241m.\u001b[39mzero_grad()\n\u001b[1;32m    121\u001b[0m \u001b[38;5;66;03m# make predictions for this batch\u001b[39;00m\n\u001b[0;32m--> 122\u001b[0m outputs_train \u001b[38;5;241m=\u001b[39m \u001b[43mclf\u001b[49m\u001b[43m(\u001b[49m\u001b[43mX_train\u001b[49m\u001b[43m)\u001b[49m \u001b[38;5;66;03m# might need to change to X_train.float()\u001b[39;00m\n\u001b[1;32m    124\u001b[0m \u001b[38;5;66;03m# calculate loss for just the leafs\u001b[39;00m\n\u001b[1;32m    125\u001b[0m loss_train_leafs \u001b[38;5;241m=\u001b[39m criterion_leafs(outputs_train, y_train)\n",
      "File \u001b[0;32m~/cell_classification/env/lib/python3.10/site-packages/torch/nn/modules/module.py:1501\u001b[0m, in \u001b[0;36mModule._call_impl\u001b[0;34m(self, *args, **kwargs)\u001b[0m\n\u001b[1;32m   1496\u001b[0m \u001b[38;5;66;03m# If we don't have any hooks, we want to skip the rest of the logic in\u001b[39;00m\n\u001b[1;32m   1497\u001b[0m \u001b[38;5;66;03m# this function, and just call forward.\u001b[39;00m\n\u001b[1;32m   1498\u001b[0m \u001b[38;5;28;01mif\u001b[39;00m \u001b[38;5;129;01mnot\u001b[39;00m (\u001b[38;5;28mself\u001b[39m\u001b[38;5;241m.\u001b[39m_backward_hooks \u001b[38;5;129;01mor\u001b[39;00m \u001b[38;5;28mself\u001b[39m\u001b[38;5;241m.\u001b[39m_backward_pre_hooks \u001b[38;5;129;01mor\u001b[39;00m \u001b[38;5;28mself\u001b[39m\u001b[38;5;241m.\u001b[39m_forward_hooks \u001b[38;5;129;01mor\u001b[39;00m \u001b[38;5;28mself\u001b[39m\u001b[38;5;241m.\u001b[39m_forward_pre_hooks\n\u001b[1;32m   1499\u001b[0m         \u001b[38;5;129;01mor\u001b[39;00m _global_backward_pre_hooks \u001b[38;5;129;01mor\u001b[39;00m _global_backward_hooks\n\u001b[1;32m   1500\u001b[0m         \u001b[38;5;129;01mor\u001b[39;00m _global_forward_hooks \u001b[38;5;129;01mor\u001b[39;00m _global_forward_pre_hooks):\n\u001b[0;32m-> 1501\u001b[0m     \u001b[38;5;28;01mreturn\u001b[39;00m \u001b[43mforward_call\u001b[49m\u001b[43m(\u001b[49m\u001b[38;5;241;43m*\u001b[39;49m\u001b[43margs\u001b[49m\u001b[43m,\u001b[49m\u001b[43m \u001b[49m\u001b[38;5;241;43m*\u001b[39;49m\u001b[38;5;241;43m*\u001b[39;49m\u001b[43mkwargs\u001b[49m\u001b[43m)\u001b[49m\n\u001b[1;32m   1502\u001b[0m \u001b[38;5;66;03m# Do not call functions when jit is used\u001b[39;00m\n\u001b[1;32m   1503\u001b[0m full_backward_hooks, non_full_backward_hooks \u001b[38;5;241m=\u001b[39m [], []\n",
      "Cell \u001b[0;32mIn[28], line 9\u001b[0m, in \u001b[0;36mNetwork.forward\u001b[0;34m(self, x)\u001b[0m\n\u001b[1;32m      8\u001b[0m \u001b[38;5;28;01mdef\u001b[39;00m \u001b[38;5;21mforward\u001b[39m(\u001b[38;5;28mself\u001b[39m,x):\n\u001b[0;32m----> 9\u001b[0m     x \u001b[38;5;241m=\u001b[39m \u001b[38;5;28;43mself\u001b[39;49m\u001b[38;5;241;43m.\u001b[39;49m\u001b[43mlinear1\u001b[49m\u001b[43m(\u001b[49m\u001b[43mx\u001b[49m\u001b[43m)\u001b[49m\n\u001b[1;32m     10\u001b[0m     x \u001b[38;5;241m=\u001b[39m \u001b[38;5;28mself\u001b[39m\u001b[38;5;241m.\u001b[39mbn(x)\n\u001b[1;32m     11\u001b[0m     x \u001b[38;5;241m=\u001b[39m F\u001b[38;5;241m.\u001b[39mrelu(x)\n",
      "File \u001b[0;32m~/cell_classification/env/lib/python3.10/site-packages/torch/nn/modules/module.py:1501\u001b[0m, in \u001b[0;36mModule._call_impl\u001b[0;34m(self, *args, **kwargs)\u001b[0m\n\u001b[1;32m   1496\u001b[0m \u001b[38;5;66;03m# If we don't have any hooks, we want to skip the rest of the logic in\u001b[39;00m\n\u001b[1;32m   1497\u001b[0m \u001b[38;5;66;03m# this function, and just call forward.\u001b[39;00m\n\u001b[1;32m   1498\u001b[0m \u001b[38;5;28;01mif\u001b[39;00m \u001b[38;5;129;01mnot\u001b[39;00m (\u001b[38;5;28mself\u001b[39m\u001b[38;5;241m.\u001b[39m_backward_hooks \u001b[38;5;129;01mor\u001b[39;00m \u001b[38;5;28mself\u001b[39m\u001b[38;5;241m.\u001b[39m_backward_pre_hooks \u001b[38;5;129;01mor\u001b[39;00m \u001b[38;5;28mself\u001b[39m\u001b[38;5;241m.\u001b[39m_forward_hooks \u001b[38;5;129;01mor\u001b[39;00m \u001b[38;5;28mself\u001b[39m\u001b[38;5;241m.\u001b[39m_forward_pre_hooks\n\u001b[1;32m   1499\u001b[0m         \u001b[38;5;129;01mor\u001b[39;00m _global_backward_pre_hooks \u001b[38;5;129;01mor\u001b[39;00m _global_backward_hooks\n\u001b[1;32m   1500\u001b[0m         \u001b[38;5;129;01mor\u001b[39;00m _global_forward_hooks \u001b[38;5;129;01mor\u001b[39;00m _global_forward_pre_hooks):\n\u001b[0;32m-> 1501\u001b[0m     \u001b[38;5;28;01mreturn\u001b[39;00m \u001b[43mforward_call\u001b[49m\u001b[43m(\u001b[49m\u001b[38;5;241;43m*\u001b[39;49m\u001b[43margs\u001b[49m\u001b[43m,\u001b[49m\u001b[43m \u001b[49m\u001b[38;5;241;43m*\u001b[39;49m\u001b[38;5;241;43m*\u001b[39;49m\u001b[43mkwargs\u001b[49m\u001b[43m)\u001b[49m\n\u001b[1;32m   1502\u001b[0m \u001b[38;5;66;03m# Do not call functions when jit is used\u001b[39;00m\n\u001b[1;32m   1503\u001b[0m full_backward_hooks, non_full_backward_hooks \u001b[38;5;241m=\u001b[39m [], []\n",
      "File \u001b[0;32m~/cell_classification/env/lib/python3.10/site-packages/torch/nn/modules/linear.py:114\u001b[0m, in \u001b[0;36mLinear.forward\u001b[0;34m(self, input)\u001b[0m\n\u001b[1;32m    113\u001b[0m \u001b[38;5;28;01mdef\u001b[39;00m \u001b[38;5;21mforward\u001b[39m(\u001b[38;5;28mself\u001b[39m, \u001b[38;5;28minput\u001b[39m: Tensor) \u001b[38;5;241m-\u001b[39m\u001b[38;5;241m>\u001b[39m Tensor:\n\u001b[0;32m--> 114\u001b[0m     \u001b[38;5;28;01mreturn\u001b[39;00m \u001b[43mF\u001b[49m\u001b[38;5;241;43m.\u001b[39;49m\u001b[43mlinear\u001b[49m\u001b[43m(\u001b[49m\u001b[38;5;28;43minput\u001b[39;49m\u001b[43m,\u001b[49m\u001b[43m \u001b[49m\u001b[38;5;28;43mself\u001b[39;49m\u001b[38;5;241;43m.\u001b[39;49m\u001b[43mweight\u001b[49m\u001b[43m,\u001b[49m\u001b[43m \u001b[49m\u001b[38;5;28;43mself\u001b[39;49m\u001b[38;5;241;43m.\u001b[39;49m\u001b[43mbias\u001b[49m\u001b[43m)\u001b[49m\n",
      "\u001b[0;31mRuntimeError\u001b[0m: Expected all tensors to be on the same device, but found at least two devices, cuda:0 and cpu! (when checking argument for argument mat1 in method wrapper_SparseCUDA__addmm)"
     ]
    }
   ],
   "source": [
    "# create the DataLoader datsets for batch purposes\n",
    "\n",
    "#X_train = X_train.to('cpu')\n",
    "#y_train = y_train.to('cpu')\n",
    "#print(X_train.get_device(),y_train.get_device())\n",
    "\n",
    "train_set = torch.utils.data.TensorDataset(X_train,y_train)\n",
    "\n",
    "# set these if on GPU \n",
    "#kwargs = {'num_workers': 0, 'pin_memory': True} if device.type=='cuda' else {}\n",
    "kwargs = {'num_workers': 0} if device.type=='cuda' else {}\n",
    "\n",
    "\n",
    "batch_size = 1024\n",
    "# set drop_last = True to drop the last batch iff it is a different size\n",
    "\n",
    "print('Number of batches is ', (X_train.shape[0]/batch_size))\n",
    "train_loader = torch.utils.data.DataLoader(dataset = train_set,batch_size=batch_size,shuffle=True,drop_last=True,**kwargs)\n",
    "\n",
    "\n",
    "num_epochs = 6\n",
    "\n",
    "number_of_leafs = labels['encoded_labels'].unique().size\n",
    "number_of_parents = ontology_df.shape[0]\n",
    "\n",
    "print('There are', number_of_leafs, 'leafs and', number_of_parents, 'parents.')\n",
    "\n",
    "start = time.time()\n",
    "marginalization_dict = marginalization_classification_with_batches(train_loader,X_val,y_val,num_epochs, ontology_df)\n",
    "end = time.time()\n",
    "\n",
    "print('run time:', (end-start))"
   ]
  },
  {
   "cell_type": "code",
   "execution_count": null,
   "id": "46796ccf",
   "metadata": {},
   "outputs": [],
   "source": [
    "plot_results(marginalization_dict,num_epochs)\n"
   ]
  },
  {
   "cell_type": "code",
   "execution_count": null,
   "id": "09ff8f98",
   "metadata": {},
   "outputs": [],
   "source": []
  },
  {
   "cell_type": "markdown",
   "id": "f133d7fd",
   "metadata": {},
   "source": [
    "## Marginalization with Manual Batches"
   ]
  },
  {
   "cell_type": "code",
   "execution_count": 20,
   "id": "1d2d4dff",
   "metadata": {},
   "outputs": [],
   "source": [
    "def marginalization_classification_manual_batch(X_train,X_val,y_train,y_val,num_epochs,ontology_leaf_df, \n",
    "                                                batch_size,internal_values,mapping_dict,\n",
    "                                               ontology_df, threshold):\n",
    "    '''\n",
    "    Performs training and validation simultaneously to allow visualization of model performance \n",
    "    per epoch. Accounts for entire tree structure of the ontology by classifying to the leaf nodes, \n",
    "    propogating the probabilities across the ontology, and calculating the loss for both the leafs \n",
    "    and parent nodes. \n",
    "    \n",
    "    Parameters\n",
    "    ----------\n",
    "    X_train : Tensor\n",
    "        pytorch tensor of training values\n",
    "    \n",
    "    X_val : Tensor\n",
    "        pytorch tensor of validation values\n",
    "        \n",
    "    y_train : Tensor\n",
    "        pytorch tensor of training target values\n",
    "        \n",
    "    y_val : Tensor\n",
    "        pytorch tensor of validation target values\n",
    "    \n",
    "    num_epochs : int\n",
    "        integer specify the number of epochs\n",
    "        \n",
    "    ontology_leaf_df : pandas dataframe\n",
    "        pandas dataframe where indices (rows) are all leaf and parent cell IDs from the portion of \n",
    "        the ontology being queried, and columns are onlys leafs in portion of ontology being queried. \n",
    "        Differs from ontology_df in that columns do not include any internal nodes.\n",
    "        \n",
    "        Dataframe is binary. For each parent node, element = 1 if parent node is an ancestor\n",
    "        of corresponding leaf node.\n",
    "    \n",
    "    batch_size : int\n",
    "        integer specificying the number of samples processed before the model\n",
    "        is updated\n",
    "        \n",
    "    internal_values : list\n",
    "        list of Cell Ontology IDs for internal nodes included in the dataset\n",
    "        \n",
    "    mapping_dict : dict\n",
    "        dictionary mapping the Cell Ontology IDs (keys) to the encoded values (values)\n",
    "        Values >= 0 are leaf nodes\n",
    "        Values < 0 are internal nodes\n",
    "    \n",
    "    ontology_df : pandas dataframe\n",
    "        pandas dataframe where indices (rows) are all leaf and parent cell IDs from the portion of \n",
    "        the ontology being queried, and columns are leafs and internal nodes in portion of ontology being \n",
    "        queried. \n",
    "        Differs from ontology_leaf_df in that columns include both leaf and internal node values\n",
    "        \n",
    "        Dataframe is binary. For each parent node, element = 1 if parent node is an ancestor\n",
    "        of corresponding leaf node.\n",
    "        \n",
    "    threshold : float\n",
    "        value between 0 and 1 to set for making predictions. If the predicted probability is\n",
    "        equal to or greater than threshold, we consider that a true prediction\n",
    "\n",
    "        \n",
    "    Returns\n",
    "    -------    \n",
    "    marginalization_dict : dictionary\n",
    "        dictionary containing results from each epoch of the neural network\n",
    "    \n",
    "    Keys and Values include:\n",
    "    \n",
    "        accuracy_train_leaf_hist : list\n",
    "            list containing accuracy for leaf values for the training set per epoch\n",
    "            \n",
    "        accuracy_train_internal_hist : list\n",
    "            list containing accuracy for internal values for the trainig set per epoch\n",
    "        \n",
    "        loss_train_hist: list\n",
    "            list containing total loss values for the training set per epoch\n",
    "            \n",
    "        loss_train_leaf_hist : list\n",
    "            list containing loss values for leaf nodes for the training set per epoch\n",
    "            \n",
    "        loss_train_parents_hist : list\n",
    "            list containing loss values for parent nodes for the training set per epoch\n",
    "        \n",
    "        loss_train_internal_hist : list\n",
    "            list containing loss values for internal nodes for the training set per epoch\n",
    "        \n",
    "        accuracy_val_leaf_hist : list \n",
    "            list containing accuracy for leaf values for the validation set per epoch\n",
    "        \n",
    "        accuracy_val_internal_hist : list\n",
    "            list containing accuracy for internal values for the validation set per epoch\n",
    "        \n",
    "        loss_val_hist : list\n",
    "            list containing total loss values for the validation set per epoch\n",
    "            \n",
    "        loss_val_leaf_hist : list\n",
    "            list containing loss values for leaf nodes for the validation set per epoch\n",
    "            \n",
    "        loss_val_parents_hist : list\n",
    "            list containing loss values for parent nodes for the validation set per epoch\n",
    "            \n",
    "        loss_val_internal_hist : list\n",
    "            list containing loss values for internal nodes for the validation set per epoch\n",
    "        \n",
    "        f1_score_train_leaf : list\n",
    "            list containing Macro F1 score for leaf nodes for training set per epoch \n",
    "        \n",
    "        f1_score_val_leaf : list\n",
    "            list containing Macro F1 score for leaf nodes for validation set per epoch \n",
    "        \n",
    "        best_output : tensor\n",
    "            PyTorch tensor containing the predicted probabilites for the most accurate\n",
    "            epoch\n",
    "            \n",
    "        best_state_dict : dictionary\n",
    "            Pytorch state_dict that contains the parameters for the best fitting models\n",
    "    '''\n",
    "    # initialize variables for saving values\n",
    "    accuracy_train_leaf_hist = []\n",
    "    accuracy_train_internal_hist = []\n",
    "    loss_train_leaf_hist = []\n",
    "    loss_train_parents_hist = []\n",
    "    loss_train_internal_hist = []\n",
    "    loss_train_hist = []\n",
    "    \n",
    "    accuracy_val_leaf_hist = []\n",
    "    accuracy_val_internal_hist = []\n",
    "    loss_val_hist = []\n",
    "    loss_val_leaf_hist = []\n",
    "    loss_val_parents_hist = []\n",
    "    loss_val_internal_hist = []\n",
    "    \n",
    "    f1_score_train_leaf = []\n",
    "    f1_score_val_leaf = []\n",
    "\n",
    "    best_accuracy = - np.inf\n",
    "    best_weights = None\n",
    "    \n",
    "    # get the list of leaf labels\n",
    "    leaf_label_list = [value for (key,value) in mapping_dict.items() if value >= 0]\n",
    "\n",
    "    # initialize network\n",
    "    clf = Network()\n",
    "    clf.to(device)\n",
    "\n",
    "    # define loss and optimizer\n",
    "    # we use two different loss methods for the leafs and parents\n",
    "    # use Cross Entory Loss for leafs, because those probabilities are normalized\n",
    "    #     and it is thus a multi-class problem\n",
    "    # Use BCELoss for the parents because this is a multi-label problem\n",
    "    #     and the probabilities are normalized, so we don't need BCELossWithLogits\n",
    "    # initialize both here\n",
    "    criterion_leafs = nn.CrossEntropyLoss(reduction='mean')\n",
    "    criterion_parents = nn.BCELoss(reduction='mean')\n",
    "    optimizer = torch.optim.Adam(clf.parameters(), lr=1e-3)#, amsgrad=True, eps=1e-5)\n",
    "    #scheduler = lr_scheduler.LinearLR(optimizer, start_factor=1.0, end_factor=0.5, total_iters=5)\n",
    "    scheduler = lr_scheduler.StepLR(optimizer, step_size=5,gamma=0.5)\n",
    "\n",
    "    #start_epoch = time.time()\n",
    "    for epoch in range(num_epochs):\n",
    "        #print('on epoch', epoch)\n",
    "        \n",
    "        # TRAINING\n",
    "        #print('Begin Training...')\n",
    "        clf.train()\n",
    "        \n",
    "        running_train_loss = 0.0\n",
    "        #correct_train = 0\n",
    "        #y_length = 0\n",
    "                \n",
    "        # set up manual batches - from https://stackoverflow.com/questions/45113245/how-to-get-mini-batches-in-pytorch-in-a-clean-and-efficient-way\n",
    "        permutation = torch.randperm(X_train.size()[0]).to(device)\n",
    "        permutation_cpu = permutation.cpu() # we want the same permutations, but need one copy on the cpu\n",
    "\n",
    "        #start = time.time()\n",
    "        for i in range(0,X_train.size()[0], batch_size):\n",
    "            #if (i/batch_size) % 10 == 0:\n",
    "            #print('on batch', i/batch_size, 'running time', (time.time()-start))\n",
    "\n",
    "            indices = permutation[i:i+batch_size]\n",
    "            indices_cpu = permutation_cpu[i:i+batch_size]\n",
    "            #X_batch, y_batch = X_train[indices], y_train[indices] # doesn't work for sparse tensors\n",
    "\n",
    "            X_batch = torch.index_select(X_train,0,indices_cpu).to(device)\n",
    "\n",
    "            y_batch = torch.index_select(y_train,0,indices)#.to(device)\n",
    "\n",
    "            \n",
    "            # check that tensors are on gpu. if on gpu, get_device returns 0, if on cpu, returns -1\n",
    "            #print(X_batch.get_device())\n",
    "            #print(y_batch.get_device())\n",
    "            \n",
    "            # set optimizer to zero grad to remove previous epoch gradients\n",
    "            optimizer.zero_grad()\n",
    "            \n",
    "            # make predictions for this batch\n",
    "            #if epoch == 0:\n",
    "            #    outputs_train = clf_nosoftmax(X_batch.float()) # might need to change to X_train.float()\n",
    "            #else:\n",
    "            outputs_train = clf(X_batch.float()) # might need to change to X_train.float()\n",
    "            \n",
    "            ######\n",
    "            # create mask to separate leaf and internal nodes\n",
    "            ######\n",
    "            output_train_leaf = outputs_train[y_batch >= 0]\n",
    "            #print(output_train_leaf.shape)\n",
    "            y_batch_leaf = y_batch[y_batch >= 0]\n",
    "            #print(y_batch_leaf.shape)\n",
    "            \n",
    "            output_train_internal = outputs_train[y_batch < 0]\n",
    "            y_batch_internal = y_batch[y_batch < 0]\n",
    "            \n",
    "\n",
    "            # calculate loss for just the leafs\n",
    "            loss_train_leafs = criterion_leafs(output_train_leaf, y_batch_leaf)\n",
    "\n",
    "            # calculate the loss for the parents of the cells that are leafs\n",
    "            output_train_parent_prob = output_probability_tensor(output_train_leaf,ontology_leaf_df)\n",
    "            target_train_parent_prob = target_probability_tensor(y_batch_leaf,ontology_leaf_df)\n",
    "\n",
    "            loss_train_parents = criterion_parents(output_train_parent_prob,target_train_parent_prob)\n",
    "\n",
    "            #######\n",
    "            # calculate the loss for the cells that are internal nodes\n",
    "            ##### total_accuracy_cell, total_number_of_cells\n",
    "            \n",
    "            loss_train_internal, batch_accuracy_internal, batch_numbers_internal = internal_node_loss(\n",
    "                                                    output_train_internal,y_batch_internal,\n",
    "                                                     internal_values,mapping_dict,ontology_df,\n",
    "                                                    ontology_leaf_df,criterion_parents,threshold)\n",
    "            \n",
    "            # sum the loss for both leafs and parents\n",
    "            loss_train = loss_train_leafs + loss_train_parents + loss_train_internal\n",
    "\n",
    "            # backward propagation\n",
    "            loss_train.backward()\n",
    "\n",
    "            # optimize\n",
    "            optimizer.step()\n",
    "             \n",
    "            running_train_loss += loss_train.item()\n",
    "           \n",
    "            # save accuracy\n",
    "            _, train_leaf_pred_per_epoch = output_train_leaf.max(dim=1)\n",
    "\n",
    "            \n",
    "            # check size of internal tensors. if only 1 internal cell\n",
    "            # reshape and detach\n",
    "            # else just detach\n",
    "            \n",
    "            if len(batch_accuracy_internal.size()) == 0:\n",
    "                batch_accuracy_internal_shaped = batch_accuracy_internal.detach().reshape(1)\n",
    "                batch_numbers_internal_shaped = batch_numbers_internal.detach().reshape(1)\n",
    "            else:\n",
    "                batch_accuracy_internal_shaped = batch_accuracy_internal.detach()\n",
    "                batch_numbers_internal_shaped = batch_numbers_internal.detach()\n",
    "                \n",
    "            \n",
    "            if i == 0:\n",
    "                train_leaf_pred_total = train_leaf_pred_per_epoch.detach()\n",
    "                y_train_leaf_total = y_batch_leaf.detach()\n",
    "                train_batch_accuracy_internal = batch_accuracy_internal_shaped\n",
    "                train_numbers_internal = batch_numbers_internal_shaped\n",
    "                output_train_probabilities = output_train_leaf.detach()\n",
    "            else:\n",
    "                train_leaf_pred_total = torch.cat((train_leaf_pred_total,train_leaf_pred_per_epoch.detach()),0)\n",
    "                y_train_leaf_total = torch.cat((y_train_leaf_total,y_batch_leaf.detach()),0)\n",
    "                train_batch_accuracy_internal = torch.cat((train_batch_accuracy_internal,batch_accuracy_internal_shaped),0)\n",
    "                train_numbers_internal = torch.cat((train_numbers_internal,batch_numbers_internal_shaped),0)\n",
    "                output_train_probabilities = torch.cat((output_train_probabilities,output_train_leaf.detach()),0)\n",
    "                            \n",
    "            # calculate total epoch accuracy for internal nodes\n",
    "            #epoch_internal_accuracy = / train_numbers_internal.sum() * 100\n",
    "            \n",
    "            #correct_train += (train_pred_per_epoch == y_batch).sum().item()\n",
    "            #y_length += len(y_batch)\n",
    "            \n",
    "            # calculate F1 score\n",
    "            #f1_val_score_epoch = f1_score(train_pred_per_epoch.cpu(),y_batch.cpu(),labels=output_dim,average='weighted',zero_division=np.nan)\n",
    "\n",
    "        scheduler.step()\n",
    "        \n",
    "        # save tensors\n",
    "        if epoch == 14:\n",
    "            torch.save(output_train_probabilities, 'output_good_nosoftmax_1Dec.pt')\n",
    "            torch.save(y_train_leaf_total, 'targets_good_nosoftmax_1Dec.pt')\n",
    "\n",
    "        \n",
    "        # save accuracy\n",
    "        #_, train_pred = outputs_train.max(dim=1)\n",
    "        #correct_train = (train_pred == y_train).sum().item()\n",
    "        #accuracy_train_hist.append(correct_train / y_length * 100.)\n",
    "        #print('acc train hist', accuracy_train_hist[-1])\n",
    "        \n",
    "        correct_train_leaf = (train_leaf_pred_total == y_train_leaf_total).sum().item()\n",
    "        accuracy_train_leaf_hist.append(correct_train_leaf / train_leaf_pred_total.shape[0] * 100.)\n",
    "        \n",
    "        correct_train_internal = (train_batch_accuracy_internal * train_numbers_internal).sum()\n",
    "        accuracy_train_internal = (correct_train_internal / train_numbers_internal.sum() * 100.).item()\n",
    "        accuracy_train_internal_hist.append(accuracy_train_internal)\n",
    "        \n",
    "        #print('sample acc', acc_full)\n",
    "\n",
    "        # save loss\n",
    "        loss_train_hist.append(loss_train.item())\n",
    "        loss_train_leaf_hist.append(loss_train_leafs.item())\n",
    "        loss_train_parents_hist.append(loss_train_parents.item())\n",
    "        loss_train_internal_hist.append(loss_train_internal.item())\n",
    "        \n",
    "        # save f1 score\n",
    "        # use average = weighted to account for label imbalance\n",
    "        # use zero_division = np.nan to exclude labels where all \n",
    "        #       predictions and labels are negative\n",
    "        f1_train_leaf_score = f1_score(train_leaf_pred_total.cpu(), y_train_leaf_total.cpu(),\n",
    "                                  labels=leaf_label_list,average='weighted',zero_division=np.nan)\n",
    "        f1_score_train_leaf.append(f1_train_leaf_score)\n",
    "        \n",
    "        # set up validation\n",
    "        correct_val = 0\n",
    "        y_val_length = 0\n",
    "        \n",
    "        with torch.no_grad():\n",
    "            clf.eval()\n",
    "            \n",
    "            # set up manual batches\n",
    "            # we don't need to randomly permute the validation set, but\n",
    "            # this will provide consistency with the above.\n",
    "            # for simplicity, let's use the same batch size\n",
    "            permutation_val = torch.randperm(X_val.size()[0]).to(device)\n",
    "            #start_val = time.time()\n",
    "            for i in range(0,X_val.size()[0],batch_size):\n",
    "            \n",
    "                indices_val = permutation_val[i:i+batch_size]\n",
    "                \n",
    "                X_val_batch = torch.index_select(X_val,0,indices_val)\n",
    "                y_val_batch = torch.index_select(y_val,0,indices_val)\n",
    "                \n",
    "            \n",
    "                # calculate output by running through the network\n",
    "                outputs_val = clf(X_val_batch.float())\n",
    "            \n",
    "                ######\n",
    "                # create mask to separate leaf and internal nodes\n",
    "                ######\n",
    "                output_val_leaf = outputs_val[y_val_batch >= 0]\n",
    "                y_val_batch_leaf = y_val_batch[y_val_batch >= 0]\n",
    "\n",
    "                output_val_internal = outputs_val[y_val_batch < 0]\n",
    "                y_val_batch_internal = y_val_batch[y_val_batch < 0]\n",
    "            \n",
    "                # calculate loss for just the leafs\n",
    "                loss_val_leafs = criterion_leafs(output_val_leaf, y_val_batch_leaf)\n",
    "        \n",
    "                # calculate the loss for the parents of the leafs\n",
    "                output_val_parent_prob = output_probability_tensor(output_val_leaf,ontology_leaf_df)\n",
    "                target_val_parent_prob = target_probability_tensor(y_val_batch_leaf,ontology_leaf_df)\n",
    "                \n",
    "                loss_val_parents = criterion_parents(output_val_parent_prob,target_val_parent_prob)\n",
    "\n",
    "                #######\n",
    "                # calculate the loss for the cells that are internal nodes\n",
    "                #####\n",
    "\n",
    "                loss_val_internal, batch_accuracy_internal_val, batch_numbers_internal_val = internal_node_loss(output_val_internal,\n",
    "                                                                y_val_batch_internal,\n",
    "                                                                internal_values,mapping_dict,ontology_df,ontology_leaf_df,\n",
    "                                                                criterion_parents,threshold)\n",
    "\n",
    "                \n",
    "                # sum the loss for both leafs and parents\n",
    "                loss_val = loss_val_leafs + loss_val_parents + loss_val_internal\n",
    "            \n",
    "            \n",
    "                # get the predictions\n",
    "                __, predicted_leaf_val_per_epoch = output_val_leaf.max(dim=1)            \n",
    "\n",
    "                # save accuracy\n",
    "                #correct_val += (predicted_val_per_epoch == y_val_batch).sum().item()\n",
    "                #y_val_length += len(y_val_batch)\n",
    "                \n",
    "                # check size of internal tensors. if only 1 internal cell\n",
    "                # reshape and detach\n",
    "                # else just detach\n",
    "                            \n",
    "                if len(batch_accuracy_internal_val.size()) == 0:\n",
    "                    batch_accuracy_internal_val_shaped = batch_accuracy_internal_val.detach().reshape(1)\n",
    "                    batch_numbers_internal_val_shaped = batch_numbers_internal_val.detach().reshape(1)\n",
    "                else:\n",
    "                    batch_accuracy_internal_val_shaped = batch_accuracy_internal_val.detach()\n",
    "                    batch_numbers_internal_val_shaped = batch_numbers_internal_val.detach()\n",
    "                                \n",
    "                if i == 0:\n",
    "                    val_leaf_pred_total = predicted_leaf_val_per_epoch.detach()\n",
    "                    y_leaf_val_total = y_val_batch_leaf.detach()\n",
    "                    val_batch_accuracy_internal = batch_accuracy_internal_val_shaped\n",
    "                    val_numbers_internal = batch_numbers_internal_val_shaped\n",
    "\n",
    "                else:\n",
    "                    val_leaf_pred_total = torch.cat((val_leaf_pred_total,predicted_leaf_val_per_epoch.detach()),0)\n",
    "                    y_leaf_val_total = torch.cat((y_leaf_val_total,y_val_batch_leaf.detach()),0)\n",
    "                    val_batch_accuracy_internal = torch.cat((val_batch_accuracy_internal,batch_accuracy_internal_val_shaped),0)\n",
    "                    val_numbers_internal = torch.cat((val_numbers_internal,batch_numbers_internal_val_shaped),0)               \n",
    "                \n",
    "            # save total accuracy\n",
    "            #accuracy_val_hist.append(correct_val / y_val_length * 100.)\n",
    "            \n",
    "            correct_val_leaf = (val_leaf_pred_total == y_leaf_val_total).sum().item()\n",
    "            accuracy_val_leaf_hist.append(correct_val_leaf / val_leaf_pred_total.shape[0] * 100.)\n",
    "\n",
    "            correct_val_internal = (val_batch_accuracy_internal * val_numbers_internal).sum()\n",
    "            accuracy_val_internal = (correct_val_internal / val_numbers_internal.sum() * 100.).item()\n",
    "            accuracy_val_internal_hist.append(accuracy_val_internal)\n",
    "\n",
    "            \n",
    "            # save loss\n",
    "            loss_val_hist.append(loss_val.item())\n",
    "            loss_val_leaf_hist.append(loss_val_leafs.item())\n",
    "            loss_val_parents_hist.append(loss_val_parents.item())\n",
    "            loss_val_internal_hist.append(loss_val_internal.item())\n",
    "            \n",
    "            # save f1 score\n",
    "            # use average = weighted to account for label imbalance\n",
    "            # use zero_division = np.nan to exclude labels where all \n",
    "            #       predictions and labels are negative\n",
    "            f1_val_leaf_score = f1_score(val_leaf_pred_total.cpu(), y_leaf_val_total.cpu(),\n",
    "                                    labels=leaf_label_list,average='weighted',zero_division=np.nan)\n",
    "            f1_score_val_leaf.append(f1_val_leaf_score)\n",
    "\n",
    "            \n",
    "            # check if best model\n",
    "            if accuracy_val_leaf_hist[-1] > best_accuracy:\n",
    "                best_acc = accuracy_val_leaf_hist[-1]\n",
    "                best_state_dict = copy.deepcopy(clf.state_dict())\n",
    "                best_output = copy.deepcopy(outputs_val)\n",
    "            \n",
    "        if (epoch + 1) % 1 == 0 or epoch == 0:\n",
    "            print(f'[{epoch + 1}] Training Accuracy: {accuracy_train_leaf_hist[-1]:.3f} Validation Accuracy: {accuracy_val_leaf_hist[-1]:.3f}')\n",
    "            print(f'Train Loss: {loss_train.item():.4f} Validation Loss: {loss_val.item():.4f}')\n",
    "            #print(f'Internal Loss: {loss_val_internal.item():.4f}')\n",
    "            #print('learning rate:', optimizer.param_groups[0][\"lr\"])\n",
    "        #end_epoch = time.time()\n",
    "        #print('epoch timer', end_epoch-start_epoch)\n",
    "\n",
    "    print(f'Best Validation Accuracy: {best_acc:.3f}')\n",
    "    \n",
    "    # build dictionary to return values\n",
    "    marginalization_dict = {}\n",
    "    marginalization_dict['accuracy_train_leaf_hist'] = accuracy_train_leaf_hist\n",
    "    marginalization_dict['accuracy_train_internal_hist'] = accuracy_train_internal_hist\n",
    "    \n",
    "    marginalization_dict['loss_train_hist'] = loss_train_hist\n",
    "    \n",
    "    marginalization_dict['loss_train_leaf_hist'] = loss_train_leaf_hist\n",
    "    marginalization_dict['loss_train_parents_hist'] = loss_train_parents_hist\n",
    "    marginalization_dict['loss_train_internal_hist'] = loss_train_internal_hist\n",
    "\n",
    "    marginalization_dict['accuracy_val_leaf_hist'] = accuracy_val_leaf_hist\n",
    "    marginalization_dict['accuracy_val_internal_hist'] = accuracy_val_internal_hist\n",
    "\n",
    "    marginalization_dict['loss_val_hist'] = loss_val_hist\n",
    "\n",
    "    marginalization_dict['loss_val_leaf_hist'] = loss_val_leaf_hist\n",
    "    marginalization_dict['loss_val_parents_hist'] = loss_val_parents_hist\n",
    "    marginalization_dict['loss_val_internal_hist'] = loss_val_internal_hist\n",
    "    \n",
    "    marginalization_dict['f1_score_train_leaf'] = f1_score_train_leaf\n",
    "    marginalization_dict['f1_score_val_leaf'] = f1_score_val_leaf\n",
    "\n",
    "    marginalization_dict['best_output'] = best_output\n",
    "    marginalization_dict['best_state_dict'] = best_state_dict\n",
    "\n",
    "\n",
    "    return marginalization_dict\n"
   ]
  },
  {
   "cell_type": "code",
   "execution_count": 59,
   "id": "00fbfe57",
   "metadata": {},
   "outputs": [],
   "source": [
    " "
   ]
  },
  {
   "cell_type": "code",
   "execution_count": 22,
   "id": "9eb71d88",
   "metadata": {},
   "outputs": [
    {
     "name": "stdout",
     "output_type": "stream",
     "text": [
      "{'CL:0000576': -9999, 'CL:0000624': -9998, 'CL:0000895': 0, 'CL:0001044': 1, 'CL:0002057': 2}\n",
      "{'CL:0000911': ['CL:0000911', 'CL:0000226', 'CL:0000842', 'CL:0002419', 'CL:0000084', 'CL:0000738', 'CL:0000542'], 'CL:0000325': ['CL:0000325'], 'CL:0001054': ['CL:0001054', 'CL:0000226', 'CL:0000842', 'CL:0000576', 'CL:0000763', 'CL:0000766', 'CL:0000738', 'CL:0011026', 'CL:0011115'], 'CL:0000226': ['CL:0000226'], 'CL:0000473': ['CL:0000473'], 'CL:0000789': ['CL:0000789', 'CL:0000842', 'CL:0000738', 'CL:0000542', 'CL:0000084', 'CL:0000226'], 'CL:0000842': ['CL:0000738', 'CL:0000842', 'CL:0000226'], 'CL:0002419': ['CL:0000842', 'CL:0002419', 'CL:0000738', 'CL:0000542', 'CL:0000084', 'CL:0000226'], 'CL:0000084': ['CL:0000842', 'CL:0000738', 'CL:0000542', 'CL:0000084', 'CL:0000226'], 'CL:0000624': ['CL:0000226', 'CL:0000789', 'CL:0000842', 'CL:0002419', 'CL:0000084', 'CL:0000624', 'CL:0000738', 'CL:0000542', 'CL:0000791'], 'CL:0000576': ['CL:0000226', 'CL:0000842', 'CL:0000576', 'CL:0000763', 'CL:0000766', 'CL:0000738', 'CL:0011026', 'CL:0011115'], 'CL:0000763': ['CL:0000763'], 'CL:0000898': ['CL:0000226', 'CL:0000842', 'CL:0002419', 'CL:0000084', 'CL:0000898', 'CL:0000738', 'CL:0000542'], 'CL:0000766': ['CL:0000738', 'CL:0000763', 'CL:0000766'], 'CL:0000860': ['CL:0000325', 'CL:0000226', 'CL:0000473', 'CL:0000842', 'CL:0000576', 'CL:0000763', 'CL:0000766', 'CL:0000860', 'CL:0000738', 'CL:0000234', 'CL:0011026', 'CL:0011115'], 'CL:0000738': ['CL:0000738'], 'CL:0000234': ['CL:0000325', 'CL:0000234', 'CL:0000473'], 'CL:0000542': ['CL:0000738', 'CL:0000842', 'CL:0000542', 'CL:0000226'], 'CL:0011026': ['CL:0011026', 'CL:0011115'], 'CL:0011115': ['CL:0011115'], 'CL:0000791': ['CL:0000226', 'CL:0000789', 'CL:0000842', 'CL:0002419', 'CL:0000084', 'CL:0000738', 'CL:0000542', 'CL:0000791']}\n",
      "['CL:0000895', 'CL:0001044', 'CL:0002057']\n",
      "['CL:0000576', 'CL:0000624']\n",
      "3\n"
     ]
    }
   ],
   "source": [
    "print(mapping_dict)\n",
    "print(parent_dict)\n",
    "print(leaf_values)\n",
    "print(internal_values)\n",
    "print(output_dim)"
   ]
  },
  {
   "cell_type": "markdown",
   "id": "0b366f69",
   "metadata": {},
   "source": [
    "**For 2 GPUs**\n",
    "\n",
    "Moving X_train to CPU, manually load batch, then move x_train to GPU with batch size of 128 = 3.4s per batch\n",
    "\n",
    "Same as above, but a batch size of 128 = 3.37s per batch\n",
    "\n",
    "same as above, with batch size of 1024 = 3.58s per batch\n",
    "\n",
    "same as above, with batch size of 4096 = 4.62s per batch\n",
    "\n",
    "\n",
    "same as above, but 1 GPU, batch size of 4096 = 4.4s per batch"
   ]
  },
  {
   "cell_type": "markdown",
   "id": "cddabb41",
   "metadata": {},
   "source": [
    "### trouble shooting same accuracy issue\n",
    "\n",
    "- 680k cells, with a learning rate of 0.1, train accuracy maxes at 24.06076719, validation at 24.03038359 after 2 epochs. Validation was constant from epoch 1, training increased by ~0.5 from epoch 1 to 2.\n",
    "\n",
    "- 42k cells, learning rate of 0.1, train accuracy maxes at 59.12890846 after 5 epochs with very little change before then, validation at 59.53117563 after the first epoch\n",
    "\n",
    "- 42k cells, learning rate of 1e-3, training accuracy changes by about 0.02 after the first two epochs (around 59.10213310), validation accuracy changing by ~0.03 after first epoch (around 59.50737744). \n",
    "\n",
    "- 42k cells, change model to 5 hidden layers instead of 10, learning rate 1e-3, training waffles around 59.11105822, validation around 59.87624941\n",
    "\n",
    "*Change the permutations to a single one, for both gpu and cpu*\n",
    "\n",
    "- 42k cells, 10 hidden layers, lr 1e-3, both accuracy's quickly at 98 or 99 percent\n"
   ]
  },
  {
   "cell_type": "code",
   "execution_count": null,
   "id": "62d2818b",
   "metadata": {},
   "outputs": [],
   "source": []
  },
  {
   "cell_type": "code",
   "execution_count": 23,
   "id": "5d34511b",
   "metadata": {},
   "outputs": [
    {
     "name": "stdout",
     "output_type": "stream",
     "text": [
      "There are 85 leafs and 54 parents.\n",
      "Number of training batches is  23.9757080078125\n",
      "Number of validation batches is  5.993896484375\n",
      "Prediction threshold for internal nodes is 0.8\n"
     ]
    },
    {
     "name": "stderr",
     "output_type": "stream",
     "text": [
      "../aten/src/ATen/native/cuda/Loss.cu:92: operator(): block: [130,0,0], thread: [0,0,0] Assertion `input_val >= zero && input_val <= one` failed.\n",
      "../aten/src/ATen/native/cuda/Loss.cu:92: operator(): block: [130,0,0], thread: [6,0,0] Assertion `input_val >= zero && input_val <= one` failed.\n",
      "../aten/src/ATen/native/cuda/Loss.cu:92: operator(): block: [130,0,0], thread: [7,0,0] Assertion `input_val >= zero && input_val <= one` failed.\n",
      "../aten/src/ATen/native/cuda/Loss.cu:92: operator(): block: [130,0,0], thread: [12,0,0] Assertion `input_val >= zero && input_val <= one` failed.\n",
      "../aten/src/ATen/native/cuda/Loss.cu:92: operator(): block: [130,0,0], thread: [16,0,0] Assertion `input_val >= zero && input_val <= one` failed.\n",
      "../aten/src/ATen/native/cuda/Loss.cu:92: operator(): block: [130,0,0], thread: [17,0,0] Assertion `input_val >= zero && input_val <= one` failed.\n",
      "../aten/src/ATen/native/cuda/Loss.cu:92: operator(): block: [130,0,0], thread: [22,0,0] Assertion `input_val >= zero && input_val <= one` failed.\n",
      "../aten/src/ATen/native/cuda/Loss.cu:92: operator(): block: [130,0,0], thread: [24,0,0] Assertion `input_val >= zero && input_val <= one` failed.\n",
      "../aten/src/ATen/native/cuda/Loss.cu:92: operator(): block: [130,0,0], thread: [29,0,0] Assertion `input_val >= zero && input_val <= one` failed.\n"
     ]
    },
    {
     "ename": "RuntimeError",
     "evalue": "CUDA error: device-side assert triggered\nCUDA kernel errors might be asynchronously reported at some other API call, so the stacktrace below might be incorrect.\nFor debugging consider passing CUDA_LAUNCH_BLOCKING=1.\nCompile with `TORCH_USE_CUDA_DSA` to enable device-side assertions.\n",
     "output_type": "error",
     "traceback": [
      "\u001b[0;31m---------------------------------------------------------------------------\u001b[0m",
      "\u001b[0;31mRuntimeError\u001b[0m                              Traceback (most recent call last)",
      "Cell \u001b[0;32mIn[23], line 19\u001b[0m\n\u001b[1;32m     15\u001b[0m \u001b[38;5;28mprint\u001b[39m(\u001b[38;5;124m'\u001b[39m\u001b[38;5;124mPrediction threshold for internal nodes is\u001b[39m\u001b[38;5;124m'\u001b[39m, threshold)\n\u001b[1;32m     17\u001b[0m start \u001b[38;5;241m=\u001b[39m time\u001b[38;5;241m.\u001b[39mtime()\n\u001b[0;32m---> 19\u001b[0m marginalization_dict \u001b[38;5;241m=\u001b[39m \u001b[43mmarginalization_classification_manual_batch\u001b[49m\u001b[43m(\u001b[49m\u001b[43mX_train\u001b[49m\u001b[43m,\u001b[49m\u001b[43mX_val\u001b[49m\u001b[43m,\u001b[49m\u001b[43my_train\u001b[49m\u001b[43m,\u001b[49m\u001b[43my_val\u001b[49m\u001b[43m,\u001b[49m\n\u001b[1;32m     20\u001b[0m \u001b[43m                                                                   \u001b[49m\u001b[43mnum_epochs\u001b[49m\u001b[43m,\u001b[49m\u001b[43m \u001b[49m\u001b[43montology_leaf_df\u001b[49m\u001b[43m,\u001b[49m\u001b[43m \u001b[49m\u001b[43mbatch_size\u001b[49m\u001b[43m,\u001b[49m\n\u001b[1;32m     21\u001b[0m \u001b[43m                                                                  \u001b[49m\u001b[43minternal_values\u001b[49m\u001b[43m,\u001b[49m\u001b[43mmapping_dict\u001b[49m\u001b[43m,\u001b[49m\n\u001b[1;32m     22\u001b[0m \u001b[43m                                                                  \u001b[49m\u001b[43montology_df\u001b[49m\u001b[43m,\u001b[49m\u001b[43mthreshold\u001b[49m\u001b[43m)\u001b[49m\n\u001b[1;32m     24\u001b[0m end \u001b[38;5;241m=\u001b[39m time\u001b[38;5;241m.\u001b[39mtime()\n\u001b[1;32m     26\u001b[0m time_minutes \u001b[38;5;241m=\u001b[39m (end\u001b[38;5;241m-\u001b[39mstart)\u001b[38;5;241m/\u001b[39m\u001b[38;5;241m60.\u001b[39m\n",
      "Cell \u001b[0;32mIn[20], line 228\u001b[0m, in \u001b[0;36mmarginalization_classification_manual_batch\u001b[0;34m(X_train, X_val, y_train, y_val, num_epochs, ontology_leaf_df, batch_size, internal_values, mapping_dict, ontology_df, threshold)\u001b[0m\n\u001b[1;32m    222\u001b[0m loss_train_parents \u001b[38;5;241m=\u001b[39m criterion_parents(output_train_parent_prob,target_train_parent_prob)\n\u001b[1;32m    224\u001b[0m \u001b[38;5;66;03m#######\u001b[39;00m\n\u001b[1;32m    225\u001b[0m \u001b[38;5;66;03m# calculate the loss for the cells that are internal nodes\u001b[39;00m\n\u001b[1;32m    226\u001b[0m \u001b[38;5;66;03m##### total_accuracy_cell, total_number_of_cells\u001b[39;00m\n\u001b[0;32m--> 228\u001b[0m loss_train_internal, batch_accuracy_internal, batch_numbers_internal \u001b[38;5;241m=\u001b[39m \u001b[43minternal_node_loss\u001b[49m\u001b[43m(\u001b[49m\n\u001b[1;32m    229\u001b[0m \u001b[43m                                        \u001b[49m\u001b[43moutput_train_internal\u001b[49m\u001b[43m,\u001b[49m\u001b[43my_batch_internal\u001b[49m\u001b[43m,\u001b[49m\n\u001b[1;32m    230\u001b[0m \u001b[43m                                         \u001b[49m\u001b[43minternal_values\u001b[49m\u001b[43m,\u001b[49m\u001b[43mmapping_dict\u001b[49m\u001b[43m,\u001b[49m\u001b[43montology_df\u001b[49m\u001b[43m,\u001b[49m\n\u001b[1;32m    231\u001b[0m \u001b[43m                                        \u001b[49m\u001b[43montology_leaf_df\u001b[49m\u001b[43m,\u001b[49m\u001b[43mcriterion_parents\u001b[49m\u001b[43m,\u001b[49m\u001b[43mthreshold\u001b[49m\u001b[43m)\u001b[49m\n\u001b[1;32m    233\u001b[0m \u001b[38;5;66;03m# sum the loss for both leafs and parents\u001b[39;00m\n\u001b[1;32m    234\u001b[0m loss_train \u001b[38;5;241m=\u001b[39m loss_train_leafs \u001b[38;5;241m+\u001b[39m loss_train_parents \u001b[38;5;241m+\u001b[39m loss_train_internal\n",
      "Cell \u001b[0;32mIn[19], line 56\u001b[0m, in \u001b[0;36minternal_node_loss\u001b[0;34m(output_internal, y_batch_internal, internal_values, mapping_dict, ontology_df, ontology_leaf_df, criterion_parents, threshold)\u001b[0m\n\u001b[1;32m     53\u001b[0m stored_losses \u001b[38;5;241m=\u001b[39m []\n\u001b[1;32m     55\u001b[0m \u001b[38;5;66;03m# we need to get a list of the internal values in this batch of data\u001b[39;00m\n\u001b[0;32m---> 56\u001b[0m encoded_values_batch \u001b[38;5;241m=\u001b[39m \u001b[43my_batch_internal\u001b[49m\u001b[38;5;241;43m.\u001b[39;49m\u001b[43munique\u001b[49m\u001b[43m(\u001b[49m\u001b[43m)\u001b[49m\u001b[38;5;241m.\u001b[39mtolist()\n\u001b[1;32m     57\u001b[0m \u001b[38;5;66;03m#print(encoded_values_batch)\u001b[39;00m\n\u001b[1;32m     58\u001b[0m internal_values_batch \u001b[38;5;241m=\u001b[39m []\n",
      "File \u001b[0;32m~/cell_classification/env/lib/python3.10/site-packages/torch/_tensor.py:820\u001b[0m, in \u001b[0;36mTensor.unique\u001b[0;34m(self, sorted, return_inverse, return_counts, dim)\u001b[0m\n\u001b[1;32m    810\u001b[0m \u001b[38;5;28;01mif\u001b[39;00m has_torch_function_unary(\u001b[38;5;28mself\u001b[39m):\n\u001b[1;32m    811\u001b[0m     \u001b[38;5;28;01mreturn\u001b[39;00m handle_torch_function(\n\u001b[1;32m    812\u001b[0m         Tensor\u001b[38;5;241m.\u001b[39munique,\n\u001b[1;32m    813\u001b[0m         (\u001b[38;5;28mself\u001b[39m,),\n\u001b[0;32m   (...)\u001b[0m\n\u001b[1;32m    818\u001b[0m         dim\u001b[38;5;241m=\u001b[39mdim,\n\u001b[1;32m    819\u001b[0m     )\n\u001b[0;32m--> 820\u001b[0m \u001b[38;5;28;01mreturn\u001b[39;00m \u001b[43mtorch\u001b[49m\u001b[38;5;241;43m.\u001b[39;49m\u001b[43munique\u001b[49m\u001b[43m(\u001b[49m\n\u001b[1;32m    821\u001b[0m \u001b[43m    \u001b[49m\u001b[38;5;28;43mself\u001b[39;49m\u001b[43m,\u001b[49m\n\u001b[1;32m    822\u001b[0m \u001b[43m    \u001b[49m\u001b[38;5;28;43msorted\u001b[39;49m\u001b[38;5;241;43m=\u001b[39;49m\u001b[38;5;28;43msorted\u001b[39;49m\u001b[43m,\u001b[49m\n\u001b[1;32m    823\u001b[0m \u001b[43m    \u001b[49m\u001b[43mreturn_inverse\u001b[49m\u001b[38;5;241;43m=\u001b[39;49m\u001b[43mreturn_inverse\u001b[49m\u001b[43m,\u001b[49m\n\u001b[1;32m    824\u001b[0m \u001b[43m    \u001b[49m\u001b[43mreturn_counts\u001b[49m\u001b[38;5;241;43m=\u001b[39;49m\u001b[43mreturn_counts\u001b[49m\u001b[43m,\u001b[49m\n\u001b[1;32m    825\u001b[0m \u001b[43m    \u001b[49m\u001b[43mdim\u001b[49m\u001b[38;5;241;43m=\u001b[39;49m\u001b[43mdim\u001b[49m\u001b[43m,\u001b[49m\n\u001b[1;32m    826\u001b[0m \u001b[43m\u001b[49m\u001b[43m)\u001b[49m\n",
      "File \u001b[0;32m~/cell_classification/env/lib/python3.10/site-packages/torch/_jit_internal.py:484\u001b[0m, in \u001b[0;36mboolean_dispatch.<locals>.fn\u001b[0;34m(*args, **kwargs)\u001b[0m\n\u001b[1;32m    482\u001b[0m     \u001b[38;5;28;01mreturn\u001b[39;00m if_true(\u001b[38;5;241m*\u001b[39margs, \u001b[38;5;241m*\u001b[39m\u001b[38;5;241m*\u001b[39mkwargs)\n\u001b[1;32m    483\u001b[0m \u001b[38;5;28;01melse\u001b[39;00m:\n\u001b[0;32m--> 484\u001b[0m     \u001b[38;5;28;01mreturn\u001b[39;00m \u001b[43mif_false\u001b[49m\u001b[43m(\u001b[49m\u001b[38;5;241;43m*\u001b[39;49m\u001b[43margs\u001b[49m\u001b[43m,\u001b[49m\u001b[43m \u001b[49m\u001b[38;5;241;43m*\u001b[39;49m\u001b[38;5;241;43m*\u001b[39;49m\u001b[43mkwargs\u001b[49m\u001b[43m)\u001b[49m\n",
      "File \u001b[0;32m~/cell_classification/env/lib/python3.10/site-packages/torch/_jit_internal.py:484\u001b[0m, in \u001b[0;36mboolean_dispatch.<locals>.fn\u001b[0;34m(*args, **kwargs)\u001b[0m\n\u001b[1;32m    482\u001b[0m     \u001b[38;5;28;01mreturn\u001b[39;00m if_true(\u001b[38;5;241m*\u001b[39margs, \u001b[38;5;241m*\u001b[39m\u001b[38;5;241m*\u001b[39mkwargs)\n\u001b[1;32m    483\u001b[0m \u001b[38;5;28;01melse\u001b[39;00m:\n\u001b[0;32m--> 484\u001b[0m     \u001b[38;5;28;01mreturn\u001b[39;00m \u001b[43mif_false\u001b[49m\u001b[43m(\u001b[49m\u001b[38;5;241;43m*\u001b[39;49m\u001b[43margs\u001b[49m\u001b[43m,\u001b[49m\u001b[43m \u001b[49m\u001b[38;5;241;43m*\u001b[39;49m\u001b[38;5;241;43m*\u001b[39;49m\u001b[43mkwargs\u001b[49m\u001b[43m)\u001b[49m\n",
      "File \u001b[0;32m~/cell_classification/env/lib/python3.10/site-packages/torch/functional.py:885\u001b[0m, in \u001b[0;36m_return_output\u001b[0;34m(input, sorted, return_inverse, return_counts, dim)\u001b[0m\n\u001b[1;32m    882\u001b[0m \u001b[38;5;28;01mif\u001b[39;00m has_torch_function_unary(\u001b[38;5;28minput\u001b[39m):\n\u001b[1;32m    883\u001b[0m     \u001b[38;5;28;01mreturn\u001b[39;00m _unique_impl(\u001b[38;5;28minput\u001b[39m, \u001b[38;5;28msorted\u001b[39m, return_inverse, return_counts, dim)\n\u001b[0;32m--> 885\u001b[0m output, _, _ \u001b[38;5;241m=\u001b[39m \u001b[43m_unique_impl\u001b[49m\u001b[43m(\u001b[49m\u001b[38;5;28;43minput\u001b[39;49m\u001b[43m,\u001b[49m\u001b[43m \u001b[49m\u001b[38;5;28;43msorted\u001b[39;49m\u001b[43m,\u001b[49m\u001b[43m \u001b[49m\u001b[43mreturn_inverse\u001b[49m\u001b[43m,\u001b[49m\u001b[43m \u001b[49m\u001b[43mreturn_counts\u001b[49m\u001b[43m,\u001b[49m\u001b[43m \u001b[49m\u001b[43mdim\u001b[49m\u001b[43m)\u001b[49m\n\u001b[1;32m    886\u001b[0m \u001b[38;5;28;01mreturn\u001b[39;00m output\n",
      "File \u001b[0;32m~/cell_classification/env/lib/python3.10/site-packages/torch/functional.py:799\u001b[0m, in \u001b[0;36m_unique_impl\u001b[0;34m(input, sorted, return_inverse, return_counts, dim)\u001b[0m\n\u001b[1;32m    791\u001b[0m     output, inverse_indices, counts \u001b[38;5;241m=\u001b[39m _VF\u001b[38;5;241m.\u001b[39munique_dim(\n\u001b[1;32m    792\u001b[0m         \u001b[38;5;28minput\u001b[39m,\n\u001b[1;32m    793\u001b[0m         dim,\n\u001b[0;32m   (...)\u001b[0m\n\u001b[1;32m    796\u001b[0m         return_counts\u001b[38;5;241m=\u001b[39mreturn_counts,\n\u001b[1;32m    797\u001b[0m     )\n\u001b[1;32m    798\u001b[0m \u001b[38;5;28;01melse\u001b[39;00m:\n\u001b[0;32m--> 799\u001b[0m     output, inverse_indices, counts \u001b[38;5;241m=\u001b[39m \u001b[43mtorch\u001b[49m\u001b[38;5;241;43m.\u001b[39;49m\u001b[43m_unique2\u001b[49m\u001b[43m(\u001b[49m\n\u001b[1;32m    800\u001b[0m \u001b[43m        \u001b[49m\u001b[38;5;28;43minput\u001b[39;49m\u001b[43m,\u001b[49m\n\u001b[1;32m    801\u001b[0m \u001b[43m        \u001b[49m\u001b[38;5;28;43msorted\u001b[39;49m\u001b[38;5;241;43m=\u001b[39;49m\u001b[38;5;28;43msorted\u001b[39;49m\u001b[43m,\u001b[49m\n\u001b[1;32m    802\u001b[0m \u001b[43m        \u001b[49m\u001b[43mreturn_inverse\u001b[49m\u001b[38;5;241;43m=\u001b[39;49m\u001b[43mreturn_inverse\u001b[49m\u001b[43m,\u001b[49m\n\u001b[1;32m    803\u001b[0m \u001b[43m        \u001b[49m\u001b[43mreturn_counts\u001b[49m\u001b[38;5;241;43m=\u001b[39;49m\u001b[43mreturn_counts\u001b[49m\u001b[43m,\u001b[49m\n\u001b[1;32m    804\u001b[0m \u001b[43m    \u001b[49m\u001b[43m)\u001b[49m\n\u001b[1;32m    805\u001b[0m \u001b[38;5;28;01mreturn\u001b[39;00m output, inverse_indices, counts\n",
      "\u001b[0;31mRuntimeError\u001b[0m: CUDA error: device-side assert triggered\nCUDA kernel errors might be asynchronously reported at some other API call, so the stacktrace below might be incorrect.\nFor debugging consider passing CUDA_LAUNCH_BLOCKING=1.\nCompile with `TORCH_USE_CUDA_DSA` to enable device-side assertions.\n"
     ]
    }
   ],
   "source": [
    "num_epochs = 15\n",
    "\n",
    "number_of_leafs = len(leaf_values)\n",
    "number_of_parents = len(internal_values)\n",
    "\n",
    "print('There are', number_of_leafs, 'leafs and', number_of_parents, 'parents.')\n",
    "\n",
    "batch_size = 16384 #8192 # 4096\n",
    "print('Number of training batches is ', (X_train.shape[0]/batch_size))\n",
    "print('Number of validation batches is ', (X_val.shape[0]/batch_size))\n",
    "\n",
    "\n",
    "# set the prediction threshold for internal nodes\n",
    "threshold = 0.8\n",
    "print('Prediction threshold for internal nodes is', threshold)\n",
    "\n",
    "start = time.time()\n",
    "\n",
    "marginalization_dict = marginalization_classification_manual_batch(X_train,X_val,y_train,y_val,\n",
    "                                                                   num_epochs, ontology_leaf_df, batch_size,\n",
    "                                                                  internal_values,mapping_dict,\n",
    "                                                                  ontology_df,threshold)\n",
    "\n",
    "end = time.time()\n",
    "\n",
    "time_minutes = (end-start)/60.\n",
    "time_hours = (end-start)/3600.\n",
    "\n",
    "print(f'Run time for {num_epochs} epochs was {time_minutes:.2f} minutes ({time_hours:.2f} hours)')\n"
   ]
  },
  {
   "cell_type": "code",
   "execution_count": 28,
   "id": "58d8ef2b",
   "metadata": {},
   "outputs": [
    {
     "data": {
      "text/plain": [
       "(106, 85)"
      ]
     },
     "execution_count": 28,
     "metadata": {},
     "output_type": "execute_result"
    }
   ],
   "source": [
    "#ontology_df['CL:0000813'].value_counts()\n",
    "ontology_leaf_df.shape"
   ]
  },
  {
   "cell_type": "code",
   "execution_count": null,
   "id": "071ec884",
   "metadata": {},
   "outputs": [],
   "source": []
  },
  {
   "cell_type": "code",
   "execution_count": 38,
   "id": "aea25445",
   "metadata": {},
   "outputs": [
    {
     "data": {
      "text/plain": [
       "dict_keys(['CL:1001603', 'CL:0000797', 'CL:0000875', 'CL:0002032', 'CL:0002496', 'CL:0000775', 'CL:0000798', 'CL:0001054', 'CL:0000911', 'CL:0000785', 'CL:0000906', 'CL:0001035', 'CL:0000826', 'CL:0000624', 'CL:0000860', 'CL:0000909', 'CL:0001065', 'CL:0000839', 'CL:0000219', 'CL:4030002', 'CL:0001067', 'CL:0008001', 'CL:0000791', 'CL:0000893', 'CL:0000766', 'CL:0000782', 'CL:0001056', 'CL:0000784', 'CL:0000473', 'CL:0000764', 'CL:0000084', 'CL:0000576', 'CL:0000763', 'CL:0000815', 'CL:0000864', 'CL:0001200', 'CL:0000232', 'CL:0000235', 'CL:0002417', 'CL:0000813', 'CL:0000898', 'CL:0002031', 'CL:0011115', 'CL:0000789', 'CL:0001019', 'CL:0001204', 'CL:0002420', 'CL:0000081', 'CL:0001203', 'CL:0000896', 'CL:0000451', 'CL:0000945', 'CL:0000145', 'CL:0000225', 'CL:0000972', 'CL:0000623', 'CL:0000790', 'CL:0000792', 'CL:0000988', 'CL:0002092', 'CL:0002242', 'CL:0001201', 'CL:0002191', 'CL:0000787', 'CL:0000842', 'CL:0001012', 'CL:0001060', 'CL:0000838', 'CL:0000625', 'CL:0011026', 'CL:0000329', 'CL:0002419', 'CL:0000492', 'CL:0000827', 'CL:0000897', 'CL:0000094', 'CL:0000234', 'CL:1001610', 'CL:0000824', 'CL:0000542', 'CL:0000236', 'CL:0000226', 'CL:0000255', 'CL:0000837', 'CL:0000738', 'CL:0002194', 'CL:0000990', 'CL:0000325'])"
      ]
     },
     "execution_count": 38,
     "metadata": {},
     "output_type": "execute_result"
    }
   ],
   "source": [
    "parent_dict.keys()"
   ]
  },
  {
   "cell_type": "code",
   "execution_count": 77,
   "id": "7595c183",
   "metadata": {},
   "outputs": [
    {
     "data": {
      "text/plain": [
       "0"
      ]
     },
     "execution_count": 77,
     "metadata": {},
     "output_type": "execute_result"
    }
   ],
   "source": [
    "test = torch.tensor([0.33,.2]).to(device)\n",
    "#test = test.to(device)\n",
    "#test.nelement() == 1\n",
    "#test.unique()\n",
    "test.get_device()\n"
   ]
  },
  {
   "cell_type": "code",
   "execution_count": 47,
   "id": "c79c8519",
   "metadata": {},
   "outputs": [
    {
     "name": "stdout",
     "output_type": "stream",
     "text": [
      "0 tensor(0.3300)\n",
      "1 tensor(0.2000)\n"
     ]
    }
   ],
   "source": [
    "if len(test.size()) == 0:\n",
    "    print('zero')\n",
    "\n",
    "else:\n",
    "    for count, target_value in enumerate(test):\n",
    "        print(count,target_value)\n"
   ]
  },
  {
   "cell_type": "code",
   "execution_count": 29,
   "id": "53cc1eea",
   "metadata": {},
   "outputs": [
    {
     "data": {
      "text/plain": [
       "device(type='cuda', index=0)"
      ]
     },
     "execution_count": 29,
     "metadata": {},
     "output_type": "execute_result"
    }
   ],
   "source": [
    "device\n"
   ]
  },
  {
   "cell_type": "code",
   "execution_count": null,
   "id": "b0014046",
   "metadata": {},
   "outputs": [],
   "source": []
  },
  {
   "cell_type": "code",
   "execution_count": 116,
   "id": "eeec39cd",
   "metadata": {},
   "outputs": [
    {
     "name": "stdout",
     "output_type": "stream",
     "text": [
      "349.0620286464691\n"
     ]
    }
   ],
   "source": [
    "print (end-start)\n"
   ]
  },
  {
   "cell_type": "code",
   "execution_count": 117,
   "id": "8385ea4d",
   "metadata": {},
   "outputs": [
    {
     "data": {
      "text/plain": [
       "6.842289690176646"
      ]
     },
     "execution_count": 117,
     "metadata": {},
     "output_type": "execute_result"
    }
   ],
   "source": [
    "410.53738141059875/60/1\n"
   ]
  },
  {
   "cell_type": "code",
   "execution_count": 26,
   "id": "270a37ef",
   "metadata": {},
   "outputs": [
    {
     "data": {
      "text/plain": [
       "3.421144845088323"
      ]
     },
     "execution_count": 26,
     "metadata": {},
     "output_type": "execute_result"
    }
   ],
   "source": [
    "6.842289690176646*30/60\n"
   ]
  },
  {
   "cell_type": "markdown",
   "id": "5681314e",
   "metadata": {},
   "source": [
    "so 30 minutes for 1 epoch with a batch size of 4096, and no batches for the validation set\n",
    "\n",
    "51 minutes for 5 epochs eith batch size of 4096 for both train and validation\n",
    "\n",
    "with batches for validation, about 10 minutes per epoch"
   ]
  },
  {
   "cell_type": "code",
   "execution_count": 35,
   "id": "4a0081ce",
   "metadata": {},
   "outputs": [],
   "source": [
    "# save the model parameters to a file\n",
    "\n",
    "#marginalization_dict['best_state_dict']\n",
    "\n",
    "torch.save(marginalization_dict['best_state_dict'],'1_Dec_best_model')\n",
    "\n"
   ]
  },
  {
   "cell_type": "code",
   "execution_count": 36,
   "id": "e798df07",
   "metadata": {},
   "outputs": [],
   "source": [
    "# save the loss/accuracy/f1 scores to a file\n",
    "\n",
    "cols_to_save = ['accuracy_train_leaf_hist', 'accuracy_train_internal_hist','loss_train_hist', \n",
    "                'loss_train_leaf_hist', 'loss_train_parents_hist', \n",
    "                'accuracy_val_leaf_hist', 'accuracy_val_internal_hist',\n",
    "                'loss_val_hist', 'loss_val_leaf_hist', 'loss_val_parents_hist', \n",
    "                'f1_score_train_leaf', 'f1_score_val_leaf']\n",
    "\n",
    "results_dict = {key: marginalization_dict[key] for key in cols_to_save}\n",
    "\n",
    "results_df = pd.DataFrame.from_dict(results_dict, orient='columns')\n",
    "\n",
    "results_df.insert(0,'epoch',range(1,num_epochs+1))\n",
    "\n",
    "results_df.to_csv('1Dec_results_df_hematopoietic.csv',index=False)\n",
    "\n"
   ]
  },
  {
   "cell_type": "code",
   "execution_count": 23,
   "id": "7ca5603c",
   "metadata": {},
   "outputs": [
    {
     "data": {
      "text/plain": [
       "dict_keys(['accuracy_train_leaf_hist', 'accuracy_train_internal_hist', 'loss_train_hist', 'loss_train_leaf_hist', 'loss_train_parents_hist', 'loss_train_internal_hist', 'accuracy_val_leaf_hist', 'accuracy_val_internal_hist', 'loss_val_hist', 'loss_val_leaf_hist', 'loss_val_parents_hist', 'loss_val_internal_hist', 'f1_score_train_leaf', 'f1_score_val_leaf', 'best_output', 'best_state_dict'])"
      ]
     },
     "execution_count": 23,
     "metadata": {},
     "output_type": "execute_result"
    }
   ],
   "source": [
    "marginalization_dict.keys()\n"
   ]
  },
  {
   "cell_type": "code",
   "execution_count": 34,
   "id": "47c4429e",
   "metadata": {},
   "outputs": [
    {
     "data": {
      "text/plain": [
       "[0.026294866103970586,\n",
       " 0.009042310521805473,\n",
       " 0.004259996926057883,\n",
       " 0.0037890718985408383,\n",
       " 0.0018232005968956972,\n",
       " 0.0015245055999911165]"
      ]
     },
     "execution_count": 34,
     "metadata": {},
     "output_type": "execute_result"
    }
   ],
   "source": [
    "marginalization_dict['loss_train_parents_hist']\n"
   ]
  },
  {
   "cell_type": "code",
   "execution_count": 109,
   "id": "8007af36",
   "metadata": {},
   "outputs": [
    {
     "data": {
      "text/plain": [
       "[0.1578429864142073, 0.15054678315353828, 0.16314317127120187]"
      ]
     },
     "execution_count": 109,
     "metadata": {},
     "output_type": "execute_result"
    }
   ],
   "source": [
    "marginalization_dict['loss_val_internal_hist']\n",
    "\n"
   ]
  },
  {
   "cell_type": "code",
   "execution_count": 110,
   "id": "ac4e3cf5",
   "metadata": {},
   "outputs": [
    {
     "data": {
      "text/plain": [
       "[57.29056167602539, 67.95557403564453, 69.49366760253906]"
      ]
     },
     "execution_count": 110,
     "metadata": {},
     "output_type": "execute_result"
    }
   ],
   "source": [
    "marginalization_dict['accuracy_train_internal_hist']"
   ]
  },
  {
   "cell_type": "code",
   "execution_count": 111,
   "id": "fce816a0",
   "metadata": {},
   "outputs": [
    {
     "data": {
      "text/plain": [
       "[62.47584915161133, 67.7135009765625, 68.53792572021484]"
      ]
     },
     "execution_count": 111,
     "metadata": {},
     "output_type": "execute_result"
    }
   ],
   "source": [
    "marginalization_dict['accuracy_val_internal_hist']"
   ]
  },
  {
   "cell_type": "code",
   "execution_count": 38,
   "id": "5ebe6b00",
   "metadata": {
    "scrolled": false
   },
   "outputs": [
    {
     "data": {
      "image/png": "[encoded data removed]",
      "text/plain": [
       "<Figure size 900x900 with 6 Axes>"
      ]
     },
     "metadata": {},
     "output_type": "display_data"
    }
   ],
   "source": [
    "plot_results(marginalization_dict,num_epochs,save_title='1Dec_results_hematopoietic.png')\n",
    "\n",
    "#plot_results(marginalization_dict,num_epochs)\n",
    "\n",
    "\n"
   ]
  },
  {
   "cell_type": "markdown",
   "id": "6627c37c",
   "metadata": {},
   "source": [
    "## UMAP The Model"
   ]
  },
  {
   "cell_type": "markdown",
   "id": "7f6bcf35",
   "metadata": {},
   "source": [
    "Running x_data through the model, then UMAP generates a UMAP plot that is quite unwiedly. BUT, this includes the internal nodes. We want to look at this for the Leaf Nodes only. "
   ]
  },
  {
   "cell_type": "code",
   "execution_count": null,
   "id": "66b5546b",
   "metadata": {},
   "outputs": [],
   "source": []
  },
  {
   "cell_type": "code",
   "execution_count": 28,
   "id": "9de8e58b",
   "metadata": {},
   "outputs": [
    {
     "data": {
      "text/plain": [
       "<All keys matched successfully>"
      ]
     },
     "execution_count": 28,
     "metadata": {},
     "output_type": "execute_result"
    }
   ],
   "source": [
    "# Load the classifier\n",
    "checkpoint = \"1_Dec_best_model\"\n",
    "model = Network()\n",
    "model.load_state_dict(torch.load(checkpoint))"
   ]
  },
  {
   "cell_type": "code",
   "execution_count": 22,
   "id": "154af58b",
   "metadata": {},
   "outputs": [],
   "source": [
    "features = model(torch.from_numpy(x_data.A))"
   ]
  },
  {
   "cell_type": "code",
   "execution_count": null,
   "id": "fa7d20fb",
   "metadata": {},
   "outputs": [],
   "source": []
  },
  {
   "cell_type": "code",
   "execution_count": 74,
   "id": "21bf1067",
   "metadata": {},
   "outputs": [],
   "source": [
    "# Make predictions\n",
    "# get_last_layer is a function getting the features after the last layer and before softmax.\n",
    "features = model.get_last_layer(torch.from_numpy(x_data.A))"
   ]
  },
  {
   "cell_type": "code",
   "execution_count": 75,
   "id": "c3fb0e5b",
   "metadata": {},
   "outputs": [],
   "source": [
    "fit = umap.UMAP()"
   ]
  },
  {
   "cell_type": "code",
   "execution_count": 76,
   "id": "834c1097",
   "metadata": {},
   "outputs": [
    {
     "data": {
      "text/plain": [
       "(472343, 2)"
      ]
     },
     "execution_count": 76,
     "metadata": {},
     "output_type": "execute_result"
    }
   ],
   "source": [
    "#u = fit.fit_transform(outputs.cpu().detach().numpy())\n",
    "u = fit.fit_transform(features.detach().numpy())\n",
    "u.shape"
   ]
  },
  {
   "cell_type": "code",
   "execution_count": 77,
   "id": "5f8d72ce",
   "metadata": {},
   "outputs": [
    {
     "data": {
      "image/png": "[encoded data removed]",
      "text/plain": [
       "<Figure size 640x480 with 1 Axes>"
      ]
     },
     "metadata": {},
     "output_type": "display_data"
    }
   ],
   "source": [
    "# results from using ALL of x_data with get_last_layer\n",
    "\n",
    "plt.scatter(u[:,0],u[:,1],c=y_data,cmap='tab20b',s=1)\n",
    "plt.gca().set_aspect('equal', 'datalim')\n",
    "\n",
    "#plt.colorbar(boundaries=np.arange(85))#-0.5)#.set_ticks(np.arange(52))\n",
    "plt.xlabel('UMAP1')\n",
    "plt.ylabel('UMAP2')\n",
    "plt.title('UMAP Projection of the 85 Model Outputs',fontsize=13)\n",
    "\n",
    "\n",
    "plt.show()\n"
   ]
  },
  {
   "cell_type": "code",
   "execution_count": 43,
   "id": "68351dbc",
   "metadata": {},
   "outputs": [
    {
     "data": {
      "text/plain": [
       "0        -9999\n",
       "1        -9998\n",
       "2            0\n",
       "3            0\n",
       "4        -9998\n",
       "          ... \n",
       "472338      82\n",
       "472339      80\n",
       "472340      59\n",
       "472341      59\n",
       "472342      62\n",
       "Name: encoded_labels, Length: 2455115, dtype: category\n",
       "Categories (139, int64): [15, 16, 17, 44, ..., 65, -9964, 27, 2]"
      ]
     },
     "execution_count": 43,
     "metadata": {},
     "output_type": "execute_result"
    }
   ],
   "source": [
    "y_data"
   ]
  },
  {
   "cell_type": "markdown",
   "id": "c549fbb5",
   "metadata": {},
   "source": [
    "## Now, only do the Leaf Nodes\n",
    "\n",
    "I need to pick out the relevant values"
   ]
  },
  {
   "cell_type": "code",
   "execution_count": 38,
   "id": "cddf1e48",
   "metadata": {},
   "outputs": [
    {
     "name": "stdout",
     "output_type": "stream",
     "text": [
      "-1\n",
      "-1\n"
     ]
    }
   ],
   "source": [
    "y_train = y_train.to('cpu')\n",
    "print(y_train.get_device())\n",
    "print(X_train.get_device())"
   ]
  },
  {
   "cell_type": "code",
   "execution_count": 41,
   "id": "c449889f",
   "metadata": {},
   "outputs": [
    {
     "data": {
      "text/plain": [
       "torch.Size([75574])"
      ]
     },
     "execution_count": 41,
     "metadata": {},
     "output_type": "execute_result"
    }
   ],
   "source": [
    "y_train.shape"
   ]
  },
  {
   "cell_type": "code",
   "execution_count": 87,
   "id": "5a50b94e",
   "metadata": {},
   "outputs": [],
   "source": [
    "def slice_torch_sparse_coo_tensor(t, slices):\n",
    "    \"\"\"\n",
    "    From: https://stackoverflow.com/questions/50666440/column-row-slicing-a-torch-sparse-tensor\n",
    "    params:\n",
    "    -------\n",
    "    t: tensor to slice\n",
    "    slices: slice for each dimension\n",
    "\n",
    "    returns:\n",
    "    --------\n",
    "    t[slices[0], slices[1], ..., slices[n]]\n",
    "    \"\"\"\n",
    "\n",
    "    t = t.coalesce()\n",
    "    assert len(slices) == len(t.size())\n",
    "    for i in range(len(slices)):\n",
    "        if type(slices[i]) is not torch.Tensor:\n",
    "            slices[i] = torch.tensor(slices[i], dtype= torch.long)\n",
    "\n",
    "    indices = t.indices()\n",
    "    values = t.values()\n",
    "    for dim, slice in enumerate(slices):\n",
    "        invert = False\n",
    "        if t.size(0) * 0.6 < len(slice):\n",
    "            invert = True\n",
    "            all_nodes = torch.arange(t.size(0))\n",
    "            unique, counts = torch.cat([all_nodes, slice]).unique(return_counts=True)\n",
    "            slice = unique[counts==1]\n",
    "        if slice.size(0) > 400:\n",
    "            mask = ainb_wrapper(indices[dim], slice)\n",
    "        else:\n",
    "            mask = ainb(indices[dim], slice)\n",
    "        if invert:\n",
    "            mask = ~mask\n",
    "        indices = indices[:, mask]\n",
    "        values = values[mask]\n",
    "\n",
    "        \n",
    "    return torch.sparse_coo_tensor(indices, values, t.size()).coalesce()\n",
    "\n",
    "def ainb(a,b):\n",
    "    \"\"\"gets mask for elements of a in b\"\"\"\n",
    "\n",
    "    size = (b.size(0), a.size(0))\n",
    "\n",
    "    if size[0] == 0: # Prevents error in torch.Tensor.max(dim=0)\n",
    "        return torch.tensor([False]*a.size(0), dtype= torch.bool)\n",
    "        \n",
    "    a = a.expand((size[0], size[1]))\n",
    "    b = b.expand((size[1], size[0])).T\n",
    "\n",
    "    mask = a.eq(b).max(dim= 0).values\n",
    "\n",
    "    return mask\n",
    "\n",
    "def ainb_wrapper(a, b, splits = .72):\n",
    "    inds = int(len(a)**splits)\n",
    "\n",
    "    tmp = [ainb(a[i*inds:(i+1)*inds], b) for i in list(range(inds))]\n",
    "\n",
    "    return torch.cat(tmp)\n"
   ]
  },
  {
   "cell_type": "code",
   "execution_count": 89,
   "id": "51b0fca5",
   "metadata": {},
   "outputs": [
    {
     "data": {
      "text/plain": [
       "tensor(indices=tensor([[    0,     0,     0,  ..., 75573, 75573, 75573],\n",
       "                       [   16,    17,    18,  ..., 18332, 18347, 18532]]),\n",
       "       values=tensor([1.0986, 0.6931, 1.0986,  ..., 0.6931, 0.6931, 1.0986]),\n",
       "       size=(75574, 19966), nnz=168097367, layout=torch.sparse_coo)"
      ]
     },
     "execution_count": 89,
     "metadata": {},
     "output_type": "execute_result"
    }
   ],
   "source": [
    "X_train"
   ]
  },
  {
   "cell_type": "code",
   "execution_count": 90,
   "id": "e00b3e27",
   "metadata": {},
   "outputs": [
    {
     "data": {
      "text/plain": [
       "tensor(indices=tensor([[6, 6],\n",
       "                       [0, 7]]),\n",
       "       values=tensor([0.6931, 0.6931]),\n",
       "       size=(75574, 19966), nnz=2, layout=torch.sparse_coo)"
      ]
     },
     "execution_count": 90,
     "metadata": {},
     "output_type": "execute_result"
    }
   ],
   "source": [
    "#output_val_leaf = outputs_val[y_val_batch >= 0]\n",
    "#(y_train >= 0).shape\n",
    "#masked_rows = y_train[y_train >= 0]\n",
    "#masked_indices = list(filter(lambda index : masked_rows[index[0]], indices))\n",
    "#X_train.__indices()\n",
    "#X_train[X_train.indices = [0]]\n",
    "\n",
    "idx = torch.arange(10)\n",
    "\n",
    "slice_torch_sparse_coo_tensor(X_train,[idx,idx])\n",
    "    \n",
    "### NOT SURE IF THIS WORKS CORRECTLY"
   ]
  },
  {
   "cell_type": "code",
   "execution_count": null,
   "id": "2d516916",
   "metadata": {},
   "outputs": [],
   "source": []
  },
  {
   "cell_type": "code",
   "execution_count": 42,
   "id": "64993f69",
   "metadata": {},
   "outputs": [
    {
     "ename": "NotImplementedError",
     "evalue": "Could not run 'aten::as_strided' with arguments from the 'SparseCPU' backend. This could be because the operator doesn't exist for this backend, or was omitted during the selective/custom build process (if using custom build). If you are a Facebook employee using PyTorch on mobile, please visit https://fburl.com/ptmfixes for possible resolutions. 'aten::as_strided' is only available for these backends: [CPU, CUDA, Meta, QuantizedCPU, QuantizedCUDA, BackendSelect, Python, FuncTorchDynamicLayerBackMode, Functionalize, Named, Conjugate, Negative, ZeroTensor, ADInplaceOrView, AutogradOther, AutogradCPU, AutogradCUDA, AutogradHIP, AutogradXLA, AutogradMPS, AutogradIPU, AutogradXPU, AutogradHPU, AutogradVE, AutogradLazy, AutogradMeta, AutogradMTIA, AutogradPrivateUse1, AutogradPrivateUse2, AutogradPrivateUse3, AutogradNestedTensor, Tracer, AutocastCPU, AutocastCUDA, FuncTorchBatched, FuncTorchVmapMode, Batched, VmapMode, FuncTorchGradWrapper, PythonTLSSnapshot, FuncTorchDynamicLayerFrontMode, PythonDispatcher].\n\nCPU: registered at aten/src/ATen/RegisterCPU.cpp:31034 [kernel]\nCUDA: registered at aten/src/ATen/RegisterCUDA.cpp:43986 [kernel]\nMeta: registered at aten/src/ATen/RegisterMeta.cpp:26824 [kernel]\nQuantizedCPU: registered at aten/src/ATen/RegisterQuantizedCPU.cpp:929 [kernel]\nQuantizedCUDA: registered at aten/src/ATen/RegisterQuantizedCUDA.cpp:459 [kernel]\nBackendSelect: fallthrough registered at ../aten/src/ATen/core/BackendSelectFallbackKernel.cpp:3 [backend fallback]\nPython: registered at ../aten/src/ATen/core/PythonFallbackKernel.cpp:144 [backend fallback]\nFuncTorchDynamicLayerBackMode: registered at ../aten/src/ATen/functorch/DynamicLayer.cpp:491 [backend fallback]\nFunctionalize: registered at aten/src/ATen/RegisterFunctionalization_0.cpp:20475 [kernel]\nNamed: fallthrough registered at ../aten/src/ATen/core/NamedRegistrations.cpp:11 [kernel]\nConjugate: fallthrough registered at ../aten/src/ATen/ConjugateFallback.cpp:21 [kernel]\nNegative: fallthrough registered at ../aten/src/ATen/native/NegateFallback.cpp:23 [kernel]\nZeroTensor: registered at aten/src/ATen/RegisterZeroTensor.cpp:161 [kernel]\nADInplaceOrView: registered at ../torch/csrc/autograd/generated/ADInplaceOrViewType_0.cpp:4733 [kernel]\nAutogradOther: registered at ../torch/csrc/autograd/generated/VariableType_0.cpp:15232 [autograd kernel]\nAutogradCPU: registered at ../torch/csrc/autograd/generated/VariableType_0.cpp:15232 [autograd kernel]\nAutogradCUDA: registered at ../torch/csrc/autograd/generated/VariableType_0.cpp:15232 [autograd kernel]\nAutogradHIP: registered at ../torch/csrc/autograd/generated/VariableType_0.cpp:15232 [autograd kernel]\nAutogradXLA: registered at ../torch/csrc/autograd/generated/VariableType_0.cpp:15232 [autograd kernel]\nAutogradMPS: registered at ../torch/csrc/autograd/generated/VariableType_0.cpp:15232 [autograd kernel]\nAutogradIPU: registered at ../torch/csrc/autograd/generated/VariableType_0.cpp:15232 [autograd kernel]\nAutogradXPU: registered at ../torch/csrc/autograd/generated/VariableType_0.cpp:15232 [autograd kernel]\nAutogradHPU: registered at ../torch/csrc/autograd/generated/VariableType_0.cpp:15232 [autograd kernel]\nAutogradVE: registered at ../torch/csrc/autograd/generated/VariableType_0.cpp:15232 [autograd kernel]\nAutogradLazy: registered at ../torch/csrc/autograd/generated/VariableType_0.cpp:15232 [autograd kernel]\nAutogradMeta: registered at ../torch/csrc/autograd/generated/VariableType_0.cpp:15232 [autograd kernel]\nAutogradMTIA: registered at ../torch/csrc/autograd/generated/VariableType_0.cpp:15232 [autograd kernel]\nAutogradPrivateUse1: registered at ../torch/csrc/autograd/generated/VariableType_0.cpp:15232 [autograd kernel]\nAutogradPrivateUse2: registered at ../torch/csrc/autograd/generated/VariableType_0.cpp:15232 [autograd kernel]\nAutogradPrivateUse3: registered at ../torch/csrc/autograd/generated/VariableType_0.cpp:15232 [autograd kernel]\nAutogradNestedTensor: registered at ../torch/csrc/autograd/generated/VariableType_0.cpp:15232 [autograd kernel]\nTracer: registered at ../torch/csrc/autograd/generated/TraceType_0.cpp:16728 [kernel]\nAutocastCPU: fallthrough registered at ../aten/src/ATen/autocast_mode.cpp:487 [backend fallback]\nAutocastCUDA: fallthrough registered at ../aten/src/ATen/autocast_mode.cpp:354 [backend fallback]\nFuncTorchBatched: registered at ../aten/src/ATen/functorch/LegacyBatchingRegistrations.cpp:819 [kernel]\nFuncTorchVmapMode: fallthrough registered at ../aten/src/ATen/functorch/VmapModeRegistrations.cpp:28 [backend fallback]\nBatched: registered at ../aten/src/ATen/LegacyBatchingRegistrations.cpp:1077 [kernel]\nVmapMode: fallthrough registered at ../aten/src/ATen/VmapModeRegistrations.cpp:33 [backend fallback]\nFuncTorchGradWrapper: registered at ../aten/src/ATen/functorch/TensorWrapper.cpp:210 [backend fallback]\nPythonTLSSnapshot: registered at ../aten/src/ATen/core/PythonFallbackKernel.cpp:152 [backend fallback]\nFuncTorchDynamicLayerFrontMode: registered at ../aten/src/ATen/functorch/DynamicLayer.cpp:487 [backend fallback]\nPythonDispatcher: registered at ../aten/src/ATen/core/PythonFallbackKernel.cpp:148 [backend fallback]\n",
     "output_type": "error",
     "traceback": [
      "\u001b[0;31m---------------------------------------------------------------------------\u001b[0m",
      "\u001b[0;31mNotImplementedError\u001b[0m                       Traceback (most recent call last)",
      "Cell \u001b[0;32mIn[42], line 1\u001b[0m\n\u001b[0;32m----> 1\u001b[0m x_data_leaf \u001b[38;5;241m=\u001b[39m \u001b[43mX_train\u001b[49m\u001b[43m[\u001b[49m\u001b[43my_train\u001b[49m\u001b[43m \u001b[49m\u001b[38;5;241;43m>\u001b[39;49m\u001b[38;5;241;43m=\u001b[39;49m\u001b[43m \u001b[49m\u001b[38;5;241;43m0\u001b[39;49m\u001b[43m,\u001b[49m\u001b[43m:\u001b[49m\u001b[43m]\u001b[49m\n\u001b[1;32m      2\u001b[0m y_data_leaf \u001b[38;5;241m=\u001b[39m y_train[y_train \u001b[38;5;241m>\u001b[39m\u001b[38;5;241m=\u001b[39m \u001b[38;5;241m0\u001b[39m]\n",
      "\u001b[0;31mNotImplementedError\u001b[0m: Could not run 'aten::as_strided' with arguments from the 'SparseCPU' backend. This could be because the operator doesn't exist for this backend, or was omitted during the selective/custom build process (if using custom build). If you are a Facebook employee using PyTorch on mobile, please visit https://fburl.com/ptmfixes for possible resolutions. 'aten::as_strided' is only available for these backends: [CPU, CUDA, Meta, QuantizedCPU, QuantizedCUDA, BackendSelect, Python, FuncTorchDynamicLayerBackMode, Functionalize, Named, Conjugate, Negative, ZeroTensor, ADInplaceOrView, AutogradOther, AutogradCPU, AutogradCUDA, AutogradHIP, AutogradXLA, AutogradMPS, AutogradIPU, AutogradXPU, AutogradHPU, AutogradVE, AutogradLazy, AutogradMeta, AutogradMTIA, AutogradPrivateUse1, AutogradPrivateUse2, AutogradPrivateUse3, AutogradNestedTensor, Tracer, AutocastCPU, AutocastCUDA, FuncTorchBatched, FuncTorchVmapMode, Batched, VmapMode, FuncTorchGradWrapper, PythonTLSSnapshot, FuncTorchDynamicLayerFrontMode, PythonDispatcher].\n\nCPU: registered at aten/src/ATen/RegisterCPU.cpp:31034 [kernel]\nCUDA: registered at aten/src/ATen/RegisterCUDA.cpp:43986 [kernel]\nMeta: registered at aten/src/ATen/RegisterMeta.cpp:26824 [kernel]\nQuantizedCPU: registered at aten/src/ATen/RegisterQuantizedCPU.cpp:929 [kernel]\nQuantizedCUDA: registered at aten/src/ATen/RegisterQuantizedCUDA.cpp:459 [kernel]\nBackendSelect: fallthrough registered at ../aten/src/ATen/core/BackendSelectFallbackKernel.cpp:3 [backend fallback]\nPython: registered at ../aten/src/ATen/core/PythonFallbackKernel.cpp:144 [backend fallback]\nFuncTorchDynamicLayerBackMode: registered at ../aten/src/ATen/functorch/DynamicLayer.cpp:491 [backend fallback]\nFunctionalize: registered at aten/src/ATen/RegisterFunctionalization_0.cpp:20475 [kernel]\nNamed: fallthrough registered at ../aten/src/ATen/core/NamedRegistrations.cpp:11 [kernel]\nConjugate: fallthrough registered at ../aten/src/ATen/ConjugateFallback.cpp:21 [kernel]\nNegative: fallthrough registered at ../aten/src/ATen/native/NegateFallback.cpp:23 [kernel]\nZeroTensor: registered at aten/src/ATen/RegisterZeroTensor.cpp:161 [kernel]\nADInplaceOrView: registered at ../torch/csrc/autograd/generated/ADInplaceOrViewType_0.cpp:4733 [kernel]\nAutogradOther: registered at ../torch/csrc/autograd/generated/VariableType_0.cpp:15232 [autograd kernel]\nAutogradCPU: registered at ../torch/csrc/autograd/generated/VariableType_0.cpp:15232 [autograd kernel]\nAutogradCUDA: registered at ../torch/csrc/autograd/generated/VariableType_0.cpp:15232 [autograd kernel]\nAutogradHIP: registered at ../torch/csrc/autograd/generated/VariableType_0.cpp:15232 [autograd kernel]\nAutogradXLA: registered at ../torch/csrc/autograd/generated/VariableType_0.cpp:15232 [autograd kernel]\nAutogradMPS: registered at ../torch/csrc/autograd/generated/VariableType_0.cpp:15232 [autograd kernel]\nAutogradIPU: registered at ../torch/csrc/autograd/generated/VariableType_0.cpp:15232 [autograd kernel]\nAutogradXPU: registered at ../torch/csrc/autograd/generated/VariableType_0.cpp:15232 [autograd kernel]\nAutogradHPU: registered at ../torch/csrc/autograd/generated/VariableType_0.cpp:15232 [autograd kernel]\nAutogradVE: registered at ../torch/csrc/autograd/generated/VariableType_0.cpp:15232 [autograd kernel]\nAutogradLazy: registered at ../torch/csrc/autograd/generated/VariableType_0.cpp:15232 [autograd kernel]\nAutogradMeta: registered at ../torch/csrc/autograd/generated/VariableType_0.cpp:15232 [autograd kernel]\nAutogradMTIA: registered at ../torch/csrc/autograd/generated/VariableType_0.cpp:15232 [autograd kernel]\nAutogradPrivateUse1: registered at ../torch/csrc/autograd/generated/VariableType_0.cpp:15232 [autograd kernel]\nAutogradPrivateUse2: registered at ../torch/csrc/autograd/generated/VariableType_0.cpp:15232 [autograd kernel]\nAutogradPrivateUse3: registered at ../torch/csrc/autograd/generated/VariableType_0.cpp:15232 [autograd kernel]\nAutogradNestedTensor: registered at ../torch/csrc/autograd/generated/VariableType_0.cpp:15232 [autograd kernel]\nTracer: registered at ../torch/csrc/autograd/generated/TraceType_0.cpp:16728 [kernel]\nAutocastCPU: fallthrough registered at ../aten/src/ATen/autocast_mode.cpp:487 [backend fallback]\nAutocastCUDA: fallthrough registered at ../aten/src/ATen/autocast_mode.cpp:354 [backend fallback]\nFuncTorchBatched: registered at ../aten/src/ATen/functorch/LegacyBatchingRegistrations.cpp:819 [kernel]\nFuncTorchVmapMode: fallthrough registered at ../aten/src/ATen/functorch/VmapModeRegistrations.cpp:28 [backend fallback]\nBatched: registered at ../aten/src/ATen/LegacyBatchingRegistrations.cpp:1077 [kernel]\nVmapMode: fallthrough registered at ../aten/src/ATen/VmapModeRegistrations.cpp:33 [backend fallback]\nFuncTorchGradWrapper: registered at ../aten/src/ATen/functorch/TensorWrapper.cpp:210 [backend fallback]\nPythonTLSSnapshot: registered at ../aten/src/ATen/core/PythonFallbackKernel.cpp:152 [backend fallback]\nFuncTorchDynamicLayerFrontMode: registered at ../aten/src/ATen/functorch/DynamicLayer.cpp:487 [backend fallback]\nPythonDispatcher: registered at ../aten/src/ATen/core/PythonFallbackKernel.cpp:148 [backend fallback]\n"
     ]
    }
   ],
   "source": [
    "x_data_leaf = X_train[y_train >= 0,:]\n",
    "y_data_leaf = y_train[y_train >= 0]\n"
   ]
  },
  {
   "cell_type": "code",
   "execution_count": 70,
   "id": "271affcd",
   "metadata": {},
   "outputs": [],
   "source": [
    "\n",
    "#features = model(torch.from_numpy(x_data_leaf.A))\n",
    "features = model.get_last_layer(torch.from_numpy(x_train_csr.A))"
   ]
  },
  {
   "cell_type": "code",
   "execution_count": 65,
   "id": "5ae8c3e0",
   "metadata": {},
   "outputs": [
    {
     "data": {
      "text/plain": [
       "scipy.sparse._csr.csr_matrix"
      ]
     },
     "execution_count": 65,
     "metadata": {},
     "output_type": "execute_result"
    }
   ],
   "source": [
    "type(x_data)"
   ]
  },
  {
   "cell_type": "code",
   "execution_count": 68,
   "id": "3f08164a",
   "metadata": {},
   "outputs": [],
   "source": [
    "x_train_csr = sparse.csr_matrix(X_train.to_dense())"
   ]
  },
  {
   "cell_type": "code",
   "execution_count": 71,
   "id": "b953020d",
   "metadata": {},
   "outputs": [],
   "source": [
    "fit = umap.UMAP()"
   ]
  },
  {
   "cell_type": "code",
   "execution_count": 72,
   "id": "46a24d8e",
   "metadata": {},
   "outputs": [
    {
     "data": {
      "text/plain": [
       "(75574, 2)"
      ]
     },
     "execution_count": 72,
     "metadata": {},
     "output_type": "execute_result"
    }
   ],
   "source": [
    "u = fit.fit_transform(features.detach().numpy())\n",
    "u.shape"
   ]
  },
  {
   "cell_type": "code",
   "execution_count": 73,
   "id": "45734379",
   "metadata": {},
   "outputs": [
    {
     "data": {
      "image/png": "[encoded data removed]",
      "text/plain": [
       "<Figure size 640x480 with 1 Axes>"
      ]
     },
     "metadata": {},
     "output_type": "display_data"
    }
   ],
   "source": [
    "# results from using ALL of X_train but NO softmax. \n",
    "\n",
    "plt.scatter(u[:,0],u[:,1],c=y_train,cmap='tab20b',s=1)\n",
    "plt.gca().set_aspect('equal', 'datalim')\n",
    "\n",
    "#plt.colorbar(boundaries=np.arange(85))#-0.5)#.set_ticks(np.arange(52))\n",
    "plt.xlabel('UMAP1')\n",
    "plt.ylabel('UMAP2')\n",
    "plt.title('UMAP Projection of the 85 Model Outputs',fontsize=13)\n",
    "\n",
    "\n",
    "plt.show()\n"
   ]
  },
  {
   "cell_type": "code",
   "execution_count": null,
   "id": "864bcac6",
   "metadata": {},
   "outputs": [],
   "source": []
  }
 ],
 "metadata": {
  "kernelspec": {
   "display_name": "env",
   "language": "python",
   "name": "env"
  },
  "language_info": {
   "codemirror_mode": {
    "name": "ipython",
    "version": 3
   },
   "file_extension": ".py",
   "mimetype": "text/x-python",
   "name": "python",
   "nbconvert_exporter": "python",
   "pygments_lexer": "ipython3",
   "version": "3.10.9"
  }
 },
 "nbformat": 4,
 "nbformat_minor": 5
}
