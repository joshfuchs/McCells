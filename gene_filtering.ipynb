{
 "cells": [
  {
   "cell_type": "code",
   "execution_count": 1,
   "id": "b9f329a1",
   "metadata": {},
   "outputs": [],
   "source": [
    "import pandas as pd\n",
    "import anndata as ad\n",
    "\n",
    "from pronto import Ontology\n"
   ]
  },
  {
   "cell_type": "markdown",
   "id": "a1d1b9f3",
   "metadata": {},
   "source": [
    "## Load BioMart Export\n",
    "Downloaded 5 September 2023 from BioMart Ensembl release 110 - July 2023"
   ]
  },
  {
   "cell_type": "code",
   "execution_count": 2,
   "id": "ef396262",
   "metadata": {},
   "outputs": [],
   "source": [
    "biomart = pd.read_csv('mart_export.txt')"
   ]
  },
  {
   "cell_type": "code",
   "execution_count": 3,
   "id": "c95c0bfa",
   "metadata": {},
   "outputs": [
    {
     "data": {
      "text/plain": [
       "(60517, 3)"
      ]
     },
     "execution_count": 3,
     "metadata": {},
     "output_type": "execute_result"
    }
   ],
   "source": [
    "biomart.shape"
   ]
  },
  {
   "cell_type": "code",
   "execution_count": 4,
   "id": "eafefa21",
   "metadata": {},
   "outputs": [
    {
     "data": {
      "text/html": [
       "<div>\n",
       "<style scoped>\n",
       "    .dataframe tbody tr th:only-of-type {\n",
       "        vertical-align: middle;\n",
       "    }\n",
       "\n",
       "    .dataframe tbody tr th {\n",
       "        vertical-align: top;\n",
       "    }\n",
       "\n",
       "    .dataframe thead th {\n",
       "        text-align: right;\n",
       "    }\n",
       "</style>\n",
       "<table border=\"1\" class=\"dataframe\">\n",
       "  <thead>\n",
       "    <tr style=\"text-align: right;\">\n",
       "      <th></th>\n",
       "      <th>Gene stable ID</th>\n",
       "      <th>Gene description</th>\n",
       "      <th>Gene type</th>\n",
       "    </tr>\n",
       "  </thead>\n",
       "  <tbody>\n",
       "    <tr>\n",
       "      <th>0</th>\n",
       "      <td>ENSG00000210049</td>\n",
       "      <td>mitochondrially encoded tRNA-Phe (UUU/C) [Sour...</td>\n",
       "      <td>Mt_tRNA</td>\n",
       "    </tr>\n",
       "    <tr>\n",
       "      <th>1</th>\n",
       "      <td>ENSG00000211459</td>\n",
       "      <td>mitochondrially encoded 12S rRNA [Source:HGNC ...</td>\n",
       "      <td>Mt_rRNA</td>\n",
       "    </tr>\n",
       "    <tr>\n",
       "      <th>2</th>\n",
       "      <td>ENSG00000210077</td>\n",
       "      <td>mitochondrially encoded tRNA-Val (GUN) [Source...</td>\n",
       "      <td>Mt_tRNA</td>\n",
       "    </tr>\n",
       "    <tr>\n",
       "      <th>3</th>\n",
       "      <td>ENSG00000210082</td>\n",
       "      <td>mitochondrially encoded 16S rRNA [Source:HGNC ...</td>\n",
       "      <td>Mt_rRNA</td>\n",
       "    </tr>\n",
       "    <tr>\n",
       "      <th>4</th>\n",
       "      <td>ENSG00000209082</td>\n",
       "      <td>mitochondrially encoded tRNA-Leu (UUA/G) 1 [So...</td>\n",
       "      <td>Mt_tRNA</td>\n",
       "    </tr>\n",
       "  </tbody>\n",
       "</table>\n",
       "</div>"
      ],
      "text/plain": [
       "    Gene stable ID                                   Gene description  \\\n",
       "0  ENSG00000210049  mitochondrially encoded tRNA-Phe (UUU/C) [Sour...   \n",
       "1  ENSG00000211459  mitochondrially encoded 12S rRNA [Source:HGNC ...   \n",
       "2  ENSG00000210077  mitochondrially encoded tRNA-Val (GUN) [Source...   \n",
       "3  ENSG00000210082  mitochondrially encoded 16S rRNA [Source:HGNC ...   \n",
       "4  ENSG00000209082  mitochondrially encoded tRNA-Leu (UUA/G) 1 [So...   \n",
       "\n",
       "  Gene type  \n",
       "0   Mt_tRNA  \n",
       "1   Mt_rRNA  \n",
       "2   Mt_tRNA  \n",
       "3   Mt_rRNA  \n",
       "4   Mt_tRNA  "
      ]
     },
     "execution_count": 4,
     "metadata": {},
     "output_type": "execute_result"
    }
   ],
   "source": [
    "biomart.head()"
   ]
  },
  {
   "cell_type": "code",
   "execution_count": 6,
   "id": "c090489c",
   "metadata": {},
   "outputs": [
    {
     "data": {
      "text/plain": [
       "protein_coding                        19966\n",
       "lncRNA                                16780\n",
       "processed_pseudogene                  10141\n",
       "unprocessed_pseudogene                 2591\n",
       "misc_RNA                               2220\n",
       "snRNA                                  1910\n",
       "miRNA                                  1877\n",
       "TEC                                    1051\n",
       "transcribed_unprocessed_pseudogene      956\n",
       "snoRNA                                  942\n",
       "transcribed_processed_pseudogene        510\n",
       "rRNA_pseudogene                         496\n",
       "IG_V_pseudogene                         187\n",
       "transcribed_unitary_pseudogene          153\n",
       "IG_V_gene                               145\n",
       "TR_V_gene                               106\n",
       "unitary_pseudogene                       97\n",
       "TR_J_gene                                79\n",
       "rRNA                                     53\n",
       "scaRNA                                   49\n",
       "IG_D_gene                                37\n",
       "TR_V_pseudogene                          33\n",
       "Mt_tRNA                                  22\n",
       "artifact                                 19\n",
       "pseudogene                               19\n",
       "IG_J_gene                                18\n",
       "IG_C_gene                                14\n",
       "IG_C_pseudogene                           9\n",
       "ribozyme                                  8\n",
       "TR_C_gene                                 6\n",
       "sRNA                                      5\n",
       "TR_D_gene                                 4\n",
       "TR_J_pseudogene                           4\n",
       "IG_J_pseudogene                           3\n",
       "Mt_rRNA                                   2\n",
       "translated_processed_pseudogene           2\n",
       "IG_pseudogene                             1\n",
       "vault_RNA                                 1\n",
       "scRNA                                     1\n",
       "Name: Gene type, dtype: int64"
      ]
     },
     "execution_count": 6,
     "metadata": {},
     "output_type": "execute_result"
    }
   ],
   "source": [
    "biomart['Gene type'].value_counts()"
   ]
  },
  {
   "cell_type": "markdown",
   "id": "8e4c58c2",
   "metadata": {},
   "source": [
    "Select Gene IDs where gene type is protein_coding"
   ]
  },
  {
   "cell_type": "code",
   "execution_count": 7,
   "id": "980c2cf8",
   "metadata": {},
   "outputs": [],
   "source": [
    "coding_only = biomart[biomart['Gene type'] == 'protein_coding']"
   ]
  },
  {
   "cell_type": "code",
   "execution_count": 8,
   "id": "a5171dd6",
   "metadata": {},
   "outputs": [
    {
     "data": {
      "text/plain": [
       "protein_coding    19966\n",
       "Name: Gene type, dtype: int64"
      ]
     },
     "execution_count": 8,
     "metadata": {},
     "output_type": "execute_result"
    }
   ],
   "source": [
    "coding_only['Gene type'].value_counts()"
   ]
  },
  {
   "cell_type": "code",
   "execution_count": 9,
   "id": "858d88d1",
   "metadata": {},
   "outputs": [
    {
     "data": {
      "text/plain": [
       "5        ENSG00000198888\n",
       "9        ENSG00000198763\n",
       "15       ENSG00000198804\n",
       "18       ENSG00000198712\n",
       "20       ENSG00000228253\n",
       "              ...       \n",
       "60505    ENSG00000116138\n",
       "60508    ENSG00000116771\n",
       "60513    ENSG00000197312\n",
       "60514    ENSG00000215695\n",
       "60516    ENSG00000116786\n",
       "Name: Gene stable ID, Length: 19966, dtype: object"
      ]
     },
     "execution_count": 9,
     "metadata": {},
     "output_type": "execute_result"
    }
   ],
   "source": [
    "coding_only['Gene stable ID']"
   ]
  },
  {
   "cell_type": "markdown",
   "id": "53d23bf2",
   "metadata": {},
   "source": [
    "## Load data file and filter for protein coding genes"
   ]
  },
  {
   "cell_type": "code",
   "execution_count": 10,
   "id": "c1bdb944",
   "metadata": {},
   "outputs": [],
   "source": [
    "adata = ad.read_h5ad('leaf_list_leukocyte_24Aug')"
   ]
  },
  {
   "cell_type": "code",
   "execution_count": 11,
   "id": "46422e6f",
   "metadata": {},
   "outputs": [
    {
     "data": {
      "text/html": [
       "<div>\n",
       "<style scoped>\n",
       "    .dataframe tbody tr th:only-of-type {\n",
       "        vertical-align: middle;\n",
       "    }\n",
       "\n",
       "    .dataframe tbody tr th {\n",
       "        vertical-align: top;\n",
       "    }\n",
       "\n",
       "    .dataframe thead th {\n",
       "        text-align: right;\n",
       "    }\n",
       "</style>\n",
       "<table border=\"1\" class=\"dataframe\">\n",
       "  <thead>\n",
       "    <tr style=\"text-align: right;\">\n",
       "      <th></th>\n",
       "      <th>soma_joinid</th>\n",
       "      <th>feature_id</th>\n",
       "      <th>feature_name</th>\n",
       "      <th>feature_length</th>\n",
       "    </tr>\n",
       "  </thead>\n",
       "  <tbody>\n",
       "    <tr>\n",
       "      <th>0</th>\n",
       "      <td>0</td>\n",
       "      <td>ENSG00000121410</td>\n",
       "      <td>A1BG</td>\n",
       "      <td>3999</td>\n",
       "    </tr>\n",
       "    <tr>\n",
       "      <th>1</th>\n",
       "      <td>1</td>\n",
       "      <td>ENSG00000268895</td>\n",
       "      <td>A1BG-AS1</td>\n",
       "      <td>3374</td>\n",
       "    </tr>\n",
       "    <tr>\n",
       "      <th>2</th>\n",
       "      <td>2</td>\n",
       "      <td>ENSG00000148584</td>\n",
       "      <td>A1CF</td>\n",
       "      <td>9603</td>\n",
       "    </tr>\n",
       "    <tr>\n",
       "      <th>3</th>\n",
       "      <td>3</td>\n",
       "      <td>ENSG00000175899</td>\n",
       "      <td>A2M</td>\n",
       "      <td>6318</td>\n",
       "    </tr>\n",
       "    <tr>\n",
       "      <th>4</th>\n",
       "      <td>4</td>\n",
       "      <td>ENSG00000245105</td>\n",
       "      <td>A2M-AS1</td>\n",
       "      <td>2948</td>\n",
       "    </tr>\n",
       "    <tr>\n",
       "      <th>...</th>\n",
       "      <td>...</td>\n",
       "      <td>...</td>\n",
       "      <td>...</td>\n",
       "      <td>...</td>\n",
       "    </tr>\n",
       "    <tr>\n",
       "      <th>60659</th>\n",
       "      <td>60659</td>\n",
       "      <td>ENSG00000288719</td>\n",
       "      <td>RP4-669P10.21</td>\n",
       "      <td>4252</td>\n",
       "    </tr>\n",
       "    <tr>\n",
       "      <th>60660</th>\n",
       "      <td>60660</td>\n",
       "      <td>ENSG00000288720</td>\n",
       "      <td>RP11-852E15.3</td>\n",
       "      <td>7007</td>\n",
       "    </tr>\n",
       "    <tr>\n",
       "      <th>60661</th>\n",
       "      <td>60661</td>\n",
       "      <td>ENSG00000288721</td>\n",
       "      <td>RP5-973N23.5</td>\n",
       "      <td>7765</td>\n",
       "    </tr>\n",
       "    <tr>\n",
       "      <th>60662</th>\n",
       "      <td>60662</td>\n",
       "      <td>ENSG00000288723</td>\n",
       "      <td>RP11-553N16.6</td>\n",
       "      <td>1015</td>\n",
       "    </tr>\n",
       "    <tr>\n",
       "      <th>60663</th>\n",
       "      <td>60663</td>\n",
       "      <td>ENSG00000288724</td>\n",
       "      <td>RP13-546I2.2</td>\n",
       "      <td>625</td>\n",
       "    </tr>\n",
       "  </tbody>\n",
       "</table>\n",
       "<p>60664 rows × 4 columns</p>\n",
       "</div>"
      ],
      "text/plain": [
       "       soma_joinid       feature_id   feature_name  feature_length\n",
       "0                0  ENSG00000121410           A1BG            3999\n",
       "1                1  ENSG00000268895       A1BG-AS1            3374\n",
       "2                2  ENSG00000148584           A1CF            9603\n",
       "3                3  ENSG00000175899            A2M            6318\n",
       "4                4  ENSG00000245105        A2M-AS1            2948\n",
       "...            ...              ...            ...             ...\n",
       "60659        60659  ENSG00000288719  RP4-669P10.21            4252\n",
       "60660        60660  ENSG00000288720  RP11-852E15.3            7007\n",
       "60661        60661  ENSG00000288721   RP5-973N23.5            7765\n",
       "60662        60662  ENSG00000288723  RP11-553N16.6            1015\n",
       "60663        60663  ENSG00000288724   RP13-546I2.2             625\n",
       "\n",
       "[60664 rows x 4 columns]"
      ]
     },
     "execution_count": 11,
     "metadata": {},
     "output_type": "execute_result"
    }
   ],
   "source": [
    "adata.var"
   ]
  },
  {
   "cell_type": "code",
   "execution_count": null,
   "id": "83b6e0e5",
   "metadata": {},
   "outputs": [],
   "source": []
  }
 ],
 "metadata": {
  "kernelspec": {
   "display_name": "venv",
   "language": "python",
   "name": "venv"
  },
  "language_info": {
   "codemirror_mode": {
    "name": "ipython",
    "version": 3
   },
   "file_extension": ".py",
   "mimetype": "text/x-python",
   "name": "python",
   "nbconvert_exporter": "python",
   "pygments_lexer": "ipython3",
   "version": "3.8.16"
  }
 },
 "nbformat": 4,
 "nbformat_minor": 5
}
