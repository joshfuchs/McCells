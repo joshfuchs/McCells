{
 "cells": [
  {
   "cell_type": "markdown",
   "id": "cf4e25ff",
   "metadata": {},
   "source": [
    "Tutorial from https://chanzuckerberg.github.io/cellxgene-census/notebooks/experimental/pytorch.html"
   ]
  },
  {
   "cell_type": "code",
   "execution_count": 50,
   "id": "b822fcca",
   "metadata": {},
   "outputs": [],
   "source": [
    "import cellxgene_census\n",
    "import cellxgene_census.experimental.ml as census_ml\n",
    "import tiledbsoma as soma\n",
    "import torch\n",
    "\n",
    "import pandas as pd\n",
    "\n",
    "import os\n",
    "import pickle\n",
    "\n"
   ]
  },
  {
   "cell_type": "code",
   "execution_count": 2,
   "id": "9355266f",
   "metadata": {},
   "outputs": [
    {
     "data": {
      "text/plain": [
       "'1.11.1'"
      ]
     },
     "execution_count": 2,
     "metadata": {},
     "output_type": "execute_result"
    }
   ],
   "source": [
    "cellxgene_census.__version__"
   ]
  },
  {
   "cell_type": "markdown",
   "id": "1caceac8",
   "metadata": {},
   "source": [
    "## Build the Experiment and the DataPipe"
   ]
  },
  {
   "cell_type": "code",
   "execution_count": 25,
   "id": "5274b109",
   "metadata": {},
   "outputs": [],
   "source": [
    "# gene and cell type info stored on Turbo\n",
    "os.chdir('/nfs/turbo/umms-welchjd/mccell')"
   ]
  },
  {
   "cell_type": "markdown",
   "id": "b5e2d95a",
   "metadata": {},
   "source": [
    "First, let's load the gene list and cell type list that we want from the Census. Then we construct the ```var_val_filter``` and ```obs_val_filter``` for querying the census."
   ]
  },
  {
   "cell_type": "code",
   "execution_count": 53,
   "id": "91823465",
   "metadata": {},
   "outputs": [],
   "source": [
    "# load gene list\n",
    "biomart = pd.read_csv('mart_export.txt')\n",
    "\n",
    "coding_only = biomart[biomart['Gene type'] == 'protein_coding']\n",
    "\n",
    "gene_list = coding_only['Gene stable ID'].to_list()\n",
    "\n",
    "var_val_filter = '''feature_id in {}'''.format(gene_list)\n",
    "\n",
    "# load the cell type list\n",
    "cell_type_list_name = 'cell_type_list.txt'\n",
    "with open(cell_type_list_name,'rb') as fp:\n",
    "    cell_type_list = pickle.load(fp)\n",
    "\n",
    "obs_val_filter = '''assay == \"10x 3\\' v3\" and is_primary_data == True and cell_type_ontology_term_id in {}'''.format(cell_type_list_name)\n"
   ]
  },
  {
   "cell_type": "code",
   "execution_count": 55,
   "id": "c0f26d6a",
   "metadata": {},
   "outputs": [],
   "source": [
    "#organism = \"Homo sapiens\"\n",
    "col_names = {\"obs\": [\"cell_type_ontology_term_id\"]}\n"
   ]
  },
  {
   "cell_type": "code",
   "execution_count": 56,
   "id": "192a33e5",
   "metadata": {},
   "outputs": [],
   "source": [
    "experiment = census[\"census_data\"][\"homo_sapiens\"]\n"
   ]
  },
  {
   "cell_type": "code",
   "execution_count": 58,
   "id": "437e76fb",
   "metadata": {},
   "outputs": [],
   "source": [
    "experiment_datapipe = census_ml.ExperimentDataPipe(\n",
    "    experiment,\n",
    "    measurement_name=\"RNA\",\n",
    "    X_name=\"raw\",\n",
    "    obs_query=soma.AxisQuery(value_filter=obs_val_filter),\n",
    "    var_query=soma.AxisQuery(value_filter=var_val_filter),\n",
    "    obs_column_names=[\"cell_type_ontology_term_id\"],\n",
    "    batch_size=128,\n",
    "    shuffle=True,\n",
    "    soma_chunk_size=10_000,\n",
    ")\n"
   ]
  },
  {
   "cell_type": "code",
   "execution_count": 59,
   "id": "54f2e94e",
   "metadata": {},
   "outputs": [
    {
     "ename": "SOMAError",
     "evalue": "SOMAError: `in` operator syntax must be written as `attr in ['l', 'i', 's', 't']`\n\nAt:\n  /home/fujoshua/cell_classification/env/lib/python3.10/site-packages/tiledbsoma/_query_condition.py(141): init_query_condition\n  /home/fujoshua/cell_classification/env/lib/python3.10/site-packages/tiledbsoma/_dataframe.py(359): read\n  /home/fujoshua/cell_classification/env/lib/python3.10/site-packages/somacore/query/query.py(731): _load_joinids\n  /home/fujoshua/cell_classification/env/lib/python3.10/site-packages/somacore/query/query.py(707): obs\n  /home/fujoshua/cell_classification/env/lib/python3.10/site-packages/somacore/query/query.py(167): obs_joinids\n  /home/fujoshua/cell_classification/env/lib/python3.10/site-packages/cellxgene_census/experimental/ml/pytorch.py(494): _init\n  /home/fujoshua/cell_classification/env/lib/python3.10/site-packages/cellxgene_census/experimental/ml/pytorch.py(651): shape\n  /tmp/ipykernel_2529267/1568377421.py(1): <module>\n  /home/fujoshua/cell_classification/env/lib/python3.10/site-packages/IPython/core/interactiveshell.py(3508): run_code\n  /home/fujoshua/cell_classification/env/lib/python3.10/site-packages/IPython/core/interactiveshell.py(3448): run_ast_nodes\n  /home/fujoshua/cell_classification/env/lib/python3.10/site-packages/IPython/core/interactiveshell.py(3269): run_cell_async\n  /home/fujoshua/cell_classification/env/lib/python3.10/site-packages/IPython/core/async_helpers.py(129): _pseudo_sync_runner\n  /home/fujoshua/cell_classification/env/lib/python3.10/site-packages/IPython/core/interactiveshell.py(3064): _run_cell\n  /home/fujoshua/cell_classification/env/lib/python3.10/site-packages/IPython/core/interactiveshell.py(3009): run_cell\n  /home/fujoshua/cell_classification/env/lib/python3.10/site-packages/ipykernel/zmqshell.py(540): run_cell\n  /home/fujoshua/cell_classification/env/lib/python3.10/site-packages/ipykernel/ipkernel.py(422): do_execute\n  /home/fujoshua/cell_classification/env/lib/python3.10/site-packages/ipykernel/kernelbase.py(729): execute_request\n  /home/fujoshua/cell_classification/env/lib/python3.10/site-packages/ipykernel/kernelbase.py(409): dispatch_shell\n  /home/fujoshua/cell_classification/env/lib/python3.10/site-packages/ipykernel/kernelbase.py(502): process_one\n  /home/fujoshua/cell_classification/env/lib/python3.10/site-packages/ipykernel/kernelbase.py(513): dispatch_queue\n  /sw/pkgs/arc/python3.10-anaconda/2023.03/lib/python3.10/asyncio/events.py(80): _run\n  /sw/pkgs/arc/python3.10-anaconda/2023.03/lib/python3.10/asyncio/base_events.py(1906): _run_once\n  /sw/pkgs/arc/python3.10-anaconda/2023.03/lib/python3.10/asyncio/base_events.py(603): run_forever\n  /home/fujoshua/cell_classification/env/lib/python3.10/site-packages/tornado/platform/asyncio.py(195): start\n  /home/fujoshua/cell_classification/env/lib/python3.10/site-packages/ipykernel/kernelapp.py(725): start\n  /home/fujoshua/cell_classification/env/lib/python3.10/site-packages/traitlets/config/application.py(1043): launch_instance\n  /home/fujoshua/cell_classification/env/lib/python3.10/site-packages/ipykernel_launcher.py(17): <module>\n  /sw/pkgs/arc/python3.10-anaconda/2023.03/lib/python3.10/runpy.py(86): _run_code\n  /sw/pkgs/arc/python3.10-anaconda/2023.03/lib/python3.10/runpy.py(196): _run_module_as_main\n",
     "output_type": "error",
     "traceback": [
      "\u001b[0;31m---------------------------------------------------------------------------\u001b[0m",
      "\u001b[0;31mSOMAError\u001b[0m                                 Traceback (most recent call last)",
      "Cell \u001b[0;32mIn[59], line 1\u001b[0m\n\u001b[0;32m----> 1\u001b[0m \u001b[43mexperiment_datapipe\u001b[49m\u001b[38;5;241;43m.\u001b[39;49m\u001b[43mshape\u001b[49m\n",
      "File \u001b[0;32m~/cell_classification/env/lib/python3.10/site-packages/cellxgene_census/experimental/ml/pytorch.py:651\u001b[0m, in \u001b[0;36mExperimentDataPipe.shape\u001b[0;34m(self)\u001b[0m\n\u001b[1;32m    638\u001b[0m \u001b[38;5;129m@property\u001b[39m\n\u001b[1;32m    639\u001b[0m \u001b[38;5;28;01mdef\u001b[39;00m \u001b[38;5;21mshape\u001b[39m(\u001b[38;5;28mself\u001b[39m) \u001b[38;5;241m-\u001b[39m\u001b[38;5;241m>\u001b[39m Tuple[\u001b[38;5;28mint\u001b[39m, \u001b[38;5;28mint\u001b[39m]:\n\u001b[1;32m    640\u001b[0m \u001b[38;5;250m    \u001b[39m\u001b[38;5;124;03m\"\"\"Get the shape of the data that will be returned by this :class:`cellxgene_census.experimental.ml.pytorch.ExperimentDataPipe`.\u001b[39;00m\n\u001b[1;32m    641\u001b[0m \u001b[38;5;124;03m    This is the number of obs (cell) and var (feature) counts in the returned data. If used in multiprocessing mode\u001b[39;00m\n\u001b[1;32m    642\u001b[0m \u001b[38;5;124;03m    (i.e. :class:`torch.utils.data.DataLoader` instantiated with num_workers > 0), the obs (cell) count will reflect\u001b[39;00m\n\u001b[0;32m   (...)\u001b[0m\n\u001b[1;32m    649\u001b[0m \u001b[38;5;124;03m        experimental\u001b[39;00m\n\u001b[1;32m    650\u001b[0m \u001b[38;5;124;03m    \"\"\"\u001b[39;00m\n\u001b[0;32m--> 651\u001b[0m     \u001b[38;5;28;43mself\u001b[39;49m\u001b[38;5;241;43m.\u001b[39;49m\u001b[43m_init\u001b[49m\u001b[43m(\u001b[49m\u001b[43m)\u001b[49m\n\u001b[1;32m    652\u001b[0m     \u001b[38;5;28;01massert\u001b[39;00m \u001b[38;5;28mself\u001b[39m\u001b[38;5;241m.\u001b[39m_obs_joinids \u001b[38;5;129;01mis\u001b[39;00m \u001b[38;5;129;01mnot\u001b[39;00m \u001b[38;5;28;01mNone\u001b[39;00m\n\u001b[1;32m    653\u001b[0m     \u001b[38;5;28;01massert\u001b[39;00m \u001b[38;5;28mself\u001b[39m\u001b[38;5;241m.\u001b[39m_var_joinids \u001b[38;5;129;01mis\u001b[39;00m \u001b[38;5;129;01mnot\u001b[39;00m \u001b[38;5;28;01mNone\u001b[39;00m\n",
      "File \u001b[0;32m~/cell_classification/env/lib/python3.10/site-packages/cellxgene_census/experimental/ml/pytorch.py:494\u001b[0m, in \u001b[0;36mExperimentDataPipe._init\u001b[0;34m(self)\u001b[0m\n\u001b[1;32m    486\u001b[0m query \u001b[38;5;241m=\u001b[39m exp\u001b[38;5;241m.\u001b[39maxis_query(\n\u001b[1;32m    487\u001b[0m     measurement_name\u001b[38;5;241m=\u001b[39m\u001b[38;5;28mself\u001b[39m\u001b[38;5;241m.\u001b[39mmeasurement_name,\n\u001b[1;32m    488\u001b[0m     obs_query\u001b[38;5;241m=\u001b[39m\u001b[38;5;28mself\u001b[39m\u001b[38;5;241m.\u001b[39mobs_query,\n\u001b[1;32m    489\u001b[0m     var_query\u001b[38;5;241m=\u001b[39m\u001b[38;5;28mself\u001b[39m\u001b[38;5;241m.\u001b[39mvar_query,\n\u001b[1;32m    490\u001b[0m )\n\u001b[1;32m    492\u001b[0m \u001b[38;5;66;03m# The to_numpy() call is a workaround for a possible bug in TileDB-SOMA:\u001b[39;00m\n\u001b[1;32m    493\u001b[0m \u001b[38;5;66;03m# https://github.com/single-cell-data/TileDB-SOMA/issues/1456\u001b[39;00m\n\u001b[0;32m--> 494\u001b[0m \u001b[38;5;28mself\u001b[39m\u001b[38;5;241m.\u001b[39m_obs_joinids \u001b[38;5;241m=\u001b[39m \u001b[43mquery\u001b[49m\u001b[38;5;241;43m.\u001b[39;49m\u001b[43mobs_joinids\u001b[49m\u001b[43m(\u001b[49m\u001b[43m)\u001b[49m\u001b[38;5;241m.\u001b[39mto_numpy()\n\u001b[1;32m    495\u001b[0m \u001b[38;5;28mself\u001b[39m\u001b[38;5;241m.\u001b[39m_var_joinids \u001b[38;5;241m=\u001b[39m query\u001b[38;5;241m.\u001b[39mvar_joinids()\u001b[38;5;241m.\u001b[39mto_numpy()\n\u001b[1;32m    497\u001b[0m \u001b[38;5;28mself\u001b[39m\u001b[38;5;241m.\u001b[39m_encoders \u001b[38;5;241m=\u001b[39m \u001b[38;5;28mself\u001b[39m\u001b[38;5;241m.\u001b[39m_build_obs_encoders(query)\n",
      "File \u001b[0;32m~/cell_classification/env/lib/python3.10/site-packages/somacore/query/query.py:167\u001b[0m, in \u001b[0;36mExperimentAxisQuery.obs_joinids\u001b[0;34m(self)\u001b[0m\n\u001b[1;32m    162\u001b[0m \u001b[38;5;28;01mdef\u001b[39;00m \u001b[38;5;21mobs_joinids\u001b[39m(\u001b[38;5;28mself\u001b[39m) \u001b[38;5;241m-\u001b[39m\u001b[38;5;241m>\u001b[39m pa\u001b[38;5;241m.\u001b[39mArray:\n\u001b[1;32m    163\u001b[0m \u001b[38;5;250m    \u001b[39m\u001b[38;5;124;03m\"\"\"Returns ``obs`` ``soma_joinids`` as an Arrow array.\u001b[39;00m\n\u001b[1;32m    164\u001b[0m \n\u001b[1;32m    165\u001b[0m \u001b[38;5;124;03m    Lifecycle: maturing\u001b[39;00m\n\u001b[1;32m    166\u001b[0m \u001b[38;5;124;03m    \"\"\"\u001b[39;00m\n\u001b[0;32m--> 167\u001b[0m     \u001b[38;5;28;01mreturn\u001b[39;00m \u001b[38;5;28;43mself\u001b[39;49m\u001b[38;5;241;43m.\u001b[39;49m\u001b[43m_joinids\u001b[49m\u001b[38;5;241;43m.\u001b[39;49m\u001b[43mobs\u001b[49m\n",
      "File \u001b[0;32m~/cell_classification/env/lib/python3.10/site-packages/somacore/query/query.py:707\u001b[0m, in \u001b[0;36m_JoinIDCache.obs\u001b[0;34m(self)\u001b[0m\n\u001b[1;32m    705\u001b[0m \u001b[38;5;250m\u001b[39m\u001b[38;5;124;03m\"\"\"Join IDs for the obs axis. Will load and cache if not already.\"\"\"\u001b[39;00m\n\u001b[1;32m    706\u001b[0m \u001b[38;5;28;01mif\u001b[39;00m \u001b[38;5;129;01mnot\u001b[39;00m \u001b[38;5;28mself\u001b[39m\u001b[38;5;241m.\u001b[39m_cached_obs:\n\u001b[0;32m--> 707\u001b[0m     \u001b[38;5;28mself\u001b[39m\u001b[38;5;241m.\u001b[39m_cached_obs \u001b[38;5;241m=\u001b[39m \u001b[43m_load_joinids\u001b[49m\u001b[43m(\u001b[49m\n\u001b[1;32m    708\u001b[0m \u001b[43m        \u001b[49m\u001b[38;5;28;43mself\u001b[39;49m\u001b[38;5;241;43m.\u001b[39;49m\u001b[43mowner\u001b[49m\u001b[38;5;241;43m.\u001b[39;49m\u001b[43m_obs_df\u001b[49m\u001b[43m,\u001b[49m\u001b[43m \u001b[49m\u001b[38;5;28;43mself\u001b[39;49m\u001b[38;5;241;43m.\u001b[39;49m\u001b[43mowner\u001b[49m\u001b[38;5;241;43m.\u001b[39;49m\u001b[43m_matrix_axis_query\u001b[49m\u001b[38;5;241;43m.\u001b[39;49m\u001b[43mobs\u001b[49m\n\u001b[1;32m    709\u001b[0m \u001b[43m    \u001b[49m\u001b[43m)\u001b[49m\n\u001b[1;32m    710\u001b[0m \u001b[38;5;28;01mreturn\u001b[39;00m \u001b[38;5;28mself\u001b[39m\u001b[38;5;241m.\u001b[39m_cached_obs\n",
      "File \u001b[0;32m~/cell_classification/env/lib/python3.10/site-packages/somacore/query/query.py:731\u001b[0m, in \u001b[0;36m_load_joinids\u001b[0;34m(df, axq)\u001b[0m\n\u001b[1;32m    730\u001b[0m \u001b[38;5;28;01mdef\u001b[39;00m \u001b[38;5;21m_load_joinids\u001b[39m(df: data\u001b[38;5;241m.\u001b[39mDataFrame, axq: axis\u001b[38;5;241m.\u001b[39mAxisQuery) \u001b[38;5;241m-\u001b[39m\u001b[38;5;241m>\u001b[39m pa\u001b[38;5;241m.\u001b[39mArray:\n\u001b[0;32m--> 731\u001b[0m     tbl \u001b[38;5;241m=\u001b[39m \u001b[43mdf\u001b[49m\u001b[38;5;241;43m.\u001b[39;49m\u001b[43mread\u001b[49m\u001b[43m(\u001b[49m\n\u001b[1;32m    732\u001b[0m \u001b[43m        \u001b[49m\u001b[43maxq\u001b[49m\u001b[38;5;241;43m.\u001b[39;49m\u001b[43mcoords\u001b[49m\u001b[43m,\u001b[49m\n\u001b[1;32m    733\u001b[0m \u001b[43m        \u001b[49m\u001b[43mvalue_filter\u001b[49m\u001b[38;5;241;43m=\u001b[39;49m\u001b[43maxq\u001b[49m\u001b[38;5;241;43m.\u001b[39;49m\u001b[43mvalue_filter\u001b[49m\u001b[43m,\u001b[49m\n\u001b[1;32m    734\u001b[0m \u001b[43m        \u001b[49m\u001b[43mcolumn_names\u001b[49m\u001b[38;5;241;43m=\u001b[39;49m\u001b[43m[\u001b[49m\u001b[38;5;124;43m\"\u001b[39;49m\u001b[38;5;124;43msoma_joinid\u001b[39;49m\u001b[38;5;124;43m\"\u001b[39;49m\u001b[43m]\u001b[49m\u001b[43m,\u001b[49m\n\u001b[1;32m    735\u001b[0m \u001b[43m    \u001b[49m\u001b[43m)\u001b[49m\u001b[38;5;241m.\u001b[39mconcat()\n\u001b[1;32m    736\u001b[0m     \u001b[38;5;28;01mreturn\u001b[39;00m tbl\u001b[38;5;241m.\u001b[39mcolumn(\u001b[38;5;124m\"\u001b[39m\u001b[38;5;124msoma_joinid\u001b[39m\u001b[38;5;124m\"\u001b[39m)\u001b[38;5;241m.\u001b[39mcombine_chunks()\n",
      "File \u001b[0;32m~/cell_classification/env/lib/python3.10/site-packages/tiledbsoma/_dataframe.py:359\u001b[0m, in \u001b[0;36mDataFrame.read\u001b[0;34m(***failed resolving arguments***)\u001b[0m\n\u001b[1;32m    349\u001b[0m sr \u001b[38;5;241m=\u001b[39m clib\u001b[38;5;241m.\u001b[39mSOMADataFrame\u001b[38;5;241m.\u001b[39mopen(\n\u001b[1;32m    350\u001b[0m     uri\u001b[38;5;241m=\u001b[39mhandle\u001b[38;5;241m.\u001b[39muri,\n\u001b[1;32m    351\u001b[0m     mode\u001b[38;5;241m=\u001b[39mclib\u001b[38;5;241m.\u001b[39mOpenMode\u001b[38;5;241m.\u001b[39mread,\n\u001b[0;32m   (...)\u001b[0m\n\u001b[1;32m    355\u001b[0m     timestamp\u001b[38;5;241m=\u001b[39mhandle\u001b[38;5;241m.\u001b[39mtimestamp \u001b[38;5;129;01mand\u001b[39;00m (\u001b[38;5;241m0\u001b[39m, handle\u001b[38;5;241m.\u001b[39mtimestamp),\n\u001b[1;32m    356\u001b[0m )\n\u001b[1;32m    358\u001b[0m \u001b[38;5;28;01mif\u001b[39;00m value_filter \u001b[38;5;129;01mis\u001b[39;00m \u001b[38;5;129;01mnot\u001b[39;00m \u001b[38;5;28;01mNone\u001b[39;00m:\n\u001b[0;32m--> 359\u001b[0m     \u001b[43msr\u001b[49m\u001b[38;5;241;43m.\u001b[39;49m\u001b[43mset_condition\u001b[49m\u001b[43m(\u001b[49m\u001b[43mQueryCondition\u001b[49m\u001b[43m(\u001b[49m\u001b[43mvalue_filter\u001b[49m\u001b[43m)\u001b[49m\u001b[43m,\u001b[49m\u001b[43m \u001b[49m\u001b[43mhandle\u001b[49m\u001b[38;5;241;43m.\u001b[39;49m\u001b[43mschema\u001b[49m\u001b[43m)\u001b[49m\n\u001b[1;32m    361\u001b[0m \u001b[38;5;28mself\u001b[39m\u001b[38;5;241m.\u001b[39m_set_reader_coords(sr, coords)\n\u001b[1;32m    363\u001b[0m \u001b[38;5;66;03m# # TODO: batch_size\u001b[39;00m\n",
      "\u001b[0;31mSOMAError\u001b[0m: SOMAError: `in` operator syntax must be written as `attr in ['l', 'i', 's', 't']`\n\nAt:\n  /home/fujoshua/cell_classification/env/lib/python3.10/site-packages/tiledbsoma/_query_condition.py(141): init_query_condition\n  /home/fujoshua/cell_classification/env/lib/python3.10/site-packages/tiledbsoma/_dataframe.py(359): read\n  /home/fujoshua/cell_classification/env/lib/python3.10/site-packages/somacore/query/query.py(731): _load_joinids\n  /home/fujoshua/cell_classification/env/lib/python3.10/site-packages/somacore/query/query.py(707): obs\n  /home/fujoshua/cell_classification/env/lib/python3.10/site-packages/somacore/query/query.py(167): obs_joinids\n  /home/fujoshua/cell_classification/env/lib/python3.10/site-packages/cellxgene_census/experimental/ml/pytorch.py(494): _init\n  /home/fujoshua/cell_classification/env/lib/python3.10/site-packages/cellxgene_census/experimental/ml/pytorch.py(651): shape\n  /tmp/ipykernel_2529267/1568377421.py(1): <module>\n  /home/fujoshua/cell_classification/env/lib/python3.10/site-packages/IPython/core/interactiveshell.py(3508): run_code\n  /home/fujoshua/cell_classification/env/lib/python3.10/site-packages/IPython/core/interactiveshell.py(3448): run_ast_nodes\n  /home/fujoshua/cell_classification/env/lib/python3.10/site-packages/IPython/core/interactiveshell.py(3269): run_cell_async\n  /home/fujoshua/cell_classification/env/lib/python3.10/site-packages/IPython/core/async_helpers.py(129): _pseudo_sync_runner\n  /home/fujoshua/cell_classification/env/lib/python3.10/site-packages/IPython/core/interactiveshell.py(3064): _run_cell\n  /home/fujoshua/cell_classification/env/lib/python3.10/site-packages/IPython/core/interactiveshell.py(3009): run_cell\n  /home/fujoshua/cell_classification/env/lib/python3.10/site-packages/ipykernel/zmqshell.py(540): run_cell\n  /home/fujoshua/cell_classification/env/lib/python3.10/site-packages/ipykernel/ipkernel.py(422): do_execute\n  /home/fujoshua/cell_classification/env/lib/python3.10/site-packages/ipykernel/kernelbase.py(729): execute_request\n  /home/fujoshua/cell_classification/env/lib/python3.10/site-packages/ipykernel/kernelbase.py(409): dispatch_shell\n  /home/fujoshua/cell_classification/env/lib/python3.10/site-packages/ipykernel/kernelbase.py(502): process_one\n  /home/fujoshua/cell_classification/env/lib/python3.10/site-packages/ipykernel/kernelbase.py(513): dispatch_queue\n  /sw/pkgs/arc/python3.10-anaconda/2023.03/lib/python3.10/asyncio/events.py(80): _run\n  /sw/pkgs/arc/python3.10-anaconda/2023.03/lib/python3.10/asyncio/base_events.py(1906): _run_once\n  /sw/pkgs/arc/python3.10-anaconda/2023.03/lib/python3.10/asyncio/base_events.py(603): run_forever\n  /home/fujoshua/cell_classification/env/lib/python3.10/site-packages/tornado/platform/asyncio.py(195): start\n  /home/fujoshua/cell_classification/env/lib/python3.10/site-packages/ipykernel/kernelapp.py(725): start\n  /home/fujoshua/cell_classification/env/lib/python3.10/site-packages/traitlets/config/application.py(1043): launch_instance\n  /home/fujoshua/cell_classification/env/lib/python3.10/site-packages/ipykernel_launcher.py(17): <module>\n  /sw/pkgs/arc/python3.10-anaconda/2023.03/lib/python3.10/runpy.py(86): _run_code\n  /sw/pkgs/arc/python3.10-anaconda/2023.03/lib/python3.10/runpy.py(196): _run_module_as_main\n"
     ]
    }
   ],
   "source": [
    "experiment_datapipe.shape"
   ]
  },
  {
   "cell_type": "code",
   "execution_count": null,
   "id": "f1373237",
   "metadata": {},
   "outputs": [],
   "source": []
  },
  {
   "cell_type": "code",
   "execution_count": null,
   "id": "15b58334",
   "metadata": {},
   "outputs": [],
   "source": []
  },
  {
   "cell_type": "code",
   "execution_count": null,
   "id": "d96732ca",
   "metadata": {},
   "outputs": [],
   "source": []
  },
  {
   "cell_type": "code",
   "execution_count": 9,
   "id": "483cfde8",
   "metadata": {},
   "outputs": [],
   "source": [
    "experiment = census[\"census_data\"][\"homo_sapiens\"]\n"
   ]
  },
  {
   "cell_type": "code",
   "execution_count": 10,
   "id": "2ff18319",
   "metadata": {},
   "outputs": [],
   "source": [
    "experiment_datapipe = census_ml.ExperimentDataPipe(\n",
    "    experiment,\n",
    "    measurement_name=\"RNA\",\n",
    "    X_name=\"raw\",\n",
    "    obs_query=soma.AxisQuery(value_filter=\"tissue_general == 'tongue' and is_primary_data == True\"),\n",
    "    obs_column_names=[\"cell_type\"],\n",
    "    batch_size=128,\n",
    "    shuffle=True,\n",
    "    soma_chunk_size=10_000,\n",
    ")\n"
   ]
  },
  {
   "cell_type": "code",
   "execution_count": 11,
   "id": "d8414ca2",
   "metadata": {},
   "outputs": [
    {
     "data": {
      "text/plain": [
       "(15020, 60664)"
      ]
     },
     "execution_count": 11,
     "metadata": {},
     "output_type": "execute_result"
    }
   ],
   "source": [
    "experiment_datapipe.shape"
   ]
  },
  {
   "cell_type": "code",
   "execution_count": 12,
   "id": "27802bf9",
   "metadata": {},
   "outputs": [],
   "source": [
    "train_datapipe, test_datapipe = experiment_datapipe.random_split(weights={\"train\": 0.8, \"test\": 0.2}, seed=1)\n"
   ]
  },
  {
   "cell_type": "code",
   "execution_count": 13,
   "id": "c03005b8",
   "metadata": {},
   "outputs": [],
   "source": [
    "experiment_dataloader = census_ml.experiment_dataloader(train_datapipe)\n"
   ]
  },
  {
   "cell_type": "code",
   "execution_count": 15,
   "id": "591f903c",
   "metadata": {},
   "outputs": [],
   "source": [
    "class LogisticRegression(torch.nn.Module):\n",
    "    def __init__(self, input_dim, output_dim):\n",
    "        super(LogisticRegression, self).__init__()  # noqa: UP008\n",
    "        self.linear = torch.nn.Linear(input_dim, output_dim)\n",
    "\n",
    "    def forward(self, x):\n",
    "        outputs = torch.sigmoid(self.linear(x))\n",
    "        return outputs\n"
   ]
  },
  {
   "cell_type": "code",
   "execution_count": 16,
   "id": "09072f3c",
   "metadata": {},
   "outputs": [],
   "source": [
    "def train_epoch(model, train_dataloader, loss_fn, optimizer, device):\n",
    "    model.train()\n",
    "    train_loss = 0\n",
    "    train_correct = 0\n",
    "    train_total = 0\n",
    "\n",
    "    for batch in train_dataloader:\n",
    "        optimizer.zero_grad()\n",
    "        X_batch, y_batch = batch\n",
    "\n",
    "        X_batch = X_batch.float().to(device)\n",
    "\n",
    "        # Perform prediction\n",
    "        outputs = model(X_batch)\n",
    "\n",
    "        # Determine the predicted label\n",
    "        probabilities = torch.nn.functional.softmax(outputs, 1)\n",
    "        predictions = torch.argmax(probabilities, axis=1)\n",
    "\n",
    "        # Compute the loss and perform back propagation\n",
    "\n",
    "        # Exclude the cell_type labels, which are in the second column\n",
    "        y_batch = y_batch[:, 1]\n",
    "        y_batch = y_batch.to(device)\n",
    "\n",
    "        train_correct += (predictions == y_batch).sum().item()\n",
    "        train_total += len(predictions)\n",
    "\n",
    "        loss = loss_fn(outputs, y_batch.long())\n",
    "        train_loss += loss.item()\n",
    "        loss.backward()\n",
    "        optimizer.step()\n",
    "\n",
    "    train_loss /= train_total\n",
    "    train_accuracy = train_correct / train_total\n",
    "    return train_loss, train_accuracy\n"
   ]
  },
  {
   "cell_type": "code",
   "execution_count": 18,
   "id": "dac0b0e5",
   "metadata": {},
   "outputs": [
    {
     "name": "stdout",
     "output_type": "stream",
     "text": [
      "Epoch 1: Train Loss: 0.0185056 Accuracy 0.2145\n",
      "Epoch 2: Train Loss: 0.0162072 Accuracy 0.2665\n",
      "Epoch 3: Train Loss: 0.0149051 Accuracy 0.3136\n"
     ]
    }
   ],
   "source": [
    "device = torch.device(\"cuda\") if torch.cuda.is_available() else torch.device(\"cpu\")\n",
    "\n",
    "# The size of the input dimension is the number of genes\n",
    "input_dim = experiment_datapipe.shape[1]\n",
    "\n",
    "# The size of the output dimension is the number of distinct cell_type values\n",
    "cell_type_encoder = experiment_datapipe.obs_encoders[\"cell_type\"]\n",
    "output_dim = len(cell_type_encoder.classes_)\n",
    "\n",
    "model = LogisticRegression(input_dim, output_dim).to(device)\n",
    "loss_fn = torch.nn.CrossEntropyLoss()\n",
    "optimizer = torch.optim.Adam(model.parameters(), lr=1e-05)\n",
    "\n",
    "for epoch in range(3):\n",
    "    train_loss, train_accuracy = train_epoch(model, experiment_dataloader, loss_fn, optimizer, device)\n",
    "    print(f\"Epoch {epoch + 1}: Train Loss: {train_loss:.7f} Accuracy {train_accuracy:.4f}\")\n"
   ]
  },
  {
   "cell_type": "code",
   "execution_count": 19,
   "id": "9b9d6c2e",
   "metadata": {},
   "outputs": [],
   "source": [
    "experiment_dataloader = census_ml.experiment_dataloader(test_datapipe)\n",
    "X_batch, y_batch = next(iter(experiment_dataloader))\n"
   ]
  },
  {
   "cell_type": "code",
   "execution_count": 20,
   "id": "7f0a8a29",
   "metadata": {},
   "outputs": [
    {
     "data": {
      "text/plain": [
       "tensor([1, 1, 7, 1, 1, 1, 1, 1, 1, 1, 1, 1, 1, 1, 1, 1, 1, 1, 1, 1, 5, 1, 1, 1,\n",
       "        7, 1, 1, 1, 1, 1, 1, 1, 1, 1, 1, 1, 1, 1, 1, 1, 1, 1, 1, 1, 1, 1, 1, 1,\n",
       "        1, 1, 1, 7, 1, 1, 1, 1, 1, 1, 1, 1, 1, 1, 1, 1, 1, 1, 1, 1, 1, 1, 1, 1,\n",
       "        1, 1, 1, 1, 1, 1, 1, 1, 1, 1, 1, 1, 1, 1, 7, 1, 1, 7, 1, 1, 1, 1, 1, 7,\n",
       "        1, 1, 1, 1, 1, 1, 1, 1, 1, 1, 1, 1, 7, 1, 1, 7, 1, 1, 1, 1, 1, 1, 1, 1,\n",
       "        1, 7, 7, 1, 1, 1, 1, 1])"
      ]
     },
     "metadata": {},
     "output_type": "display_data"
    }
   ],
   "source": [
    "model.eval()\n",
    "\n",
    "model.to(device)\n",
    "outputs = model(X_batch.to(device))\n",
    "\n",
    "probabilities = torch.nn.functional.softmax(outputs, 1)\n",
    "predictions = torch.argmax(probabilities, axis=1)\n",
    "\n",
    "display(predictions)\n"
   ]
  },
  {
   "cell_type": "code",
   "execution_count": null,
   "id": "2e82ac91",
   "metadata": {},
   "outputs": [],
   "source": []
  },
  {
   "cell_type": "code",
   "execution_count": null,
   "id": "5c3e3a78",
   "metadata": {},
   "outputs": [],
   "source": []
  },
  {
   "cell_type": "code",
   "execution_count": null,
   "id": "9a857404",
   "metadata": {},
   "outputs": [],
   "source": []
  },
  {
   "cell_type": "code",
   "execution_count": null,
   "id": "fb5cae82",
   "metadata": {},
   "outputs": [],
   "source": []
  },
  {
   "cell_type": "code",
   "execution_count": null,
   "id": "b5a8bc02",
   "metadata": {},
   "outputs": [],
   "source": []
  },
  {
   "cell_type": "code",
   "execution_count": null,
   "id": "41f489a4",
   "metadata": {},
   "outputs": [],
   "source": []
  },
  {
   "cell_type": "code",
   "execution_count": 3,
   "id": "5ddfd0ae",
   "metadata": {},
   "outputs": [],
   "source": [
    "census = cellxgene_census.open_soma(uri = \"/scratch/welchjd_root/welchjd99/fujoshua/soma\")"
   ]
  },
  {
   "cell_type": "code",
   "execution_count": 4,
   "id": "c3f4df59",
   "metadata": {},
   "outputs": [],
   "source": [
    "with cellxgene_census.open_soma(uri = \"/scratch/welchjd_root/welchjd99/fujoshua/soma\") as census:\n",
    "    cell_metadata = census[\"census_data\"][\"homo_sapiens\"].obs.read(\n",
    "        value_filter = \"sex == 'female' and cell_type in ['microglial cell', 'neuron']\",\n",
    "        column_names = [\"assay\", \"cell_type\", \"tissue\", \"tissue_general\", \"suspension_type\", \"disease\"]\n",
    "    )\n"
   ]
  },
  {
   "cell_type": "code",
   "execution_count": 7,
   "id": "1309ae24",
   "metadata": {},
   "outputs": [
    {
     "data": {
      "text/plain": [
       "<tiledbsoma._read_iters.TableReadIter at 0x152b7f2edff0>"
      ]
     },
     "execution_count": 7,
     "metadata": {},
     "output_type": "execute_result"
    }
   ],
   "source": [
    "cell_metadata"
   ]
  },
  {
   "cell_type": "code",
   "execution_count": null,
   "id": "3302a947",
   "metadata": {},
   "outputs": [],
   "source": []
  },
  {
   "cell_type": "code",
   "execution_count": null,
   "id": "166c7aa8",
   "metadata": {},
   "outputs": [],
   "source": [
    "census"
   ]
  },
  {
   "cell_type": "code",
   "execution_count": 5,
   "id": "dbf15d24",
   "metadata": {},
   "outputs": [
    {
     "data": {
      "text/plain": [
       "<Experiment 'file:///scratch/welchjd_root/welchjd99/fujoshua/soma/census_data/homo_sapiens' (CLOSED for 'r')>"
      ]
     },
     "execution_count": 5,
     "metadata": {},
     "output_type": "execute_result"
    }
   ],
   "source": [
    "census[\"census_data\"][\"homo_sapiens\"]"
   ]
  },
  {
   "cell_type": "code",
   "execution_count": 6,
   "id": "6ce8ff43",
   "metadata": {},
   "outputs": [
    {
     "ename": "TileDBError",
     "evalue": "[TileDB::Array] Error: Cannot get array schema; Array is not open",
     "output_type": "error",
     "traceback": [
      "\u001b[0;31m---------------------------------------------------------------------------\u001b[0m",
      "\u001b[0;31mTileDBError\u001b[0m                               Traceback (most recent call last)",
      "Cell \u001b[0;32mIn[6], line 1\u001b[0m\n\u001b[0;32m----> 1\u001b[0m \u001b[43mcensus\u001b[49m\u001b[43m[\u001b[49m\u001b[38;5;124;43m\"\u001b[39;49m\u001b[38;5;124;43mcensus_data\u001b[39;49m\u001b[38;5;124;43m\"\u001b[39;49m\u001b[43m]\u001b[49m\u001b[43m[\u001b[49m\u001b[38;5;124;43m\"\u001b[39;49m\u001b[38;5;124;43mhomo_sapiens\u001b[39;49m\u001b[38;5;124;43m\"\u001b[39;49m\u001b[43m]\u001b[49m\u001b[38;5;241;43m.\u001b[39;49m\u001b[43mobs\u001b[49m\u001b[38;5;241;43m.\u001b[39;49m\u001b[43mread\u001b[49m\u001b[43m(\u001b[49m\n\u001b[1;32m      2\u001b[0m \u001b[43m        \u001b[49m\u001b[43mvalue_filter\u001b[49m\u001b[43m \u001b[49m\u001b[38;5;241;43m=\u001b[39;49m\u001b[43m \u001b[49m\u001b[38;5;124;43m\"\u001b[39;49m\u001b[38;5;124;43msex == \u001b[39;49m\u001b[38;5;124;43m'\u001b[39;49m\u001b[38;5;124;43mfemale\u001b[39;49m\u001b[38;5;124;43m'\u001b[39;49m\u001b[38;5;124;43m and cell_type in [\u001b[39;49m\u001b[38;5;124;43m'\u001b[39;49m\u001b[38;5;124;43mmicroglial cell\u001b[39;49m\u001b[38;5;124;43m'\u001b[39;49m\u001b[38;5;124;43m, \u001b[39;49m\u001b[38;5;124;43m'\u001b[39;49m\u001b[38;5;124;43mneuron\u001b[39;49m\u001b[38;5;124;43m'\u001b[39;49m\u001b[38;5;124;43m]\u001b[39;49m\u001b[38;5;124;43m\"\u001b[39;49m\u001b[43m,\u001b[49m\n\u001b[1;32m      3\u001b[0m \u001b[43m        \u001b[49m\u001b[43mcolumn_names\u001b[49m\u001b[43m \u001b[49m\u001b[38;5;241;43m=\u001b[39;49m\u001b[43m \u001b[49m\u001b[43m[\u001b[49m\u001b[38;5;124;43m\"\u001b[39;49m\u001b[38;5;124;43massay\u001b[39;49m\u001b[38;5;124;43m\"\u001b[39;49m\u001b[43m,\u001b[49m\u001b[43m \u001b[49m\u001b[38;5;124;43m\"\u001b[39;49m\u001b[38;5;124;43mcell_type\u001b[39;49m\u001b[38;5;124;43m\"\u001b[39;49m\u001b[43m,\u001b[49m\u001b[43m \u001b[49m\u001b[38;5;124;43m\"\u001b[39;49m\u001b[38;5;124;43mtissue\u001b[39;49m\u001b[38;5;124;43m\"\u001b[39;49m\u001b[43m,\u001b[49m\u001b[43m \u001b[49m\u001b[38;5;124;43m\"\u001b[39;49m\u001b[38;5;124;43mtissue_general\u001b[39;49m\u001b[38;5;124;43m\"\u001b[39;49m\u001b[43m,\u001b[49m\u001b[43m \u001b[49m\u001b[38;5;124;43m\"\u001b[39;49m\u001b[38;5;124;43msuspension_type\u001b[39;49m\u001b[38;5;124;43m\"\u001b[39;49m\u001b[43m,\u001b[49m\u001b[43m \u001b[49m\u001b[38;5;124;43m\"\u001b[39;49m\u001b[38;5;124;43mdisease\u001b[39;49m\u001b[38;5;124;43m\"\u001b[39;49m\u001b[43m]\u001b[49m\n\u001b[1;32m      4\u001b[0m \u001b[43m    \u001b[49m\u001b[43m)\u001b[49m\n",
      "File \u001b[0;32m~/cell_classification/env/lib/python3.10/site-packages/tiledbsoma/_dataframe.py:359\u001b[0m, in \u001b[0;36mDataFrame.read\u001b[0;34m(***failed resolving arguments***)\u001b[0m\n\u001b[1;32m    349\u001b[0m sr \u001b[38;5;241m=\u001b[39m clib\u001b[38;5;241m.\u001b[39mSOMADataFrame\u001b[38;5;241m.\u001b[39mopen(\n\u001b[1;32m    350\u001b[0m     uri\u001b[38;5;241m=\u001b[39mhandle\u001b[38;5;241m.\u001b[39muri,\n\u001b[1;32m    351\u001b[0m     mode\u001b[38;5;241m=\u001b[39mclib\u001b[38;5;241m.\u001b[39mOpenMode\u001b[38;5;241m.\u001b[39mread,\n\u001b[0;32m   (...)\u001b[0m\n\u001b[1;32m    355\u001b[0m     timestamp\u001b[38;5;241m=\u001b[39mhandle\u001b[38;5;241m.\u001b[39mtimestamp \u001b[38;5;129;01mand\u001b[39;00m (\u001b[38;5;241m0\u001b[39m, handle\u001b[38;5;241m.\u001b[39mtimestamp),\n\u001b[1;32m    356\u001b[0m )\n\u001b[1;32m    358\u001b[0m \u001b[38;5;28;01mif\u001b[39;00m value_filter \u001b[38;5;129;01mis\u001b[39;00m \u001b[38;5;129;01mnot\u001b[39;00m \u001b[38;5;28;01mNone\u001b[39;00m:\n\u001b[0;32m--> 359\u001b[0m     sr\u001b[38;5;241m.\u001b[39mset_condition(QueryCondition(value_filter), \u001b[43mhandle\u001b[49m\u001b[38;5;241;43m.\u001b[39;49m\u001b[43mschema\u001b[49m)\n\u001b[1;32m    361\u001b[0m \u001b[38;5;28mself\u001b[39m\u001b[38;5;241m.\u001b[39m_set_reader_coords(sr, coords)\n\u001b[1;32m    363\u001b[0m \u001b[38;5;66;03m# # TODO: batch_size\u001b[39;00m\n",
      "\u001b[0;31mTileDBError\u001b[0m: [TileDB::Array] Error: Cannot get array schema; Array is not open"
     ]
    }
   ],
   "source": [
    "census[\"census_data\"][\"homo_sapiens\"].obs.read(\n",
    "        value_filter = \"sex == 'female' and cell_type in ['microglial cell', 'neuron']\",\n",
    "        column_names = [\"assay\", \"cell_type\", \"tissue\", \"tissue_general\", \"suspension_type\", \"disease\"]\n",
    "    )"
   ]
  },
  {
   "cell_type": "code",
   "execution_count": null,
   "id": "f1860a95",
   "metadata": {},
   "outputs": [],
   "source": []
  }
 ],
 "metadata": {
  "kernelspec": {
   "display_name": "env",
   "language": "python",
   "name": "env"
  },
  "language_info": {
   "codemirror_mode": {
    "name": "ipython",
    "version": 3
   },
   "file_extension": ".py",
   "mimetype": "text/x-python",
   "name": "python",
   "nbconvert_exporter": "python",
   "pygments_lexer": "ipython3",
   "version": "3.10.9"
  }
 },
 "nbformat": 4,
 "nbformat_minor": 5
}
